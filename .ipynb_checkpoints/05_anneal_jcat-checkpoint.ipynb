{
 "cells": [
  {
   "cell_type": "markdown",
   "metadata": {},
   "source": [
    "## Set up environment"
   ]
  },
  {
   "cell_type": "code",
   "execution_count": 1,
   "metadata": {},
   "outputs": [],
   "source": [
    "%load_ext autoreload\n",
    "%autoreload 2\n",
    "\n",
    "%matplotlib inline"
   ]
  },
  {
   "cell_type": "markdown",
   "metadata": {},
   "source": [
    "## Import all code from previous notebooks"
   ]
  },
  {
   "cell_type": "code",
   "execution_count": 2,
   "metadata": {},
   "outputs": [],
   "source": [
    "#export\n",
    "from exp.nb_04 import *"
   ]
  },
  {
   "cell_type": "markdown",
   "metadata": {},
   "source": [
    "[Jump_to lesson 9 video](https://course.fast.ai/videos/?lesson=9&t=7013)"
   ]
  },
  {
   "cell_type": "markdown",
   "metadata": {},
   "source": [
    "## Get the MNIST training and validation data sets"
   ]
  },
  {
   "cell_type": "code",
   "execution_count": 3,
   "metadata": {},
   "outputs": [],
   "source": [
    "x_train,y_train,x_valid,y_valid = get_data()\n",
    "train_ds,valid_ds = Dataset(x_train, y_train),Dataset(x_valid, y_valid)\n",
    "n_hidden,batch_size = 50,512\n",
    "n_out = y_train.max().item()+1\n",
    "loss_func = F.cross_entropy"
   ]
  },
  {
   "cell_type": "markdown",
   "metadata": {},
   "source": [
    "### package the training and validation datasets into a DataBunch object"
   ]
  },
  {
   "cell_type": "code",
   "execution_count": 4,
   "metadata": {},
   "outputs": [],
   "source": [
    "data = DataBunch(*get_dls(train_ds, valid_ds, batch_size), n_out)"
   ]
  },
  {
   "cell_type": "markdown",
   "metadata": {},
   "source": [
    "### export function that creates a learner object as a container for model, optimizer, loss_func, and data "
   ]
  },
  {
   "cell_type": "code",
   "execution_count": 5,
   "metadata": {},
   "outputs": [],
   "source": [
    "#export\n",
    "def create_learner(model_func, loss_func, data):\n",
    "    return Learner(*model_func(data), loss_func, data)"
   ]
  },
  {
   "cell_type": "markdown",
   "metadata": {},
   "source": [
    "### instantiate learner and runner objects, and run the training loop"
   ]
  },
  {
   "cell_type": "code",
   "execution_count": 6,
   "metadata": {},
   "outputs": [
    {
     "name": "stdout",
     "output_type": "stream",
     "text": [
      "train: [0.660294296875, tensor(0.8097)]\n",
      "valid: [0.32929248046875, tensor(0.9012)]\n",
      "train: [0.292488125, tensor(0.9156)]\n",
      "valid: [0.2441741943359375, tensor(0.9305)]\n",
      "train: [0.23673732421875, tensor(0.9321)]\n",
      "valid: [0.198590771484375, tensor(0.9434)]\n"
     ]
    }
   ],
   "source": [
    "# instantiate a learner object\n",
    "learn = create_learner(get_model, loss_func, data)\n",
    "# instantiate a runner object\n",
    "run = Runner([AvgStatsCallback([accuracy])])\n",
    "# run the training loop\n",
    "run.fit(learn, n_epochs=3)"
   ]
  },
  {
   "cell_type": "markdown",
   "metadata": {},
   "source": [
    "### instantiate learner and runner objects, and run the training loop again, this time with learning_rate = 0.3"
   ]
  },
  {
   "cell_type": "code",
   "execution_count": 7,
   "metadata": {},
   "outputs": [
    {
     "name": "stdout",
     "output_type": "stream",
     "text": [
      "train: [0.77123984375, tensor(0.7951)]\n",
      "valid: [0.369901708984375, tensor(0.8950)]\n",
      "train: [0.3434974609375, tensor(0.9025)]\n",
      "valid: [0.2914107666015625, tensor(0.9174)]\n",
      "train: [0.29159759765625, tensor(0.9160)]\n",
      "valid: [0.25248974609375, tensor(0.9277)]\n"
     ]
    }
   ],
   "source": [
    "# instantiate a learner object\n",
    "learn = create_learner(partial(get_model, learning_rate=0.3), loss_func, data)\n",
    "# instantiate a runner object\n",
    "run = Runner([AvgStatsCallback([accuracy])])\n",
    "# run the training loop for 3 epochs\n",
    "run.fit(learn, n_epochs=3)"
   ]
  },
  {
   "cell_type": "markdown",
   "metadata": {},
   "source": [
    "### export partial get_model function that takes only a learning rate as input "
   ]
  },
  {
   "cell_type": "code",
   "execution_count": 8,
   "metadata": {},
   "outputs": [],
   "source": [
    "#export\n",
    "def get_model_func(learning_rate=0.5): \n",
    "    return partial(get_model, learning_rate=learning_rate)"
   ]
  },
  {
   "cell_type": "markdown",
   "metadata": {},
   "source": [
    "## Annealing"
   ]
  },
  {
   "cell_type": "markdown",
   "metadata": {},
   "source": [
    "We define two new callbacks: the Recorder to save track of the loss and our scheduled learning rate, and a ParamScheduler that can schedule any hyperparameter as long as it's registered in the state_dict of the optimizer. "
   ]
  },
  {
   "cell_type": "markdown",
   "metadata": {},
   "source": [
    "[Jump_to lesson 9 video](https://course.fast.ai/videos/?lesson=9&t=7202)"
   ]
  },
  {
   "cell_type": "code",
   "execution_count": 22,
   "metadata": {},
   "outputs": [],
   "source": [
    "#export\n",
    "class Recorder(Callback):\n",
    "    def begin_fit(self): \n",
    "        self.lrs,self.losses = [],[]\n",
    "\n",
    "    def after_batch(self):\n",
    "        if not self.in_train: return\n",
    "        self.lrs.append(self.opt.param_groups[-1]['lr'])\n",
    "        self.losses.append(self.loss.detach().cpu())        \n",
    "\n",
    "    def plot_lr  (self): plt.plot(self.lrs)\n",
    "    def plot_loss(self): plt.plot(self.losses)\n",
    "\n",
    "class ParamScheduler(Callback):\n",
    "    # ?????what is the function of the _order parameter?????\n",
    "    _order=1\n",
    "    def __init__(self, pname, sched_func): self.pname,self.sched_func = pname,sched_func\n",
    "\n",
    "    def set_param(self):\n",
    "        for pg in self.opt.param_groups:\n",
    "            # pg[self.pname] = self.sched_func(self.n_epochs,self.epoch)\n",
    "            print(self.epoch, self.n_epochs_float)\n",
    "            pg[self.pname] = self.sched_func(self.n_epochs_float)\n",
    "            \n",
    "    def begin_batch(self): \n",
    "        if self.in_train: self.set_param()"
   ]
  },
  {
   "cell_type": "markdown",
   "metadata": {},
   "source": [
    "Let's start with a simple linear schedule going from start to end. It returns a function that takes a `pos` argument (going from 0 to 1) such that this function goes from `start` (at `pos=0`) to `end` (at `pos=1`) in a linear fashion."
   ]
  },
  {
   "cell_type": "markdown",
   "metadata": {},
   "source": [
    "[Jump_to lesson 9 video](https://course.fast.ai/videos/?lesson=9&t=7431)"
   ]
  },
  {
   "cell_type": "code",
   "execution_count": 23,
   "metadata": {},
   "outputs": [],
   "source": [
    "def sched_lin(start, end):\n",
    "    def _inner(start, end, pos): \n",
    "        return start + pos*(end-start)\n",
    "    return partial(_inner, start, end)"
   ]
  },
  {
   "cell_type": "markdown",
   "metadata": {},
   "source": [
    "We can refactor this with a decorator."
   ]
  },
  {
   "cell_type": "markdown",
   "metadata": {},
   "source": [
    "[Jump_to lesson 9 video](https://course.fast.ai/videos/?lesson=9&t=7526)"
   ]
  },
  {
   "cell_type": "code",
   "execution_count": 24,
   "metadata": {},
   "outputs": [],
   "source": [
    "#export\n",
    "def annealer(f):\n",
    "    def _inner(start, end): \n",
    "        return partial(f, start, end)\n",
    "    return _inner\n",
    "\n",
    "@annealer\n",
    "def sched_lin(start, end, pos): \n",
    "    return start + pos*(end-start)"
   ]
  },
  {
   "cell_type": "code",
   "execution_count": 25,
   "metadata": {},
   "outputs": [],
   "source": [
    "# shift-tab works too, in Jupyter!\n",
    "# sched_lin()"
   ]
  },
  {
   "cell_type": "code",
   "execution_count": 26,
   "metadata": {},
   "outputs": [
    {
     "data": {
      "text/plain": [
       "1.3"
      ]
     },
     "execution_count": 26,
     "metadata": {},
     "output_type": "execute_result"
    }
   ],
   "source": [
    "f = sched_lin(1,2)\n",
    "f(0.3)"
   ]
  },
  {
   "cell_type": "markdown",
   "metadata": {},
   "source": [
    "And here are other scheduler functions:"
   ]
  },
  {
   "cell_type": "code",
   "execution_count": 27,
   "metadata": {},
   "outputs": [],
   "source": [
    "#export\n",
    "@annealer\n",
    "def sched_cos(start, end, pos): \n",
    "    return start + (1 + math.cos(math.pi*(1-pos))) * (end-start) / 2\n",
    "@annealer\n",
    "def sched_no(start, end, pos):  \n",
    "    return start\n",
    "@annealer\n",
    "def sched_exp(start, end, pos): \n",
    "    return start * (end/start) ** pos\n",
    "\n",
    "#This monkey-patch is there to be able to plot tensors\n",
    "torch.Tensor.ndim = property(lambda x: len(x.shape))"
   ]
  },
  {
   "cell_type": "markdown",
   "metadata": {},
   "source": [
    "[Jump_to lesson 9 video](https://course.fast.ai/videos/?lesson=9&t=7730)"
   ]
  },
  {
   "cell_type": "code",
   "execution_count": 28,
   "metadata": {},
   "outputs": [
    {
     "data": {
      "image/png": "[encoded data removed]",
      "text/plain": [
       "<Figure size 432x288 with 1 Axes>"
      ]
     },
     "metadata": {
      "needs_background": "light"
     },
     "output_type": "display_data"
    }
   ],
   "source": [
    "annealings = \"NO LINEAR COS EXP\".split()\n",
    "\n",
    "a = torch.arange(0, 100)\n",
    "p = torch.linspace(0.01,1,100)\n",
    "\n",
    "fns = [sched_no, sched_lin, sched_cos, sched_exp]\n",
    "for fn, t in zip(fns, annealings):\n",
    "    f = fn(2, 1e-2)\n",
    "    plt.plot(a, [f(o) for o in p], label=t)\n",
    "plt.legend();"
   ]
  },
  {
   "cell_type": "markdown",
   "metadata": {},
   "source": [
    "In practice, we'll often want to combine different schedulers, the following function does that: it uses `scheds[i]` for `pcts[i]` of the training."
   ]
  },
  {
   "cell_type": "code",
   "execution_count": 29,
   "metadata": {},
   "outputs": [],
   "source": [
    "#export\n",
    "def combine_scheds(pcts, scheds):\n",
    "    assert sum(pcts) == 1.\n",
    "    pcts = tensor([0] + listify(pcts))\n",
    "    assert torch.all(pcts >= 0)\n",
    "    pcts = torch.cumsum(pcts, 0)\n",
    "    def _inner(pos):\n",
    "        idx = (pos >= pcts).nonzero().max()\n",
    "        actual_pos = (pos-pcts[idx]) / (pcts[idx+1]-pcts[idx])\n",
    "        return scheds[idx](actual_pos)\n",
    "    return _inner"
   ]
  },
  {
   "cell_type": "markdown",
   "metadata": {},
   "source": [
    "Here is an example: use 30% of the budget to go from 0.3 to 0.6 following a cosine, then the last 70% of the budget to go from 0.6 to 0.2, still following a cosine."
   ]
  },
  {
   "cell_type": "code",
   "execution_count": 30,
   "metadata": {},
   "outputs": [],
   "source": [
    "sched = combine_scheds([0.3, 0.7], [sched_cos(0.3, 0.6), sched_cos(0.6, 0.2)]) "
   ]
  },
  {
   "cell_type": "code",
   "execution_count": 31,
   "metadata": {},
   "outputs": [
    {
     "data": {
      "text/plain": [
       "[<matplotlib.lines.Line2D at 0x1ff491541d0>]"
      ]
     },
     "execution_count": 31,
     "metadata": {},
     "output_type": "execute_result"
    },
    {
     "data": {
      "image/png": "[encoded data removed]",
      "text/plain": [
       "<Figure size 432x288 with 1 Axes>"
      ]
     },
     "metadata": {
      "needs_background": "light"
     },
     "output_type": "display_data"
    }
   ],
   "source": [
    "plt.plot(a, [sched(o) for o in p])"
   ]
  },
  {
   "cell_type": "markdown",
   "metadata": {},
   "source": [
    "We can use it for training quite easily..."
   ]
  },
  {
   "cell_type": "code",
   "execution_count": 32,
   "metadata": {},
   "outputs": [],
   "source": [
    "callback_funcs = [Recorder,\n",
    "        partial(AvgStatsCallback,accuracy),\n",
    "        partial(ParamScheduler, 'learning_rate', sched)]"
   ]
  },
  {
   "cell_type": "code",
   "execution_count": 33,
   "metadata": {},
   "outputs": [],
   "source": [
    "learn = create_learner(get_model_func(0.3), loss_func, data)\n",
    "run = Runner(callback_funcs=callback_funcs)"
   ]
  },
  {
   "cell_type": "code",
   "execution_count": 34,
   "metadata": {},
   "outputs": [
    {
     "name": "stdout",
     "output_type": "stream",
     "text": [
      "0 0.0\n",
      "0 0.01020408163265306\n",
      "0 0.02040816326530612\n",
      "0 0.030612244897959183\n",
      "0 0.04081632653061224\n",
      "0 0.0510204081632653\n",
      "0 0.06122448979591836\n",
      "0 0.07142857142857142\n",
      "0 0.08163265306122448\n",
      "0 0.09183673469387754\n",
      "0 0.1020408163265306\n",
      "0 0.11224489795918366\n",
      "0 0.12244897959183672\n",
      "0 0.13265306122448978\n",
      "0 0.14285714285714285\n",
      "0 0.15306122448979592\n",
      "0 0.163265306122449\n",
      "0 0.17346938775510207\n",
      "0 0.18367346938775514\n",
      "0 0.1938775510204082\n",
      "0 0.20408163265306128\n",
      "0 0.21428571428571436\n",
      "0 0.22448979591836743\n",
      "0 0.2346938775510205\n",
      "0 0.24489795918367357\n",
      "0 0.25510204081632665\n",
      "0 0.2653061224489797\n",
      "0 0.2755102040816328\n",
      "0 0.28571428571428586\n",
      "0 0.29591836734693894\n",
      "0 0.306122448979592\n",
      "0 0.3163265306122451\n",
      "0 0.32653061224489816\n",
      "0 0.3367346938775512\n",
      "0 0.3469387755102043\n",
      "0 0.3571428571428574\n",
      "0 0.36734693877551045\n",
      "0 0.3775510204081635\n",
      "0 0.3877551020408166\n",
      "0 0.39795918367346966\n",
      "0 0.40816326530612274\n",
      "0 0.4183673469387758\n",
      "0 0.4285714285714289\n",
      "0 0.43877551020408195\n",
      "0 0.448979591836735\n",
      "0 0.4591836734693881\n",
      "0 0.46938775510204117\n",
      "0 0.47959183673469424\n",
      "0 0.4897959183673473\n",
      "0 0.5000000000000003\n",
      "0 0.5102040816326534\n",
      "0 0.5204081632653065\n",
      "0 0.5306122448979596\n",
      "0 0.5408163265306126\n",
      "0 0.5510204081632657\n",
      "0 0.5612244897959188\n",
      "0 0.5714285714285718\n",
      "0 0.5816326530612249\n",
      "0 0.591836734693878\n",
      "0 0.6020408163265311\n",
      "0 0.6122448979591841\n",
      "0 0.6224489795918372\n",
      "0 0.6326530612244903\n",
      "0 0.6428571428571433\n",
      "0 0.6530612244897964\n",
      "0 0.6632653061224495\n",
      "0 0.6734693877551026\n",
      "0 0.6836734693877556\n",
      "0 0.6938775510204087\n",
      "0 0.7040816326530618\n",
      "0 0.7142857142857149\n",
      "0 0.7244897959183679\n",
      "0 0.734693877551021\n",
      "0 0.7448979591836741\n",
      "0 0.7551020408163271\n",
      "0 0.7653061224489802\n",
      "0 0.7755102040816333\n",
      "0 0.7857142857142864\n",
      "0 0.7959183673469394\n",
      "0 0.8061224489795925\n",
      "0 0.8163265306122456\n",
      "0 0.8265306122448987\n",
      "0 0.8367346938775517\n",
      "0 0.8469387755102048\n",
      "0 0.8571428571428579\n",
      "0 0.867346938775511\n",
      "0 0.877551020408164\n",
      "0 0.8877551020408171\n",
      "0 0.8979591836734702\n",
      "0 0.9081632653061232\n",
      "0 0.9183673469387763\n",
      "0 0.9285714285714294\n",
      "0 0.9387755102040825\n",
      "0 0.9489795918367355\n",
      "0 0.9591836734693886\n",
      "0 0.9693877551020417\n",
      "0 0.9795918367346947\n",
      "0 0.9897959183673478\n",
      "train: [0.751316953125, tensor(0.7983)]\n",
      "valid: [0.3441077392578125, tensor(0.9074)]\n",
      "1 0.0\n",
      "1 0.01020408163265306\n",
      "1 0.02040816326530612\n",
      "1 0.030612244897959183\n",
      "1 0.04081632653061224\n",
      "1 0.0510204081632653\n",
      "1 0.06122448979591836\n",
      "1 0.07142857142857142\n",
      "1 0.08163265306122448\n",
      "1 0.09183673469387754\n",
      "1 0.1020408163265306\n",
      "1 0.11224489795918366\n",
      "1 0.12244897959183672\n",
      "1 0.13265306122448978\n",
      "1 0.14285714285714285\n",
      "1 0.15306122448979592\n",
      "1 0.163265306122449\n",
      "1 0.17346938775510207\n",
      "1 0.18367346938775514\n",
      "1 0.1938775510204082\n",
      "1 0.20408163265306128\n",
      "1 0.21428571428571436\n",
      "1 0.22448979591836743\n",
      "1 0.2346938775510205\n",
      "1 0.24489795918367357\n",
      "1 0.25510204081632665\n",
      "1 0.2653061224489797\n",
      "1 0.2755102040816328\n",
      "1 0.28571428571428586\n",
      "1 0.29591836734693894\n",
      "1 0.306122448979592\n",
      "1 0.3163265306122451\n",
      "1 0.32653061224489816\n",
      "1 0.3367346938775512\n",
      "1 0.3469387755102043\n",
      "1 0.3571428571428574\n",
      "1 0.36734693877551045\n",
      "1 0.3775510204081635\n",
      "1 0.3877551020408166\n",
      "1 0.39795918367346966\n",
      "1 0.40816326530612274\n",
      "1 0.4183673469387758\n",
      "1 0.4285714285714289\n",
      "1 0.43877551020408195\n",
      "1 0.448979591836735\n",
      "1 0.4591836734693881\n",
      "1 0.46938775510204117\n",
      "1 0.47959183673469424\n",
      "1 0.4897959183673473\n",
      "1 0.5000000000000003\n",
      "1 0.5102040816326534\n",
      "1 0.5204081632653065\n",
      "1 0.5306122448979596\n",
      "1 0.5408163265306126\n",
      "1 0.5510204081632657\n",
      "1 0.5612244897959188\n",
      "1 0.5714285714285718\n",
      "1 0.5816326530612249\n",
      "1 0.591836734693878\n",
      "1 0.6020408163265311\n",
      "1 0.6122448979591841\n",
      "1 0.6224489795918372\n",
      "1 0.6326530612244903\n",
      "1 0.6428571428571433\n",
      "1 0.6530612244897964\n",
      "1 0.6632653061224495\n",
      "1 0.6734693877551026\n",
      "1 0.6836734693877556\n",
      "1 0.6938775510204087\n",
      "1 0.7040816326530618\n",
      "1 0.7142857142857149\n",
      "1 0.7244897959183679\n",
      "1 0.734693877551021\n",
      "1 0.7448979591836741\n",
      "1 0.7551020408163271\n",
      "1 0.7653061224489802\n",
      "1 0.7755102040816333\n",
      "1 0.7857142857142864\n",
      "1 0.7959183673469394\n",
      "1 0.8061224489795925\n",
      "1 0.8163265306122456\n",
      "1 0.8265306122448987\n",
      "1 0.8367346938775517\n",
      "1 0.8469387755102048\n",
      "1 0.8571428571428579\n",
      "1 0.867346938775511\n",
      "1 0.877551020408164\n",
      "1 0.8877551020408171\n",
      "1 0.8979591836734702\n",
      "1 0.9081632653061232\n",
      "1 0.9183673469387763\n",
      "1 0.9285714285714294\n",
      "1 0.9387755102040825\n",
      "1 0.9489795918367355\n",
      "1 0.9591836734693886\n",
      "1 0.9693877551020417\n",
      "1 0.9795918367346947\n",
      "1 0.9897959183673478\n",
      "train: [0.3495247265625, tensor(0.8983)]\n",
      "valid: [0.2863495361328125, tensor(0.9206)]\n",
      "2 0.0\n",
      "2 0.01020408163265306\n",
      "2 0.02040816326530612\n",
      "2 0.030612244897959183\n",
      "2 0.04081632653061224\n",
      "2 0.0510204081632653\n",
      "2 0.06122448979591836\n",
      "2 0.07142857142857142\n",
      "2 0.08163265306122448\n",
      "2 0.09183673469387754\n",
      "2 0.1020408163265306\n",
      "2 0.11224489795918366\n",
      "2 0.12244897959183672\n",
      "2 0.13265306122448978\n",
      "2 0.14285714285714285\n",
      "2 0.15306122448979592\n",
      "2 0.163265306122449\n",
      "2 0.17346938775510207\n",
      "2 0.18367346938775514\n",
      "2 0.1938775510204082\n",
      "2 0.20408163265306128\n",
      "2 0.21428571428571436\n",
      "2 0.22448979591836743\n",
      "2 0.2346938775510205\n",
      "2 0.24489795918367357\n",
      "2 0.25510204081632665\n",
      "2 0.2653061224489797\n",
      "2 0.2755102040816328\n",
      "2 0.28571428571428586\n",
      "2 0.29591836734693894\n",
      "2 0.306122448979592\n",
      "2 0.3163265306122451\n",
      "2 0.32653061224489816\n",
      "2 0.3367346938775512\n",
      "2 0.3469387755102043\n",
      "2 0.3571428571428574\n",
      "2 0.36734693877551045\n",
      "2 0.3775510204081635\n",
      "2 0.3877551020408166\n",
      "2 0.39795918367346966\n",
      "2 0.40816326530612274\n",
      "2 0.4183673469387758\n",
      "2 0.4285714285714289\n",
      "2 0.43877551020408195\n",
      "2 0.448979591836735\n",
      "2 0.4591836734693881\n",
      "2 0.46938775510204117\n",
      "2 0.47959183673469424\n",
      "2 0.4897959183673473\n",
      "2 0.5000000000000003\n",
      "2 0.5102040816326534\n",
      "2 0.5204081632653065\n",
      "2 0.5306122448979596\n",
      "2 0.5408163265306126\n",
      "2 0.5510204081632657\n",
      "2 0.5612244897959188\n",
      "2 0.5714285714285718\n",
      "2 0.5816326530612249\n",
      "2 0.591836734693878\n",
      "2 0.6020408163265311\n",
      "2 0.6122448979591841\n",
      "2 0.6224489795918372\n",
      "2 0.6326530612244903\n",
      "2 0.6428571428571433\n",
      "2 0.6530612244897964\n",
      "2 0.6632653061224495\n",
      "2 0.6734693877551026\n",
      "2 0.6836734693877556\n",
      "2 0.6938775510204087\n",
      "2 0.7040816326530618\n",
      "2 0.7142857142857149\n",
      "2 0.7244897959183679\n",
      "2 0.734693877551021\n",
      "2 0.7448979591836741\n",
      "2 0.7551020408163271\n",
      "2 0.7653061224489802\n",
      "2 0.7755102040816333\n",
      "2 0.7857142857142864\n",
      "2 0.7959183673469394\n",
      "2 0.8061224489795925\n",
      "2 0.8163265306122456\n",
      "2 0.8265306122448987\n",
      "2 0.8367346938775517\n",
      "2 0.8469387755102048\n",
      "2 0.8571428571428579\n",
      "2 0.867346938775511\n",
      "2 0.877551020408164\n",
      "2 0.8877551020408171\n",
      "2 0.8979591836734702\n",
      "2 0.9081632653061232\n",
      "2 0.9183673469387763\n",
      "2 0.9285714285714294\n",
      "2 0.9387755102040825\n",
      "2 0.9489795918367355\n",
      "2 0.9591836734693886\n",
      "2 0.9693877551020417\n",
      "2 0.9795918367346947\n",
      "2 0.9897959183673478\n",
      "train: [0.295423125, tensor(0.9146)]\n",
      "valid: [0.2571345947265625, tensor(0.9294)]\n"
     ]
    }
   ],
   "source": [
    "# !!!!! scheduling not working yet\n",
    "run.fit(learn, n_epochs = 3)"
   ]
  },
  {
   "cell_type": "markdown",
   "metadata": {},
   "source": [
    "... then check with our recorder if the learning rate followed the right schedule."
   ]
  },
  {
   "cell_type": "code",
   "execution_count": 36,
   "metadata": {},
   "outputs": [
    {
     "data": {
      "image/png": "[encoded data removed]",
      "text/plain": [
       "<Figure size 432x288 with 1 Axes>"
      ]
     },
     "metadata": {
      "needs_background": "light"
     },
     "output_type": "display_data"
    }
   ],
   "source": [
    "# !!!!! find the error in the scheduler\n",
    "run.recorder.plot_lr()"
   ]
  },
  {
   "cell_type": "code",
   "execution_count": 37,
   "metadata": {},
   "outputs": [
    {
     "data": {
      "image/png": "[encoded data removed]",
      "text/plain": [
       "<Figure size 432x288 with 1 Axes>"
      ]
     },
     "metadata": {
      "needs_background": "light"
     },
     "output_type": "display_data"
    }
   ],
   "source": [
    "run.recorder.plot_loss()"
   ]
  },
  {
   "cell_type": "markdown",
   "metadata": {},
   "source": [
    "## Export"
   ]
  },
  {
   "cell_type": "code",
   "execution_count": 38,
   "metadata": {},
   "outputs": [
    {
     "name": "stdout",
     "output_type": "stream",
     "text": [
      "Converted 05_anneal_jcat.ipynb to exp\\nb_05.py\n"
     ]
    }
   ],
   "source": [
    "!python notebook2script.py 05_anneal_jcat.ipynb"
   ]
  },
  {
   "cell_type": "code",
   "execution_count": null,
   "metadata": {},
   "outputs": [],
   "source": []
  }
 ],
 "metadata": {
  "kernelspec": {
   "display_name": "Python 3",
   "language": "python",
   "name": "python3"
  },
  "language_info": {
   "codemirror_mode": {
    "name": "ipython",
    "version": 3
   },
   "file_extension": ".py",
   "mimetype": "text/x-python",
   "name": "python",
   "nbconvert_exporter": "python",
   "pygments_lexer": "ipython3",
   "version": "3.7.3"
  }
 },
 "nbformat": 4,
 "nbformat_minor": 2
}
