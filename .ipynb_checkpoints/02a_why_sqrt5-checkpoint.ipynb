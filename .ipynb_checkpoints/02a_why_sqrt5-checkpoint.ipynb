{
 "cells": [
  {
   "cell_type": "code",
   "execution_count": 1,
   "metadata": {},
   "outputs": [],
   "source": [
    "%load_ext autoreload\n",
    "%autoreload 2\n",
    "\n",
    "%matplotlib inline"
   ]
  },
  {
   "cell_type": "markdown",
   "metadata": {},
   "source": [
    "## Does nn.Conv2d init work well?"
   ]
  },
  {
   "cell_type": "code",
   "execution_count": 2,
   "metadata": {},
   "outputs": [],
   "source": [
    "#export\n",
    "from exp.nb_02 import *\n",
    "\n",
    "def get_data():\n",
    "    path = datasets.download_data(MNIST_URL, ext='.gz')\n",
    "    with gzip.open(path, 'rb') as f:\n",
    "        ((x_train, y_train), (x_valid, y_valid), _) = pickle.load(f, encoding='latin-1')\n",
    "    return map(tensor, (x_train,y_train,x_valid,y_valid))\n",
    "\n",
    "def normalize(x, m, s): return (x-m)/s"
   ]
  },
  {
   "cell_type": "code",
   "execution_count": 3,
   "metadata": {},
   "outputs": [],
   "source": [
    "torch.nn.modules.conv._ConvNd.reset_parameters??"
   ]
  },
  {
   "cell_type": "code",
   "execution_count": 4,
   "metadata": {},
   "outputs": [],
   "source": [
    "# load and normalize the MNIST data\n",
    "x_train,y_train,x_valid,y_valid = get_data()\n",
    "train_mean,train_std = x_train.mean(),x_train.std()\n",
    "x_train = normalize(x_train, train_mean, train_std)\n",
    "x_valid = normalize(x_valid, train_mean, train_std)"
   ]
  },
  {
   "cell_type": "code",
   "execution_count": 5,
   "metadata": {},
   "outputs": [
    {
     "data": {
      "text/plain": [
       "torch.Size([10000, 784])"
      ]
     },
     "execution_count": 5,
     "metadata": {},
     "output_type": "execute_result"
    }
   ],
   "source": [
    "x_valid.shape"
   ]
  },
  {
   "cell_type": "code",
   "execution_count": 6,
   "metadata": {},
   "outputs": [
    {
     "data": {
      "text/plain": [
       "(torch.Size([50000, 1, 28, 28]), torch.Size([10000, 1, 28, 28]))"
      ]
     },
     "execution_count": 6,
     "metadata": {},
     "output_type": "execute_result"
    }
   ],
   "source": [
    "# training set consists of 50,000 images of size 28x28\n",
    "# validation set consists of 10,000 images of size 28x28\n",
    "# view reshapes an array\n",
    "x_train = x_train.view(-1,1,28,28)\n",
    "x_valid = x_valid.view(-1,1,28,28)\n",
    "x_train.shape,x_valid.shape"
   ]
  },
  {
   "cell_type": "code",
   "execution_count": 7,
   "metadata": {},
   "outputs": [
    {
     "data": {
      "text/plain": [
       "(50000, tensor(10))"
      ]
     },
     "execution_count": 7,
     "metadata": {},
     "output_type": "execute_result"
    }
   ],
   "source": [
    "# is the number of training examples\n",
    "n,*_ = x_train.shape\n",
    "# c is number of digits\n",
    "c = y_train.max()+1\n",
    "# nh is number of channels in the hidden layer\n",
    "nh = 32\n",
    "n,c"
   ]
  },
  {
   "cell_type": "code",
   "execution_count": 8,
   "metadata": {},
   "outputs": [],
   "source": [
    "# linear layer nh = 32 channels, 5x5 kernel\n",
    "l1 = nn.Conv2d(1, nh, 5)"
   ]
  },
  {
   "cell_type": "code",
   "execution_count": 9,
   "metadata": {},
   "outputs": [],
   "source": [
    "# subset of validation set\n",
    "x = x_valid[:100]"
   ]
  },
  {
   "cell_type": "code",
   "execution_count": 10,
   "metadata": {},
   "outputs": [
    {
     "data": {
      "text/plain": [
       "torch.Size([100, 1, 28, 28])"
      ]
     },
     "execution_count": 10,
     "metadata": {},
     "output_type": "execute_result"
    }
   ],
   "source": [
    "x.shape"
   ]
  },
  {
   "cell_type": "code",
   "execution_count": 11,
   "metadata": {},
   "outputs": [],
   "source": [
    "def stats(x): return x.mean(),x.std()"
   ]
  },
  {
   "cell_type": "code",
   "execution_count": 12,
   "metadata": {},
   "outputs": [
    {
     "data": {
      "text/plain": [
       "torch.Size([32, 1, 5, 5])"
      ]
     },
     "execution_count": 12,
     "metadata": {},
     "output_type": "execute_result"
    }
   ],
   "source": [
    "# n_output, n_input, 5, 5\n",
    "l1.weight.shape"
   ]
  },
  {
   "cell_type": "code",
   "execution_count": 13,
   "metadata": {},
   "outputs": [
    {
     "data": {
      "text/plain": [
       "Parameter containing:\n",
       "tensor([[[[-5.2809e-02,  6.4810e-02,  1.4186e-01,  1.2788e-01,  8.2810e-02],\n",
       "          [-1.9424e-01, -1.5922e-01,  6.6326e-02,  1.9977e-01, -1.3060e-01],\n",
       "          [ 7.7174e-02, -1.1212e-01,  1.1982e-01, -6.4839e-02,  1.8356e-01],\n",
       "          [ 9.6833e-02, -1.3729e-01, -4.8811e-02,  1.9416e-01, -1.2793e-02],\n",
       "          [-1.9664e-01, -9.3973e-03,  3.4571e-02, -2.9812e-02,  1.3348e-01]]],\n",
       "\n",
       "\n",
       "        [[[-1.1300e-01,  9.9153e-02, -1.5362e-01,  6.6370e-02,  1.3138e-01],\n",
       "          [ 3.0118e-02,  1.8120e-01, -1.0927e-01, -4.2453e-02,  1.1838e-01],\n",
       "          [ 9.2759e-02,  4.7240e-02, -9.1664e-03, -6.4132e-02,  1.9716e-01],\n",
       "          [ 2.8778e-02, -7.4464e-02, -2.5764e-02,  1.1914e-02, -1.9759e-02],\n",
       "          [-1.8960e-01, -1.3807e-01, -7.8418e-02, -1.8564e-01,  1.8458e-01]]],\n",
       "\n",
       "\n",
       "        [[[-8.4170e-02, -1.3850e-01,  1.1542e-01,  1.6365e-01,  1.0588e-01],\n",
       "          [ 1.2976e-01,  5.7654e-02, -1.3596e-01,  1.9529e-01,  6.1403e-02],\n",
       "          [-1.9773e-01,  3.1471e-02,  1.0674e-01, -1.0065e-01,  1.5034e-01],\n",
       "          [ 1.8259e-01,  5.9912e-02,  1.2022e-01,  1.4484e-01, -9.3800e-02],\n",
       "          [ 9.9506e-02,  1.5187e-01,  1.6909e-01,  1.6329e-01, -1.9207e-01]]],\n",
       "\n",
       "\n",
       "        [[[ 1.9420e-01,  1.6285e-02,  1.4879e-01, -3.0203e-02, -1.2121e-01],\n",
       "          [ 3.0291e-02,  1.9833e-01,  1.8040e-01,  9.8167e-02,  1.8077e-01],\n",
       "          [-1.6438e-02, -1.7046e-01, -1.3185e-01,  1.9889e-01,  2.3773e-02],\n",
       "          [ 2.9604e-02,  1.8310e-02,  3.2951e-02, -1.3473e-03, -2.2362e-02],\n",
       "          [-1.0483e-01,  1.8595e-03,  1.1664e-01, -7.7315e-02, -1.5857e-01]]],\n",
       "\n",
       "\n",
       "        [[[-1.4817e-01, -1.1153e-01,  9.3621e-02,  1.0369e-01, -2.0090e-02],\n",
       "          [ 1.8579e-01, -1.5859e-01, -5.7083e-02,  1.3412e-01,  1.4970e-01],\n",
       "          [ 1.0024e-01,  1.5765e-01,  1.1835e-01,  2.3937e-02,  1.8567e-01],\n",
       "          [-1.6240e-01,  1.9942e-01, -1.5945e-01, -1.8337e-02,  1.5707e-01],\n",
       "          [-1.7482e-01, -1.7217e-01, -1.6657e-01, -1.3048e-01,  1.0913e-01]]],\n",
       "\n",
       "\n",
       "        [[[ 2.8824e-02,  1.0376e-01,  1.3879e-01, -7.5666e-02, -1.7191e-01],\n",
       "          [-9.4064e-04,  1.0958e-01, -3.0489e-02,  1.1176e-01, -1.0284e-01],\n",
       "          [-5.3063e-02,  8.3789e-02,  1.1923e-01,  1.5797e-01, -7.4945e-02],\n",
       "          [ 2.0784e-02, -5.8531e-02, -8.5263e-02, -1.2995e-01,  7.3397e-02],\n",
       "          [-6.3017e-02, -1.3208e-01, -1.9747e-01,  1.3894e-01,  4.6456e-02]]],\n",
       "\n",
       "\n",
       "        [[[ 1.9011e-01, -1.9660e-01,  3.1292e-06,  1.5336e-03,  1.1970e-01],\n",
       "          [-1.9136e-01, -6.1297e-02,  3.4614e-02, -1.8109e-01,  7.0176e-03],\n",
       "          [-1.5673e-01,  1.9957e-01,  4.6677e-02, -3.1144e-03, -1.8281e-01],\n",
       "          [-1.4384e-01,  6.5328e-02, -1.9210e-01,  3.4568e-02, -5.5482e-02],\n",
       "          [ 4.0672e-02, -1.1143e-01, -1.7002e-01,  8.4385e-02,  1.7142e-01]]],\n",
       "\n",
       "\n",
       "        [[[ 9.0047e-02,  6.6932e-02,  2.6952e-02,  1.1359e-01, -1.5204e-01],\n",
       "          [-9.9747e-02,  1.7707e-01,  1.4573e-01,  1.9536e-01,  1.9753e-01],\n",
       "          [-6.2054e-02,  1.9106e-01, -6.1462e-02,  1.3137e-01,  1.4724e-01],\n",
       "          [ 3.8517e-02,  1.0967e-01, -1.3642e-01,  1.1665e-02, -7.0594e-02],\n",
       "          [ 1.3641e-01, -4.9205e-02, -1.2637e-01, -1.9183e-01,  1.3946e-01]]],\n",
       "\n",
       "\n",
       "        [[[ 2.3403e-02,  1.4480e-01,  6.7628e-02, -1.9560e-01, -2.6607e-02],\n",
       "          [-1.3869e-01, -1.9407e-01,  1.8361e-01, -1.9622e-01,  8.3460e-02],\n",
       "          [ 1.5645e-01,  1.4858e-01,  8.9975e-02, -1.9651e-01, -3.2261e-02],\n",
       "          [ 7.4004e-02, -9.9973e-02, -3.6688e-02,  1.4274e-01, -8.9781e-02],\n",
       "          [-1.5749e-01,  9.8761e-02, -9.7753e-02, -1.4443e-01, -1.4046e-01]]],\n",
       "\n",
       "\n",
       "        [[[-4.1886e-02,  1.8902e-01,  1.8467e-01, -1.4556e-01,  5.1981e-02],\n",
       "          [-2.6018e-03, -6.0418e-02,  1.4317e-01, -7.0913e-02, -6.8381e-02],\n",
       "          [ 1.6301e-01, -1.8223e-01,  1.6377e-01,  1.5065e-01,  1.9399e-01],\n",
       "          [ 4.1133e-03, -1.5969e-01, -1.9981e-01,  3.3991e-02, -1.3607e-01],\n",
       "          [ 1.1518e-02, -3.7781e-02,  1.7320e-01, -1.0481e-01, -1.3964e-01]]],\n",
       "\n",
       "\n",
       "        [[[ 5.2388e-02, -7.3137e-02,  9.1716e-02, -1.6158e-01, -7.5000e-02],\n",
       "          [ 1.3806e-01, -6.6640e-02,  1.3182e-01,  1.1401e-01,  2.8225e-02],\n",
       "          [ 5.7317e-02,  1.0422e-01,  1.8395e-01, -5.1393e-02,  1.2041e-01],\n",
       "          [ 8.8073e-02, -3.3248e-02, -1.5618e-01,  1.2451e-01,  1.4669e-01],\n",
       "          [ 1.8632e-01,  1.7841e-01,  1.2359e-02, -1.0999e-02,  1.4592e-01]]],\n",
       "\n",
       "\n",
       "        [[[-1.8487e-01,  1.9128e-01,  1.7585e-01, -4.2587e-02,  5.4008e-02],\n",
       "          [-1.5922e-01, -9.1071e-02,  1.6663e-01, -1.3274e-01,  1.4917e-01],\n",
       "          [ 3.0322e-02, -2.2020e-02,  1.6605e-01, -1.0055e-01,  1.7569e-01],\n",
       "          [ 1.2871e-01, -1.0218e-01,  1.9144e-01, -3.3237e-02,  8.4065e-02],\n",
       "          [-1.9098e-01, -1.8308e-01,  1.6055e-01,  1.1918e-01, -1.5732e-01]]],\n",
       "\n",
       "\n",
       "        [[[ 1.2175e-01,  1.3047e-01,  1.1051e-01,  1.2499e-01, -9.1405e-02],\n",
       "          [-1.5897e-02, -1.7474e-01, -6.8076e-02, -8.5962e-02, -1.8027e-01],\n",
       "          [ 1.9056e-01, -3.4366e-02,  1.0055e-01, -1.6668e-01, -8.2513e-02],\n",
       "          [ 5.7164e-02, -1.0135e-01, -1.6727e-01, -8.6022e-02, -1.6715e-01],\n",
       "          [-1.7342e-01,  8.8700e-02,  1.9228e-01, -5.6014e-02,  1.1149e-01]]],\n",
       "\n",
       "\n",
       "        [[[-2.9867e-03, -1.7857e-01,  1.6231e-01,  1.5763e-01, -2.2283e-03],\n",
       "          [ 1.0454e-01,  5.1590e-02,  1.3572e-01,  6.5732e-02, -7.9114e-02],\n",
       "          [-1.3742e-01, -8.8672e-02, -8.9218e-02, -5.4598e-02, -9.5073e-02],\n",
       "          [ 4.5962e-02, -1.2966e-01,  3.5038e-02, -1.6339e-01, -6.4773e-02],\n",
       "          [ 4.8283e-03, -1.9327e-01,  1.6134e-01, -1.4414e-01, -3.6797e-02]]],\n",
       "\n",
       "\n",
       "        [[[ 1.9835e-01, -3.5582e-02, -1.9539e-01,  7.3787e-02, -1.5119e-01],\n",
       "          [ 5.5394e-02,  1.4873e-01, -1.2824e-01, -1.9127e-01, -9.3549e-02],\n",
       "          [-9.0953e-02,  1.4443e-01, -2.7772e-02, -1.2476e-01, -4.2054e-03],\n",
       "          [-1.2602e-02,  1.4175e-01, -1.7714e-01,  1.2796e-01,  1.9591e-01],\n",
       "          [-1.2211e-01,  3.9880e-02,  1.7989e-01,  9.1712e-02, -2.8027e-02]]],\n",
       "\n",
       "\n",
       "        [[[ 8.7558e-02, -1.2405e-01,  1.7181e-01,  1.9119e-02,  4.0491e-02],\n",
       "          [-4.1867e-02, -1.6555e-01, -1.2262e-01,  4.6148e-03, -1.4983e-01],\n",
       "          [-1.6878e-01,  2.0642e-02, -4.3164e-02,  7.4038e-02, -1.8982e-01],\n",
       "          [ 1.2834e-01,  4.3285e-02,  4.8832e-02,  1.1495e-01, -6.8231e-02],\n",
       "          [-8.0492e-02,  1.1111e-01, -1.6710e-01,  6.5111e-02, -1.8754e-01]]],\n",
       "\n",
       "\n",
       "        [[[-1.3958e-01,  9.4350e-02, -1.1188e-01,  1.0399e-01,  1.1860e-01],\n",
       "          [ 2.8262e-02, -1.4761e-01,  1.4848e-01, -1.2563e-01,  1.5624e-01],\n",
       "          [ 8.8307e-02, -7.3941e-02,  8.3415e-02, -4.9844e-02, -7.4948e-02],\n",
       "          [-1.9746e-01, -1.3480e-01, -8.0804e-02, -6.2143e-02, -9.8165e-02],\n",
       "          [ 1.9826e-01, -1.6683e-01, -6.2795e-03, -9.4744e-02, -1.0937e-01]]],\n",
       "\n",
       "\n",
       "        [[[ 2.5612e-02, -1.9758e-01,  7.8818e-02, -5.7385e-02,  1.7538e-01],\n",
       "          [ 1.9380e-01, -5.7849e-02, -5.9293e-03, -9.4893e-02,  8.6543e-03],\n",
       "          [ 1.4057e-01,  1.4964e-01, -8.7967e-02, -1.7654e-01,  1.2713e-01],\n",
       "          [ 1.4706e-01,  1.0155e-01, -1.3222e-01,  1.2269e-01, -1.0855e-01],\n",
       "          [ 1.9268e-01,  1.8361e-01, -1.7253e-01,  1.2223e-01,  7.6699e-02]]],\n",
       "\n",
       "\n",
       "        [[[ 1.3963e-01, -1.7082e-01, -1.4630e-01,  1.3506e-01, -9.6196e-02],\n",
       "          [ 1.1316e-01,  8.9710e-02, -7.3025e-02,  1.6175e-01,  3.5498e-02],\n",
       "          [-1.9320e-01,  1.6151e-02,  1.5723e-01,  1.0680e-01,  1.6581e-01],\n",
       "          [ 6.2840e-02,  9.4937e-02, -1.2976e-01, -1.6504e-02, -1.7040e-01],\n",
       "          [-2.8479e-02,  1.5701e-01, -1.1169e-01, -1.5685e-02, -1.7599e-01]]],\n",
       "\n",
       "\n",
       "        [[[-1.3853e-01,  1.4868e-01,  1.2464e-02, -1.6215e-01, -1.8031e-01],\n",
       "          [ 1.3986e-01,  1.5304e-01, -7.5401e-02,  9.2943e-02, -1.0007e-01],\n",
       "          [-1.2456e-01, -1.8093e-01, -7.6645e-02, -4.7796e-02,  2.6425e-02],\n",
       "          [-9.7246e-02,  4.9286e-02, -1.2178e-01,  3.0791e-02, -4.8894e-02],\n",
       "          [ 2.8729e-02,  1.5316e-02, -7.2719e-02,  1.0277e-01,  5.9161e-03]]],\n",
       "\n",
       "\n",
       "        [[[ 1.2681e-01, -9.0349e-02,  3.9465e-02,  4.8564e-02,  1.7298e-01],\n",
       "          [-1.0270e-02,  1.4990e-01, -5.8162e-02,  4.1558e-02, -1.5263e-01],\n",
       "          [-1.1590e-01, -1.5851e-02,  4.2094e-02, -1.5994e-01, -1.9672e-01],\n",
       "          [ 8.5052e-02, -9.9345e-02,  1.4646e-01,  6.8670e-02,  2.8294e-02],\n",
       "          [ 9.5342e-02, -1.0077e-01, -3.5550e-02,  1.5962e-01, -4.0141e-02]]],\n",
       "\n",
       "\n",
       "        [[[ 1.4353e-01,  1.3025e-01, -3.3664e-02, -7.4153e-03,  2.5681e-02],\n",
       "          [-5.1361e-02, -1.6944e-01, -1.1770e-01, -7.2720e-02,  7.6879e-02],\n",
       "          [-1.7119e-01, -3.3037e-02,  8.8070e-02, -1.3670e-02,  9.9177e-02],\n",
       "          [-5.7773e-02,  6.8641e-02,  1.1558e-01, -1.6348e-01,  4.8924e-02],\n",
       "          [-3.4396e-02, -1.4137e-02,  3.6579e-02, -4.4276e-02,  1.6339e-01]]],\n",
       "\n",
       "\n",
       "        [[[ 5.7152e-02, -1.9416e-01, -6.8715e-02, -2.9525e-02,  1.5276e-01],\n",
       "          [ 1.5947e-01,  1.8914e-01,  4.8009e-04, -2.6763e-02,  1.2578e-01],\n",
       "          [ 1.5786e-01,  5.7653e-02,  1.4015e-01, -1.9107e-01,  9.4828e-02],\n",
       "          [-2.0455e-02,  1.2566e-01,  6.9031e-02,  1.9142e-01,  1.1652e-02],\n",
       "          [-1.3074e-01, -1.1828e-01,  2.4645e-02,  4.8973e-02, -1.0641e-01]]],\n",
       "\n",
       "\n",
       "        [[[-8.3219e-02,  1.4001e-01, -2.7131e-02, -8.6196e-02,  4.7445e-02],\n",
       "          [ 9.2424e-02, -2.6922e-02,  9.2244e-02, -1.5869e-01,  9.8019e-02],\n",
       "          [ 1.7113e-01, -1.4208e-01, -1.9021e-01,  1.6430e-01,  6.4432e-03],\n",
       "          [ 1.5380e-01, -1.4423e-01,  9.3672e-02,  1.8362e-01, -3.9139e-02],\n",
       "          [ 5.0865e-02,  6.3434e-02, -6.2126e-02,  2.8660e-02, -7.8097e-02]]],\n",
       "\n",
       "\n",
       "        [[[ 3.2313e-02,  1.5289e-01, -4.6573e-02,  7.1819e-02,  2.5315e-02],\n",
       "          [-7.0791e-02, -1.5327e-01, -3.1224e-02,  8.4100e-02,  1.3294e-01],\n",
       "          [ 1.9873e-01,  1.7200e-01,  1.3248e-01,  1.4025e-01, -1.1690e-01],\n",
       "          [-1.5427e-01,  6.8412e-02,  1.4985e-01, -9.5106e-02, -6.0536e-02],\n",
       "          [-8.6809e-02,  2.7268e-02,  1.3176e-01,  5.4599e-03, -1.7390e-01]]],\n",
       "\n",
       "\n",
       "        [[[ 1.6748e-01,  6.3804e-02, -1.0671e-01, -1.3545e-01,  8.3060e-02],\n",
       "          [ 1.3233e-01,  5.2614e-02,  1.9407e-01,  1.0228e-01, -1.2863e-01],\n",
       "          [ 1.2088e-01,  1.2065e-01, -1.4047e-01, -4.4341e-02, -4.6009e-02],\n",
       "          [ 1.4799e-01,  8.8555e-03,  1.1222e-01, -1.2214e-02, -1.8126e-01],\n",
       "          [ 2.8371e-02,  8.6178e-02, -6.5744e-04,  5.6055e-03,  5.9945e-02]]],\n",
       "\n",
       "\n",
       "        [[[-1.9725e-01,  1.6439e-01,  9.2036e-02,  3.1034e-02,  7.0689e-02],\n",
       "          [ 1.8720e-01,  1.7413e-01,  1.2458e-01,  4.7268e-02,  1.6825e-01],\n",
       "          [-2.1978e-03,  5.6271e-02,  1.0293e-01,  1.0203e-01, -1.5762e-01],\n",
       "          [ 1.8705e-01,  7.2074e-02, -1.5900e-01, -8.8086e-02,  1.4481e-01],\n",
       "          [ 4.6306e-02, -9.9866e-02,  1.8917e-01, -1.1309e-01,  1.0209e-01]]],\n",
       "\n",
       "\n",
       "        [[[-1.7142e-01, -5.8290e-02, -1.2382e-01, -1.2051e-01, -1.7498e-02],\n",
       "          [ 6.8009e-02, -4.8444e-02, -5.1044e-02, -1.2483e-01,  1.8349e-02],\n",
       "          [ 1.5290e-01, -7.9673e-02, -1.2675e-01, -8.5011e-02, -1.0709e-01],\n",
       "          [ 7.2087e-02,  1.3310e-02, -1.0398e-02, -1.5030e-01,  1.9224e-02],\n",
       "          [-1.4973e-01,  2.5774e-02, -3.0212e-02,  2.7623e-02,  9.5137e-03]]],\n",
       "\n",
       "\n",
       "        [[[-2.1291e-03, -1.8562e-01, -1.2327e-01, -8.2018e-02,  1.8859e-01],\n",
       "          [-1.8991e-02,  7.8055e-02, -3.2497e-02, -8.1927e-02, -1.1049e-01],\n",
       "          [ 5.0109e-02,  2.7912e-02,  1.7697e-01, -1.4638e-01,  9.1922e-02],\n",
       "          [ 9.6269e-02, -8.7513e-02, -1.3685e-01, -1.5085e-01, -1.5394e-01],\n",
       "          [-1.8326e-01,  1.3737e-02,  1.9075e-01, -1.6841e-01, -4.5979e-02]]],\n",
       "\n",
       "\n",
       "        [[[-1.4910e-02, -1.8533e-01,  4.5601e-03, -8.6176e-02,  9.3964e-02],\n",
       "          [ 1.3743e-03, -1.7938e-01, -1.9750e-01, -1.5726e-02,  1.1978e-01],\n",
       "          [ 9.3831e-02, -1.8240e-01,  1.5065e-01,  7.6274e-02, -5.0712e-02],\n",
       "          [ 9.0640e-02,  7.3771e-02, -1.6714e-01,  7.3053e-02,  6.8519e-02],\n",
       "          [-1.6652e-01, -3.4686e-02,  4.5984e-02,  1.2800e-02,  1.6828e-01]]],\n",
       "\n",
       "\n",
       "        [[[-1.7655e-01, -1.2235e-01, -1.2337e-01, -4.0342e-02,  8.2813e-02],\n",
       "          [ 4.7399e-02, -1.3316e-01,  1.7481e-01, -5.1741e-02, -1.1668e-01],\n",
       "          [ 6.4781e-02,  2.3839e-02, -1.9247e-02, -3.4242e-02, -2.1368e-02],\n",
       "          [ 1.0875e-01,  4.9747e-02, -1.2769e-01, -8.4522e-02,  1.6759e-02],\n",
       "          [ 1.8751e-01,  1.2773e-01,  6.1548e-02, -9.1774e-02, -6.1624e-02]]],\n",
       "\n",
       "\n",
       "        [[[-1.0144e-02,  1.6670e-01,  1.6510e-01,  1.9017e-01, -4.8949e-02],\n",
       "          [ 1.8949e-01, -1.7221e-01, -7.7777e-02, -1.5808e-02,  2.8696e-02],\n",
       "          [ 1.8975e-01,  1.5674e-01, -1.7747e-01,  1.9107e-01,  1.1592e-01],\n",
       "          [ 7.7117e-02,  7.9454e-02, -1.7382e-01,  2.2164e-02,  1.8332e-01],\n",
       "          [-1.3792e-01, -7.0475e-02, -4.3716e-02, -1.6798e-01,  1.6847e-01]]]],\n",
       "       requires_grad=True)"
      ]
     },
     "execution_count": 13,
     "metadata": {},
     "output_type": "execute_result"
    }
   ],
   "source": [
    "l1.weight"
   ]
  },
  {
   "cell_type": "code",
   "execution_count": 14,
   "metadata": {},
   "outputs": [
    {
     "data": {
      "text/plain": [
       "((tensor(0.0054, grad_fn=<MeanBackward0>),\n",
       "  tensor(0.1189, grad_fn=<StdBackward0>)),\n",
       " (tensor(-0.0071, grad_fn=<MeanBackward0>),\n",
       "  tensor(0.1102, grad_fn=<StdBackward0>)))"
      ]
     },
     "execution_count": 14,
     "metadata": {},
     "output_type": "execute_result"
    }
   ],
   "source": [
    "# mean and std\n",
    "stats(l1.weight),stats(l1.bias)"
   ]
  },
  {
   "cell_type": "code",
   "execution_count": 15,
   "metadata": {},
   "outputs": [
    {
     "data": {
      "text/plain": [
       "torch.Size([100, 32, 24, 24])"
      ]
     },
     "execution_count": 15,
     "metadata": {},
     "output_type": "execute_result"
    }
   ],
   "source": [
    "# apply the linear layer to the reduced validation set input data\n",
    "# why 24 x 24, something to do with padding and stride \n",
    "t = l1(x)\n",
    "t.shape"
   ]
  },
  {
   "cell_type": "code",
   "execution_count": 16,
   "metadata": {},
   "outputs": [
    {
     "data": {
      "text/plain": [
       "(tensor(0.0061, grad_fn=<MeanBackward0>),\n",
       " tensor(0.6882, grad_fn=<StdBackward0>))"
      ]
     },
     "execution_count": 16,
     "metadata": {},
     "output_type": "execute_result"
    }
   ],
   "source": [
    "# mean and std\n",
    "stats(t)"
   ]
  },
  {
   "cell_type": "code",
   "execution_count": 17,
   "metadata": {},
   "outputs": [
    {
     "data": {
      "text/plain": [
       "(tensor(0.0214, grad_fn=<MeanBackward0>),\n",
       " tensor(1.0110, grad_fn=<StdBackward0>))"
      ]
     },
     "execution_count": 17,
     "metadata": {},
     "output_type": "execute_result"
    }
   ],
   "source": [
    "# for linear layer a = 1\n",
    "# a is the slope of the negative branch of the relu\n",
    "init.kaiming_normal_(l1.weight, a=1.)\n",
    "# initialized layer is close to zero mean and unit variance\n",
    "stats(l1(x))"
   ]
  },
  {
   "cell_type": "code",
   "execution_count": 18,
   "metadata": {},
   "outputs": [],
   "source": [
    "import torch.nn.functional as F"
   ]
  },
  {
   "cell_type": "code",
   "execution_count": 19,
   "metadata": {},
   "outputs": [],
   "source": [
    "# define a standard relu (a = 0)\n",
    "def f1(x,a=0): return F.leaky_relu(l1(x),a)"
   ]
  },
  {
   "cell_type": "code",
   "execution_count": 20,
   "metadata": {},
   "outputs": [
    {
     "data": {
      "text/plain": [
       "(tensor(0.5387, grad_fn=<MeanBackward0>),\n",
       " tensor(0.9474, grad_fn=<StdBackward0>))"
      ]
     },
     "execution_count": 20,
     "metadata": {},
     "output_type": "execute_result"
    }
   ],
   "source": [
    "# relu\n",
    "init.kaiming_normal_(l1.weight, a=0)\n",
    "stats(f1(x))"
   ]
  },
  {
   "cell_type": "code",
   "execution_count": 21,
   "metadata": {},
   "outputs": [
    {
     "data": {
      "text/plain": [
       "(tensor(0.2072, grad_fn=<MeanBackward0>),\n",
       " tensor(0.3980, grad_fn=<StdBackward0>))"
      ]
     },
     "execution_count": 21,
     "metadata": {},
     "output_type": "execute_result"
    }
   ],
   "source": [
    "# linear layer\n",
    "l1 = nn.Conv2d(1, nh, 5)\n",
    "stats(f1(x))"
   ]
  },
  {
   "cell_type": "code",
   "execution_count": 22,
   "metadata": {},
   "outputs": [
    {
     "data": {
      "text/plain": [
       "torch.Size([32, 1, 5, 5])"
      ]
     },
     "execution_count": 22,
     "metadata": {},
     "output_type": "execute_result"
    }
   ],
   "source": [
    "# linear convolution layer\n",
    "l1.weight.shape"
   ]
  },
  {
   "cell_type": "code",
   "execution_count": 23,
   "metadata": {},
   "outputs": [
    {
     "data": {
      "text/plain": [
       "tensor([[ 0.0605,  0.1028, -0.0179,  0.0731, -0.0232],\n",
       "        [ 0.0402, -0.0461,  0.0979, -0.1891, -0.0516],\n",
       "        [-0.1229, -0.0199, -0.1008, -0.1345,  0.1178],\n",
       "        [ 0.1268,  0.1474, -0.0665, -0.0019, -0.1572],\n",
       "        [-0.1113,  0.0098, -0.0895,  0.1976,  0.1246]],\n",
       "       grad_fn=<SelectBackward>)"
      ]
     },
     "execution_count": 23,
     "metadata": {},
     "output_type": "execute_result"
    }
   ],
   "source": [
    "l1.weight[0,0]"
   ]
  },
  {
   "cell_type": "code",
   "execution_count": 24,
   "metadata": {},
   "outputs": [
    {
     "data": {
      "text/plain": [
       "25"
      ]
     },
     "execution_count": 24,
     "metadata": {},
     "output_type": "execute_result"
    }
   ],
   "source": [
    "# receptive field size\n",
    "rec_fs = l1.weight[0,0].numel()\n",
    "rec_fs"
   ]
  },
  {
   "cell_type": "code",
   "execution_count": 25,
   "metadata": {},
   "outputs": [
    {
     "data": {
      "text/plain": [
       "(32, 1)"
      ]
     },
     "execution_count": 25,
     "metadata": {},
     "output_type": "execute_result"
    }
   ],
   "source": [
    "# nf = number of filters (channels)\n",
    "nf,ni,*_ = l1.weight.shape\n",
    "nf,ni"
   ]
  },
  {
   "cell_type": "code",
   "execution_count": 26,
   "metadata": {},
   "outputs": [
    {
     "data": {
      "text/plain": [
       "(25, 800)"
      ]
     },
     "execution_count": 26,
     "metadata": {},
     "output_type": "execute_result"
    }
   ],
   "source": [
    "fan_in  = ni*rec_fs\n",
    "fan_out = nf*rec_fs\n",
    "fan_in,fan_out"
   ]
  },
  {
   "cell_type": "code",
   "execution_count": 27,
   "metadata": {},
   "outputs": [],
   "source": [
    "# what is the origin of this formula? \n",
    "# for linear layer a=1, so gain = 1\n",
    "# for relu, a = 0, so gain = sqrt(2)\n",
    "# when a = sqrt(5), gain = 1/sqrt(3) = 0.577\n",
    "def gain(a): return math.sqrt(2.0 / (1 + a**2))"
   ]
  },
  {
   "cell_type": "code",
   "execution_count": 28,
   "metadata": {},
   "outputs": [
    {
     "data": {
      "text/plain": [
       "(1.0,\n",
       " 1.4142135623730951,\n",
       " 1.4141428569978354,\n",
       " 1.4071950894605838,\n",
       " 0.5773502691896257)"
      ]
     },
     "execution_count": 28,
     "metadata": {},
     "output_type": "execute_result"
    }
   ],
   "source": [
    "gain(1),gain(0),gain(0.01),gain(0.1),gain(math.sqrt(5.))"
   ]
  },
  {
   "cell_type": "code",
   "execution_count": 29,
   "metadata": {},
   "outputs": [
    {
     "data": {
      "text/plain": [
       "tensor(0.5771)"
      ]
     },
     "execution_count": 29,
     "metadata": {},
     "output_type": "execute_result"
    }
   ],
   "source": [
    "torch.zeros(100000).uniform_(-1,1).std()"
   ]
  },
  {
   "cell_type": "code",
   "execution_count": 30,
   "metadata": {},
   "outputs": [
    {
     "data": {
      "text/plain": [
       "0.5773502691896258"
      ]
     },
     "execution_count": 30,
     "metadata": {},
     "output_type": "execute_result"
    }
   ],
   "source": [
    "1/math.sqrt(3.)"
   ]
  },
  {
   "cell_type": "code",
   "execution_count": 31,
   "metadata": {},
   "outputs": [],
   "source": [
    "def kaiming2(x,a, use_fan_out=False):\n",
    "    nf,ni,*_ = x.shape\n",
    "    print(nf,ni)\n",
    "    rec_fs = x[0,0].shape.numel()\n",
    "    print(rec_fs)\n",
    "    fan = nf*rec_fs if use_fan_out else ni*rec_fs\n",
    "    print(fan)\n",
    "    std = gain(a) / math.sqrt(fan)\n",
    "    print(std)\n",
    "    bound = math.sqrt(3.) * std\n",
    "    x.data.uniform_(-bound,bound)"
   ]
  },
  {
   "cell_type": "code",
   "execution_count": 32,
   "metadata": {},
   "outputs": [
    {
     "name": "stdout",
     "output_type": "stream",
     "text": [
      "32 1\n",
      "25\n",
      "25\n",
      "0.282842712474619\n",
      "0.282842712474619\n"
     ]
    }
   ],
   "source": [
    "# rele\n",
    "kaiming2(l1.weight, a=0);\n",
    "stats(f1(x))\n",
    "print(math.sqrt(2)/5)"
   ]
  },
  {
   "cell_type": "code",
   "execution_count": 33,
   "metadata": {},
   "outputs": [
    {
     "name": "stdout",
     "output_type": "stream",
     "text": [
      "32 1\n",
      "25\n",
      "25\n",
      "0.11547005383792515\n"
     ]
    },
    {
     "data": {
      "text/plain": [
       "(tensor(0.1848, grad_fn=<MeanBackward0>),\n",
       " tensor(0.3702, grad_fn=<StdBackward0>))"
      ]
     },
     "execution_count": 33,
     "metadata": {},
     "output_type": "execute_result"
    }
   ],
   "source": [
    "kaiming2(l1.weight, a=math.sqrt(5.))\n",
    "stats(f1(x))"
   ]
  },
  {
   "cell_type": "code",
   "execution_count": 34,
   "metadata": {},
   "outputs": [],
   "source": [
    "class Flatten(nn.Module):\n",
    "    def forward(self,x): return x.view(-1)"
   ]
  },
  {
   "cell_type": "code",
   "execution_count": 35,
   "metadata": {},
   "outputs": [],
   "source": [
    "m = nn.Sequential(\n",
    "    nn.Conv2d(1,8, 5,stride=2,padding=2), nn.ReLU(),\n",
    "    nn.Conv2d(8,16,3,stride=2,padding=1), nn.ReLU(),\n",
    "    nn.Conv2d(16,32,3,stride=2,padding=1), nn.ReLU(),\n",
    "    nn.Conv2d(32,1,3,stride=2,padding=1),\n",
    "    nn.AdaptiveAvgPool2d(1),\n",
    "    Flatten(),\n",
    ")"
   ]
  },
  {
   "cell_type": "code",
   "execution_count": 36,
   "metadata": {},
   "outputs": [],
   "source": [
    "y = y_valid[:100].float()"
   ]
  },
  {
   "cell_type": "code",
   "execution_count": 37,
   "metadata": {},
   "outputs": [
    {
     "data": {
      "text/plain": [
       "(tensor(-0.0180, grad_fn=<MeanBackward0>),\n",
       " tensor(0.0149, grad_fn=<StdBackward0>))"
      ]
     },
     "execution_count": 37,
     "metadata": {},
     "output_type": "execute_result"
    }
   ],
   "source": [
    "t = m(x)\n",
    "stats(t)"
   ]
  },
  {
   "cell_type": "code",
   "execution_count": 38,
   "metadata": {},
   "outputs": [],
   "source": [
    "l = mse(t,y)\n",
    "l.backward()"
   ]
  },
  {
   "cell_type": "code",
   "execution_count": 39,
   "metadata": {},
   "outputs": [
    {
     "data": {
      "text/plain": [
       "(tensor(-0.0134), tensor(0.0405))"
      ]
     },
     "execution_count": 39,
     "metadata": {},
     "output_type": "execute_result"
    }
   ],
   "source": [
    "stats(m[0].weight.grad)"
   ]
  },
  {
   "cell_type": "code",
   "execution_count": 40,
   "metadata": {},
   "outputs": [],
   "source": [
    "init.kaiming_uniform_??"
   ]
  },
  {
   "cell_type": "code",
   "execution_count": 41,
   "metadata": {},
   "outputs": [],
   "source": [
    "for l in m:\n",
    "    if isinstance(l,nn.Conv2d):\n",
    "        init.kaiming_uniform_(l.weight)\n",
    "        l.bias.data.zero_()"
   ]
  },
  {
   "cell_type": "code",
   "execution_count": 42,
   "metadata": {},
   "outputs": [
    {
     "data": {
      "text/plain": [
       "(tensor(-0.1487, grad_fn=<MeanBackward0>),\n",
       " tensor(0.2723, grad_fn=<StdBackward0>))"
      ]
     },
     "execution_count": 42,
     "metadata": {},
     "output_type": "execute_result"
    }
   ],
   "source": [
    "t = m(x)\n",
    "stats(t)"
   ]
  },
  {
   "cell_type": "code",
   "execution_count": 43,
   "metadata": {},
   "outputs": [
    {
     "data": {
      "text/plain": [
       "(tensor(-0.0114), tensor(0.4373))"
      ]
     },
     "execution_count": 43,
     "metadata": {},
     "output_type": "execute_result"
    }
   ],
   "source": [
    "l = mse(t,y)\n",
    "l.backward()\n",
    "stats(m[0].weight.grad)"
   ]
  },
  {
   "cell_type": "markdown",
   "metadata": {},
   "source": [
    "## Export"
   ]
  },
  {
   "cell_type": "code",
   "execution_count": 44,
   "metadata": {},
   "outputs": [],
   "source": [
    "\n",
    "#!./notebook2script.py 02a_why_sqrt5.ipynb\n",
    "!notebook2script.py 02a_why_sqrt5.ipynb"
   ]
  },
  {
   "cell_type": "code",
   "execution_count": null,
   "metadata": {},
   "outputs": [],
   "source": []
  }
 ],
 "metadata": {
  "kernelspec": {
   "display_name": "Python 3",
   "language": "python",
   "name": "python3"
  },
  "language_info": {
   "codemirror_mode": {
    "name": "ipython",
    "version": 3
   },
   "file_extension": ".py",
   "mimetype": "text/x-python",
   "name": "python",
   "nbconvert_exporter": "python",
   "pygments_lexer": "ipython3",
   "version": "3.7.3"
  }
 },
 "nbformat": 4,
 "nbformat_minor": 2
}
