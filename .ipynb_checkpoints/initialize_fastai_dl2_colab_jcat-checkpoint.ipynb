{
 "cells": [
  {
   "cell_type": "markdown",
   "metadata": {
    "colab_type": "text",
    "id": "e4pvAkpJ1TxS"
   },
   "source": [
    "## **Run this notebook to initialize the \"Fastai Deep Learning From the Foundations\" course in Colab**"
   ]
  },
  {
   "cell_type": "markdown",
   "metadata": {
    "colab_type": "text",
    "id": "EA5tt7l5reQN"
   },
   "source": [
    "## 1. Make your Google Drive accessible"
   ]
  },
  {
   "cell_type": "code",
   "execution_count": 0,
   "metadata": {
    "colab": {},
    "colab_type": "code",
    "id": "XmNfXD52MTre"
   },
   "outputs": [],
   "source": [
    "# make your Google Drive accessible\n",
    "from google.colab import drive\n",
    "drive.mount('/content/gdrive', force_remount=True)\n",
    "root_dir = \"/content/gdrive/My Drive/\"\n",
    "base_dir = root_dir + 'fastai-v3/course-v3/nbs/dl2/'\n"
   ]
  },
  {
   "cell_type": "markdown",
   "metadata": {
    "colab_type": "text",
    "id": "gHuZ-H04rsy2"
   },
   "source": [
    "## 2. Update fastai, according to instructions at https://course.fast.ai/start_colab.html"
   ]
  },
  {
   "cell_type": "code",
   "execution_count": 0,
   "metadata": {
    "colab": {},
    "colab_type": "code",
    "id": "bAfi87PiRBwD"
   },
   "outputs": [],
   "source": [
    "# update fastai, according to instructions at https://course.fast.ai/start_colab.html\n",
    "!curl -s https://course.fast.ai/setup/colab | bash"
   ]
  },
  {
   "cell_type": "markdown",
   "metadata": {
    "colab_type": "text",
    "id": "DrHH_dH9r-Ni"
   },
   "source": [
    "## 3. Install fire and nbconvert\n",
    "###  [Python Fire](https://pypi.org/project/fire/) is a library for automatically generating command line interfaces (CLIs) with a single line of code. It will turn any Python module, class, object, function, etc. (any Python component will work!) into a CLI. It's called Fire because when you call Fire(), it fires off your command.\n",
    "### [nbconvert](https://nbconvert.readthedocs.io/en/latest/index.html)  allows conversion of Jupyter notebooks to other formats."
   ]
  },
  {
   "cell_type": "code",
   "execution_count": 0,
   "metadata": {
    "colab": {},
    "colab_type": "code",
    "id": "ee-4AgH2XvpX"
   },
   "outputs": [],
   "source": [
    "# install fire\n",
    "!pip install fire\n",
    "!pip install nbconvert"
   ]
  },
  {
   "cell_type": "markdown",
   "metadata": {
    "colab_type": "text",
    "id": "T8XVr0eBsDx5"
   },
   "source": [
    "## 4. Clone the course-v3 repo in Drive\n",
    "### Editable versions of the course notebooks, and necessary scripts.\n"
   ]
  },
  {
   "cell_type": "code",
   "execution_count": 0,
   "metadata": {
    "colab": {},
    "colab_type": "code",
    "id": "6kOVMcw4M2xC"
   },
   "outputs": [],
   "source": [
    "# create a directory for fastai-v3 courses\n",
    "import os\n",
    "if not os.path.exists('/content/gdrive/My Drive/fastai-v3'):\n",
    "    os.makedirs('/content/gdrive/My Drive/fastai-v3')\n",
    "else:\n",
    "    print('directory already exists.')"
   ]
  },
  {
   "cell_type": "code",
   "execution_count": 0,
   "metadata": {
    "colab": {},
    "colab_type": "code",
    "id": "Cx57V9JzTcXy"
   },
   "outputs": [],
   "source": [
    "# clone the course-v3 repo in /content/gdrive/My Drive/fastai-v3/, so that you can access all the scripts and notebooks\n",
    "os.chdir('/content/gdrive/My Drive/fastai-v3/')\n",
    "if not os.path.exists('/content/gdrive/My Drive/fastai-v3/course-v3'):\n",
    "    !git clone https://github.com/fastai/course-v3.git\n",
    "else:\n",
    "    print('destination path \\'course-v3\\' already exists and is not an empty directory.')"
   ]
  },
  {
   "cell_type": "code",
   "execution_count": 0,
   "metadata": {
    "colab": {},
    "colab_type": "code",
    "id": "9w3CPuBO0Wr2"
   },
   "outputs": [],
   "source": [
    "# navigate to the folder with the \"Deep Learning From the Foundations\" course notebooks\n",
    "os.chdir('/content/gdrive/My Drive/fastai-v3/course-v3/nbs/dl2/')\n",
    "os.listdir()"
   ]
  },
  {
   "cell_type": "markdown",
   "metadata": {
    "colab_type": "text",
    "id": "GnMA4h4_tewN"
   },
   "source": [
    "## 5. Save this notebook to Drive\n",
    "### From the \"File\" tab on the menu bar at top left, choose \"Save a copy in Drive...\" To find out where this copy was saved: From the \"File\" tab, choose \"Locate in Drive\" You will see that the file was saved in the directory ''/content/gdrive/My Drive/Colab Notebooks/'"
   ]
  },
  {
   "cell_type": "code",
   "execution_count": 0,
   "metadata": {
    "colab": {},
    "colab_type": "code",
    "id": "RaxoTbUwKjLx"
   },
   "outputs": [],
   "source": [
    "# From the \"File\" tab on the menu bar at top left, choose \"Save\""
   ]
  },
  {
   "cell_type": "markdown",
   "metadata": {
    "colab_type": "text",
    "id": "DFflNYmY26R0"
   },
   "source": [
    "## 7. Run the first notebook `00_export.ipynb`\n",
    "\n",
    "(1 ) In [Google Drive](https://drive.google.com/drive/my-drive), navigate to your fresh course-v3 repo i.e. to the folder `My Drive/fastai-v3/course-v3/nbs/dl2/`. Right-click on the notebook `00_export.ipynb`, choose submenu \"Open With\" (right click), and then select \"Colaboratory\".\n",
    "\n",
    "(2 )Insert the following code cell at the top of the notebook, then save it (select File from the menu bar at upper left, then choose Save from the pull-down submenu). \n",
    "\n",
    "(3) Now run the first notebook `00_export.ipynb`, and you will see that it completes without error.\n"
   ]
  },
  {
   "cell_type": "code",
   "execution_count": 0,
   "metadata": {
    "colab": {},
    "colab_type": "code",
    "id": "F4A8Fk1Oj_gK"
   },
   "outputs": [],
   "source": [
    "# make your Google Drive accessible\n",
    "from google.colab import drive\n",
    "drive.mount('/content/gdrive', force_remount=True)\n",
    "root_dir = \"/content/gdrive/My Drive/\"\n",
    "base_dir = root_dir + 'fastai-v3/course-v3/nbs/dl2/'\n",
    "\n",
    "# navigate to the notebooks directory for dl2\n",
    "import os\n",
    "os.chdir(base_dir)\n",
    "\n",
    "# update fastai, according to instructions at https://course.fast.ai/start_colab.html\n",
    "!curl -s https://course.fast.ai/setup/colab | bash\n",
    "    \n",
    "# install fire\n",
    "!pip install fire\n",
    "!pip install nbconvert"
   ]
  },
  {
   "cell_type": "markdown",
   "metadata": {
    "colab_type": "text",
    "id": "HdcpGXc9kHCg"
   },
   "source": [
    "## 8. Repeat step 7 for each course notebook\n",
    "Open the notebook with Colaboratory, modify it by inserting the above code cell at the top, save it, then you will be able to run it. We need to run the course notebooks in series, since each notebook exports a file that is required in the next one. \n"
   ]
  },
  {
   "cell_type": "code",
   "execution_count": null,
   "metadata": {},
   "outputs": [],
   "source": []
  }
 ],
 "metadata": {
  "accelerator": "GPU",
  "colab": {
   "collapsed_sections": [],
   "name": "initialize_fastai_dl2_colab.ipynb",
   "private_outputs": true,
   "provenance": [
    {
     "file_id": "1syMG6lWaQRB9SjMtzFoVB9mttXldR7M6",
     "timestamp": 1563308304211
    },
    {
     "file_id": "1WzLcXZ4F5e5-Eylkofr28PvFEnAnzRwP",
     "timestamp": 1563237267361
    },
    {
     "file_id": "https://github.com/fastai/course-v3/blob/master/nbs/dl2/00_exports.ipynb",
     "timestamp": 1563236879996
    }
   ],
   "version": "0.3.2"
  },
  "kernelspec": {
   "display_name": "Python 3",
   "language": "python",
   "name": "python3"
  },
  "language_info": {
   "codemirror_mode": {
    "name": "ipython",
    "version": 3
   },
   "file_extension": ".py",
   "mimetype": "text/x-python",
   "name": "python",
   "nbconvert_exporter": "python",
   "pygments_lexer": "ipython3",
   "version": "3.7.3"
  }
 },
 "nbformat": 4,
 "nbformat_minor": 1
}
