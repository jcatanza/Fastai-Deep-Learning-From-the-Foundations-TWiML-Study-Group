{
 "cells": [
  {
   "cell_type": "markdown",
   "metadata": {},
   "source": [
    "## Initial setup"
   ]
  },
  {
   "cell_type": "code",
   "execution_count": 1,
   "metadata": {},
   "outputs": [],
   "source": [
    "%load_ext autoreload\n",
    "%autoreload 2\n",
    "\n",
    "%matplotlib inline"
   ]
  },
  {
   "cell_type": "code",
   "execution_count": 2,
   "metadata": {},
   "outputs": [],
   "source": [
    "#export\n",
    "from exp.nb_02 import *\n",
    "import torch.nn.functional as F"
   ]
  },
  {
   "cell_type": "markdown",
   "metadata": {},
   "source": [
    "## A Note on Software Engineering\n",
    "In this course, **Deep Learning From the Foundations** there is much to learn about software engineering from the Fastai team. Software engineering is, in a nutshell, the art of writing and testing efficient, understandable, reliable, reusable, and maintainable code. Here are a few simple rules to set you on the road to becoming a good software engineer. \n",
    "\n",
    "1. Always use descriptive variable names. For example, instead of variables named `n` and `m`, you can use more informative names such as `n_rows` and `n_columns`; instead of `nh`, use `n_hidden`, instead of `c`, use `n_out`.\n",
    "Never use single character names for important variables. Why? Suppose you have a variable named `n`, and you find that for some good reason, you need to rename `n` to `n_iter`. Imagine trying to do a 'find and replace' on `n`, one of the most commonly used characters in the English language?\n",
    "\n",
    "\n",
    "2. Whenever possible, pass numerical values into functions as *keyword arguments*.\n",
    "\n",
    "For example, consider the following line of code:\n",
    "\n",
    "`s = Sampler(small_ds,3,False)`\n",
    "\n",
    "This code is not optimal, because it is inefficient for the reader, who has no idea of what the values `3` and `False` represent. To find out, they would have to spend extra time examining the code for the `Sampler` object.\n",
    "\n",
    "A better practice is to write\n",
    "\n",
    "`s = Sampler(small_ds,batch_size=3,shuffle=False)`\n",
    "\n",
    "By calling the inputs as *keyword arguments* you give the reader a good idea of how these values control the behavior of `Sampler`.\n",
    "\n",
    "3. Always make an effort to document your code as you write. For each small block of code, provide a clear explanation of its function. Documentation does slow you down a bit, but the extra effort will inevitably pay off in the long run, because it records how the code was built and the decisions that went into its construction. Documentation will be invaluable to you or anyone else who wants to understand, use, refactor, or repurpose your code at a later time. \n",
    "\n",
    "You will find that following rules such as these is well worth your while -- especially when you come back to your code after a hiatus and try to remember what you did, or when you want to share your code with others.\n"
   ]
  },
  {
   "cell_type": "markdown",
   "metadata": {},
   "source": [
    "## Get the MNIST Data"
   ]
  },
  {
   "cell_type": "code",
   "execution_count": 3,
   "metadata": {},
   "outputs": [],
   "source": [
    "# set matplotlib color map\n",
    "mpl.rcParams['image.cmap'] = 'gray'"
   ]
  },
  {
   "cell_type": "code",
   "execution_count": 4,
   "metadata": {},
   "outputs": [],
   "source": [
    "# split data into training and validation sets\n",
    "x_train,y_train,x_valid,y_valid = get_data()"
   ]
  },
  {
   "cell_type": "code",
   "execution_count": 5,
   "metadata": {},
   "outputs": [],
   "source": [
    "# rows and columns of training data\n",
    "n_rows,n_columns = x_train.shape\n",
    "# number of possible output labels\n",
    "n_out = y_train.max().item()+1\n",
    "# size of the hidden layer\n",
    "n_hidden = 50"
   ]
  },
  {
   "cell_type": "code",
   "execution_count": 6,
   "metadata": {},
   "outputs": [
    {
     "data": {
      "text/plain": [
       "int"
      ]
     },
     "execution_count": 6,
     "metadata": {},
     "output_type": "execute_result"
    }
   ],
   "source": [
    "type(n_out)"
   ]
  },
  {
   "cell_type": "code",
   "execution_count": 7,
   "metadata": {},
   "outputs": [],
   "source": [
    "# simple fully connected network\n",
    "class Model(nn.Module):\n",
    "    def __init__(self, n_in, n_hidden, n_out):\n",
    "        super().__init__()\n",
    "        self.layers = [nn.Linear(n_in,n_hidden), nn.ReLU(), nn.Linear(n_hidden,n_out)]\n",
    "    # sequentially apply layers and return the output activations\n",
    "    def __call__(self, x):\n",
    "        for l in self.layers: x = l(x)\n",
    "        return x"
   ]
  },
  {
   "cell_type": "code",
   "execution_count": 8,
   "metadata": {},
   "outputs": [],
   "source": [
    "# instantiate the model\n",
    "model = Model(n_in = n_columns, n_hidden = n_hidden, n_out = 10)"
   ]
  },
  {
   "cell_type": "code",
   "execution_count": 9,
   "metadata": {},
   "outputs": [
    {
     "data": {
      "text/plain": [
       "array([ 0.024718,  0.064748, -0.174801,  0.086762,  0.008283,  0.030292,  0.042639,  0.210631,  0.20168 ,  0.163633],\n",
       "      dtype=float32)"
      ]
     },
     "execution_count": 9,
     "metadata": {},
     "output_type": "execute_result"
    }
   ],
   "source": [
    "# predict training labels\n",
    "pred = model(x_train)\n",
    "\n",
    "# look at the output activations for the first training example\n",
    "import numpy as np\n",
    "pred.detach().numpy()[0]"
   ]
  },
  {
   "cell_type": "markdown",
   "metadata": {},
   "source": [
    "## Softmax"
   ]
  },
  {
   "cell_type": "markdown",
   "metadata": {},
   "source": [
    "Cross-entropy loss is the usual loss function for multi-label classification problems. Since cross-entropy loss is computed from the probabilities of the predicted classes, we must first convert the output activations to probabilities; this is accomplished by applying the softmax function to the output activations.\n",
    "\n",
    "Softmax is defined by:\n",
    "\n",
    "$$\\hbox{softmax(x)}_{i} = \\frac{e^{x_{i}}}{e^{x_{0}} + e^{x_{1}} + \\cdots + e^{x_{n-1}}}$$\n",
    "\n",
    "or more concisely:\n",
    "\n",
    "$$\\hbox{softmax(x)}_{i} = \\frac{e^{x_{i}}}{\\sum_{0 \\leq j \\leq n-1} e^{x_{j}}}$$ \n",
    "\n",
    "In the above formulas, $i$ indexes the output activation node.\n",
    "\n",
    "In practice, we will need the log of the softmax when we calculate the loss."
   ]
  },
  {
   "cell_type": "code",
   "execution_count": 10,
   "metadata": {},
   "outputs": [],
   "source": [
    "# compute log(softmax)\n",
    "def log_softmax(x):\n",
    "    \n",
    "    return (x.exp()/(x.exp().sum(-1,keepdim=True))).log()"
   ]
  },
  {
   "cell_type": "code",
   "execution_count": 11,
   "metadata": {},
   "outputs": [
    {
     "name": "stdout",
     "output_type": "stream",
     "text": [
      "\n",
      "shape  torch.Size([50000, 10])\n",
      "\n",
      "output log probabilities:  [-2.267496 -2.414655 -2.498781 -2.387381 -2.416755 -2.241358 -2.312712 -2.192085 -2.178145 -2.175746]\n",
      "\n",
      "output probabilities:  [0.103571 0.089398 0.082185 0.09187  0.089211 0.106314 0.098992 0.111684 0.113251 0.113523]\n",
      "\n",
      "sum of probabilities is  0.99999994\n",
      "\n",
      "predicted digit is  9\n"
     ]
    }
   ],
   "source": [
    "# applying softmax to the output activations converts them to log probabilities\n",
    "sm_pred = log_softmax(pred)\n",
    "print('\\nshape ',sm_pred.shape)\n",
    "\n",
    "# look at the first example in the training set\n",
    "print('\\noutput log probabilities: ',sm_pred.detach().numpy()[1,:])\n",
    "print('\\noutput probabilities: ',np.exp(sm_pred.detach().numpy()[1,:]))\n",
    "\n",
    "# check that sum of probabilities is one\n",
    "print('\\nsum of probabilities is ',np.exp(sm_pred.detach().numpy()[1,:]).sum())\n",
    "\n",
    "# the predicted digit is the output with the highest probability\n",
    "print('\\npredicted digit is ',np.argmax(np.exp(sm_pred.detach().numpy()[1,:])))"
   ]
  },
  {
   "cell_type": "markdown",
   "metadata": {},
   "source": [
    "## Cross-Entropy Loss\n",
    "The cross entropy loss for some target $x$ and some prediction $p(x)$ is given by:\n",
    "\n",
    "$$ \\ell = -\\sum x\\, \\log p(x)$$\n",
    "\n",
    "But since our $x$s are 1-hot encoded, this can be rewritten as \n",
    "\n",
    "$$ \\ell = -\\log(p_{i})$$\n",
    "where $i$ is the index of the true class label.\n",
    "\n",
    "And the loss function is the mean cross-entropy loss over all the examples:\n",
    "\n",
    "$$\\mathcal{L} = \\frac{\\sum \\ell}{N}$$\n",
    "where $N$ is the number of examples in the training data set."
   ]
  },
  {
   "cell_type": "markdown",
   "metadata": {},
   "source": [
    "We can implement the cross-entropy loss function using numpy-style [integer array indexing](https://docs.scipy.org/doc/numpy-1.13.0/reference/arrays.indexing.html#integer-array-indexing). Note that PyTorch supports all the tricks in the advanced indexing methods discussed in that link. \n",
    "\n",
    "The next few cells provide examples of indexing, then we'll go on to implement the cross-entropy loss function."
   ]
  },
  {
   "cell_type": "code",
   "execution_count": 12,
   "metadata": {},
   "outputs": [
    {
     "name": "stdout",
     "output_type": "stream",
     "text": [
      "\n",
      "y_train (target) shape is  torch.Size([50000])\n",
      "\n",
      "sm_pred (input) shape is  torch.Size([50000, 10])\n"
     ]
    }
   ],
   "source": [
    "# shapes of training set predictions output and of the training labels\n",
    "print('\\ny_train (target) shape is ',y_train.shape)\n",
    "print('\\nsm_pred (input) shape is ',sm_pred.shape)"
   ]
  },
  {
   "cell_type": "code",
   "execution_count": 13,
   "metadata": {},
   "outputs": [
    {
     "data": {
      "text/plain": [
       "tensor([5, 0, 4])"
      ]
     },
     "execution_count": 13,
     "metadata": {},
     "output_type": "execute_result"
    }
   ],
   "source": [
    "# indexing, example 1\n",
    "y_train[:3]"
   ]
  },
  {
   "cell_type": "code",
   "execution_count": 14,
   "metadata": {},
   "outputs": [
    {
     "name": "stdout",
     "output_type": "stream",
     "text": [
      "tensor([-2.3437, -2.2675, -2.3915], grad_fn=<IndexBackward>)\n",
      "tensor(-2.3437, grad_fn=<SelectBackward>)\n",
      "tensor(-2.2675, grad_fn=<SelectBackward>)\n",
      "tensor(-2.3915, grad_fn=<SelectBackward>)\n"
     ]
    }
   ],
   "source": [
    "# indexing, example 2\n",
    "print(sm_pred[[0,1,2], [5,0,4]]) \n",
    "print(sm_pred[0][5])\n",
    "print(sm_pred[1][0])\n",
    "print(sm_pred[2][4])"
   ]
  },
  {
   "cell_type": "code",
   "execution_count": 15,
   "metadata": {},
   "outputs": [
    {
     "name": "stdout",
     "output_type": "stream",
     "text": [
      "tensor([[-2.3493, -2.3093, -2.5488, -2.2873, -2.3657, -2.3437],\n",
      "        [-2.2675, -2.4147, -2.4988, -2.3874, -2.4168, -2.2414],\n",
      "        [-2.3406, -2.3734, -2.4856, -2.2309, -2.3915, -2.3070]],\n",
      "       grad_fn=<IndexBackward>)\n",
      "tensor([-2.3493, -2.3093, -2.5488, -2.2873, -2.3657, -2.3437],\n",
      "       grad_fn=<SliceBackward>)\n",
      "tensor([-2.2675, -2.4147, -2.4988, -2.3874, -2.4168, -2.2414],\n",
      "       grad_fn=<SliceBackward>)\n",
      "tensor([-2.3406, -2.3734, -2.4856, -2.2309, -2.3915, -2.3070],\n",
      "       grad_fn=<SliceBackward>)\n"
     ]
    }
   ],
   "source": [
    "# indexing, example 3\n",
    "print(sm_pred[[0,1,2], :6])\n",
    "print(sm_pred[0,:6])\n",
    "print(sm_pred[1,:6])\n",
    "print(sm_pred[2,:6])\n",
    "# print(sm_pred[[0,1,2], 5])"
   ]
  },
  {
   "cell_type": "code",
   "execution_count": 16,
   "metadata": {},
   "outputs": [],
   "source": [
    "# nll (negative log likelihood) loss function\n",
    "#    nll is our implementation of the cross-entropy loss function\n",
    "#    -- computes a vector of the predicted log probabilities corresponding to the true labels for each example\n",
    "#    -- outputs the negative mean of this vector, which is the cross-entropy loss function\n",
    "def nll(input, target): return -input[range(target.shape[0]), target].mean()"
   ]
  },
  {
   "cell_type": "code",
   "execution_count": 17,
   "metadata": {},
   "outputs": [
    {
     "name": "stdout",
     "output_type": "stream",
     "text": [
      "tensor(2.2964, grad_fn=<NegBackward>)\n"
     ]
    }
   ],
   "source": [
    "# evaluate the nll (or cross-entropy) loss function\n",
    "loss = nll(sm_pred, y_train)\n",
    "print(loss)"
   ]
  },
  {
   "cell_type": "markdown",
   "metadata": {},
   "source": [
    "Note that the formula \n",
    "\n",
    "$$\\log \\left ( \\frac{a}{b} \\right ) = \\log(a) - \\log(b)$$ \n",
    "\n",
    "gives a simplification when we compute the log softmax, which was previously defined as `(x.exp()/(x.exp().sum(-1,keepdim=True))).log()`"
   ]
  },
  {
   "cell_type": "code",
   "execution_count": 18,
   "metadata": {},
   "outputs": [],
   "source": [
    "# refactor log_softmax\n",
    "def log_softmax(x): return x - x.exp().sum(-1,keepdim=True).log()"
   ]
  },
  {
   "cell_type": "code",
   "execution_count": 19,
   "metadata": {},
   "outputs": [],
   "source": [
    "# check that nll using the refactored log_softmax is the same as before\n",
    "test_near(nll(log_softmax(pred), y_train), loss)"
   ]
  },
  {
   "cell_type": "markdown",
   "metadata": {},
   "source": [
    "There's a problem with the logsumexp function: overflow can occur if the exponents become large positive numbers. \n",
    "The [LogSumExp trick] provides a brilliant way to compute the log of the sum of exponentials in a more stable way. (https://en.wikipedia.org/wiki/LogSumExp). The idea is to express logsumexp in the following way:\n",
    "\n",
    "$$\\log \\left ( \\sum_{j=1}^{n} e^{x_{j}} \\right ) = \\log \\left ( e^{a} \\sum_{j=1}^{n} e^{x_{j}-a} \\right ) = a + \\log \\left ( \\sum_{j=1}^{n} e^{x_{j}-a} \\right )$$\n",
    "\n",
    "where $a$ is the maximum of the $x_{j}$.\n",
    "\n",
    "Note that because of the clever choice of $a$, all the exponents on the right-hand side are $\\le 0$. Recall that the exponential of a negative number is always a positive number that is less than $1$. So the expression on the right hand side contains no exponentials of large positive numbers. This solves the overflow problem!"
   ]
  },
  {
   "cell_type": "code",
   "execution_count": 20,
   "metadata": {},
   "outputs": [],
   "source": [
    "# implement the LogSumExp trick for numerical stability\n",
    "def logsumexp(x):\n",
    "    # index (-1) indicates the last dimension, in this case, it's the same as (1), which is across rows\n",
    "    # but pytorch max returns a vector of values and also a vector of the column indices corresponding to those values \n",
    "    # the [0] at the end of the line below is necessary to select the values\n",
    "    m = x.max(-1)[0]\n",
    "    # m is a vector; to convert it to a column vector, i.e. a matrix with one column, use m[:,None] \n",
    "    return m + (x-m[:,None]).exp().sum(-1).log()"
   ]
  },
  {
   "cell_type": "markdown",
   "metadata": {},
   "source": [
    "This way, we will avoid an overflow when taking the exponential of a big activation. In PyTorch, this is already implemented for us. "
   ]
  },
  {
   "cell_type": "code",
   "execution_count": 21,
   "metadata": {},
   "outputs": [],
   "source": [
    "# verify equivalence between our logsumexp function and python's implementation\n",
    "test_near(logsumexp(pred), pred.logsumexp(-1))"
   ]
  },
  {
   "cell_type": "markdown",
   "metadata": {},
   "source": [
    "So we can use it for our `log_softmax` function."
   ]
  },
  {
   "cell_type": "code",
   "execution_count": 22,
   "metadata": {},
   "outputs": [],
   "source": [
    "# refactor log_softmax again\n",
    "def log_softmax(x): return x - x.logsumexp(-1,keepdim=True)"
   ]
  },
  {
   "cell_type": "code",
   "execution_count": 23,
   "metadata": {},
   "outputs": [],
   "source": [
    "# verify equivalence of nll and loss\n",
    "test_near(nll(log_softmax(pred), y_train), loss)"
   ]
  },
  {
   "cell_type": "markdown",
   "metadata": {},
   "source": [
    "Then use PyTorch's implementation of nll_loss:"
   ]
  },
  {
   "cell_type": "code",
   "execution_count": 24,
   "metadata": {},
   "outputs": [],
   "source": [
    "# verify equivalence of pytorch's implementation of nll and loss\n",
    "test_near(F.nll_loss(F.log_softmax(pred, -1), y_train), loss)"
   ]
  },
  {
   "cell_type": "markdown",
   "metadata": {},
   "source": [
    "In PyTorch, `F.log_softmax` and `F.nll_loss` are combined in one optimized function, `F.cross_entropy`."
   ]
  },
  {
   "cell_type": "code",
   "execution_count": 25,
   "metadata": {},
   "outputs": [],
   "source": [
    "# verify equivalence of python's corss-entropy and loss\n",
    "test_near(F.cross_entropy(pred, y_train), loss)"
   ]
  },
  {
   "cell_type": "markdown",
   "metadata": {},
   "source": [
    "## Basic training loop"
   ]
  },
  {
   "cell_type": "markdown",
   "metadata": {},
   "source": [
    "Basically the training loop repeats over the following steps:\n",
    "- get the output of the model on a batch of inputs\n",
    "- compare the output to the labels we have and compute a loss\n",
    "- calculate the gradients of the loss with respect to every parameter of the model\n",
    "- update said parameters with those gradients to make them a little bit better"
   ]
  },
  {
   "cell_type": "code",
   "execution_count": 26,
   "metadata": {},
   "outputs": [],
   "source": [
    "# we are allowed to use Pytorch implementation of loss function\n",
    "#    inputs preds, labels\n",
    "#    where preds are the activation outputs\n",
    "loss_func = F.cross_entropy"
   ]
  },
  {
   "cell_type": "code",
   "execution_count": 27,
   "metadata": {},
   "outputs": [],
   "source": [
    "#export\n",
    "# accuracy is the fraction of correct predictions\n",
    "# predicted class is torch.argmax(prediction_probs, dim=1)==target)\n",
    "def accuracy(prediction_probs, target): \n",
    "    return (torch.argmax(prediction_probs, dim=1)==target).float().mean()"
   ]
  },
  {
   "cell_type": "code",
   "execution_count": 28,
   "metadata": {},
   "outputs": [
    {
     "data": {
      "text/plain": [
       "(tensor([ 0.0247,  0.0647, -0.1748,  0.0868,  0.0083,  0.0303,  0.0426,  0.2106,\n",
       "          0.2017,  0.1636], grad_fn=<SelectBackward>), torch.Size([64, 10]))"
      ]
     },
     "execution_count": 28,
     "metadata": {},
     "output_type": "execute_result"
    }
   ],
   "source": [
    "# define a mini-batch and run the model to get predictions\n",
    "batch_size=64                  # batch size\n",
    "xb = x_train[0:batch_size]     # a mini-batch from x\n",
    "preds = model(xb)      # predictions (activation outputs)\n",
    "preds[0], preds.shape"
   ]
  },
  {
   "cell_type": "code",
   "execution_count": 29,
   "metadata": {},
   "outputs": [
    {
     "data": {
      "text/plain": [
       "tensor(2.2954, grad_fn=<NllLossBackward>)"
      ]
     },
     "execution_count": 29,
     "metadata": {},
     "output_type": "execute_result"
    }
   ],
   "source": [
    "# calculate the loss function\n",
    "yb = y_train[0:batch_size]\n",
    "loss_func(preds, yb)"
   ]
  },
  {
   "cell_type": "code",
   "execution_count": 30,
   "metadata": {},
   "outputs": [
    {
     "data": {
      "text/plain": [
       "tensor(0.0781)"
      ]
     },
     "execution_count": 30,
     "metadata": {},
     "output_type": "execute_result"
    }
   ],
   "source": [
    "# calculate the accuracy for a forward pass on a single batch\n",
    "accuracy(preds, yb)"
   ]
  },
  {
   "cell_type": "code",
   "execution_count": 31,
   "metadata": {},
   "outputs": [],
   "source": [
    "# set the hyperparameters\n",
    "learning_rate = 0.5\n",
    "# how many epochs to train\n",
    "n_epochs = 1 "
   ]
  },
  {
   "cell_type": "code",
   "execution_count": 32,
   "metadata": {},
   "outputs": [],
   "source": [
    "# initial training loop\n",
    "def fit(model,loss_func,epochs,batch_size,learning_rate,n_rows,x_train,y_train):\n",
    "    # loop over epochs; an epoch consists of all n_rows samples\n",
    "    for epoch in range(epochs):\n",
    "        # loop over batches; a batch is a subset of samples specified by batch_size, e.g., 64 samples if batch_size = 64\n",
    "        #   batch index goes from 0 to (n_rows-1)/batch_size + 1, so the last batch can have fewer than batch_size samples\n",
    "        for i in range((n_rows-1)//batch_size + 1):\n",
    "            # set_trace()\n",
    "            # index of first sample in batch number i \n",
    "            start_i = i*batch_size\n",
    "            # index after last sample in batch number i\n",
    "            end_i = start_i+batch_size\n",
    "            # get the current batch\n",
    "            xb = x_train[start_i:end_i] # data points\n",
    "            yb = y_train[start_i:end_i] # labels\n",
    "            # make a forward pass, then compute the loss function\n",
    "            loss = loss_func(model(xb), yb)\n",
    "            # compute the gradients of the loss function with respect to the parameters in each layer\n",
    "            loss.backward()\n",
    "            # loop over the layers, applying updates for each parameter\n",
    "            #   temporarily set requires_grad flags (whose default values are True) to False,\n",
    "            #      since we don't want to track the gradients while we are making empirical updates\n",
    "            #   after the updates, reset the gradients to zero to prepare for the next batch\n",
    "            with torch.no_grad(): \n",
    "                for l in model.layers:\n",
    "                    if hasattr(l, 'weight'):\n",
    "                        # update the weights and biases using SGD\n",
    "                        l.weight -= l.weight.grad * learning_rate\n",
    "                        l.bias   -= l.bias.grad   * learning_rate\n",
    "                        # zero the gradients\n",
    "                        l.weight.grad.zero_()\n",
    "                        l.bias  .grad.zero_()"
   ]
  },
  {
   "cell_type": "code",
   "execution_count": 38,
   "metadata": {},
   "outputs": [
    {
     "name": "stdout",
     "output_type": "stream",
     "text": [
      "True True\n"
     ]
    }
   ],
   "source": [
    "# a linear layer has weight and bias\n",
    "print(hasattr(nn.Linear(n_hidden,n_out),'weight'),hasattr(nn.Linear(n_hidden,n_out),'bias'))"
   ]
  },
  {
   "cell_type": "code",
   "execution_count": 39,
   "metadata": {},
   "outputs": [
    {
     "name": "stdout",
     "output_type": "stream",
     "text": [
      "False False\n"
     ]
    }
   ],
   "source": [
    "# a ReLU layer has no parameters\n",
    "print(hasattr(nn.ReLU(),'weight'),hasattr(nn.ReLU(),'bias'))"
   ]
  },
  {
   "cell_type": "code",
   "execution_count": 40,
   "metadata": {},
   "outputs": [
    {
     "data": {
      "text/plain": [
       "(tensor(0.0989, grad_fn=<NllLossBackward>), tensor(0.9531))"
      ]
     },
     "execution_count": 40,
     "metadata": {},
     "output_type": "execute_result"
    }
   ],
   "source": [
    "# train the model for 1 epoch\n",
    "fit(model,loss_func,n_epochs,batch_size,learning_rate,n_rows,x_train,y_train)\n",
    "# loss function and accuracy after 1 epoch of training with batch_size = 64 and learning_rate = 0.5\n",
    "loss_func(model(xb), yb), accuracy(model(xb), yb)"
   ]
  },
  {
   "cell_type": "markdown",
   "metadata": {},
   "source": [
    "## Using parameters and optim"
   ]
  },
  {
   "cell_type": "markdown",
   "metadata": {},
   "source": [
    "### Parameters"
   ]
  },
  {
   "cell_type": "markdown",
   "metadata": {},
   "source": [
    "Use `nn.Module.__setattr__` and move relu to functional:"
   ]
  },
  {
   "cell_type": "code",
   "execution_count": 41,
   "metadata": {},
   "outputs": [],
   "source": [
    "# original version of Model(), the starting point for refactoring\n",
    "class Model(nn.Module):\n",
    "    def __init__(self, n_in, n_hidden, n_out):\n",
    "        # inherits from nn.Module, and super().__init__() allows access to all the methods and attributes of nn.Module\n",
    "        super().__init__()\n",
    "        self.layers = [nn.Linear(n_in,n_hidden), nn.ReLU(), nn.Linear(n_hidden,n_out)]\n",
    "    # sequentially apply layers and return the output activations\n",
    "    def __call__(self, x):\n",
    "        for l in self.layers: x = l(x)\n",
    "        return x"
   ]
  },
  {
   "cell_type": "code",
   "execution_count": 42,
   "metadata": {},
   "outputs": [],
   "source": [
    "# refactor Model() to eliminate the loop over layers\n",
    "class Model(nn.Module):\n",
    "    def __init__(self, n_in, n_hidden, n_out):\n",
    "        # inherits from nn.Module, and super().__init__() allows access to the methods and attributes of nn.Module\n",
    "        #    if no arguments were passed, the line below would just be super() \n",
    "        super().__init__()\n",
    "        # implicitly use __setattr__ to set module attributes\n",
    "        self.l1 = nn.Linear(n_in,n_hidden)\n",
    "        self.l2 = nn.Linear(n_hidden,n_out)\n",
    "    # avoid use of loop\n",
    "    #    move ReLU to functional\n",
    "    def __call__(self, x): \n",
    "        return self.l2(F.relu(self.l1(x)))"
   ]
  },
  {
   "cell_type": "code",
   "execution_count": 43,
   "metadata": {},
   "outputs": [],
   "source": [
    "# instantiate Model\n",
    "model = Model(n_in = n_columns, n_hidden = n_hidden, n_out = 10)"
   ]
  },
  {
   "cell_type": "code",
   "execution_count": 44,
   "metadata": {},
   "outputs": [
    {
     "name": "stdout",
     "output_type": "stream",
     "text": [
      "l1: Linear(in_features=784, out_features=50, bias=True)\n",
      "l2: Linear(in_features=50, out_features=10, bias=True)\n"
     ]
    }
   ],
   "source": [
    "# model.named_children is a generator over child modules, returns name and module itself\n",
    "# children of self\n",
    "for name,l in model.named_children(): print(f\"{name}: {l}\")"
   ]
  },
  {
   "cell_type": "code",
   "execution_count": 45,
   "metadata": {},
   "outputs": [
    {
     "data": {
      "text/plain": [
       "Model(\n",
       "  (l1): Linear(in_features=784, out_features=50, bias=True)\n",
       "  (l2): Linear(in_features=50, out_features=10, bias=True)\n",
       ")"
      ]
     },
     "execution_count": 45,
     "metadata": {},
     "output_type": "execute_result"
    }
   ],
   "source": [
    "# returns named_children names and modules\n",
    "model"
   ]
  },
  {
   "cell_type": "code",
   "execution_count": 46,
   "metadata": {},
   "outputs": [
    {
     "data": {
      "text/plain": [
       "Linear(in_features=784, out_features=50, bias=True)"
      ]
     },
     "execution_count": 46,
     "metadata": {},
     "output_type": "execute_result"
    }
   ],
   "source": [
    "# one of the children modules\n",
    "model.l1"
   ]
  },
  {
   "cell_type": "code",
   "execution_count": 47,
   "metadata": {},
   "outputs": [],
   "source": [
    "# refactor parameter updates using model.parameters()\n",
    "# training loop\n",
    "def fit():\n",
    "    # loop over epochs\n",
    "    for epoch in range(n_epochs):\n",
    "        # loop over batches\n",
    "        for i in range((n_rows-1)//batch_size + 1):\n",
    "            start_i = i*batch_size\n",
    "            end_i = start_i+batch_size\n",
    "            xb = x_train[start_i:end_i]\n",
    "            yb = y_train[start_i:end_i]\n",
    "            # compute loss function for this batch\n",
    "            loss = loss_func(model(xb), yb)\n",
    "            # backpropagation: compute gradients of the loss function\n",
    "            loss.backward()\n",
    "            # update the parameters using SGD and zero out the gradients\n",
    "            with torch.no_grad():\n",
    "                for p in model.parameters(): p -= p.grad * learning_rate\n",
    "                model.zero_grad()"
   ]
  },
  {
   "cell_type": "code",
   "execution_count": 48,
   "metadata": {},
   "outputs": [
    {
     "data": {
      "text/plain": [
       "(tensor(0.1101, grad_fn=<NllLossBackward>), tensor(0.9531))"
      ]
     },
     "execution_count": 48,
     "metadata": {},
     "output_type": "execute_result"
    }
   ],
   "source": [
    "# train the model for 1 epoch\n",
    "fit()\n",
    "# record the final loss and accuracy \n",
    "loss_func(model(xb), yb), accuracy(model(xb), yb)"
   ]
  },
  {
   "cell_type": "markdown",
   "metadata": {},
   "source": [
    "Behind the scenes, PyTorch overrides the `__setattr__` function in `nn.Module` so that the submodules you define are properly registered as parameters of the model."
   ]
  },
  {
   "cell_type": "code",
   "execution_count": 49,
   "metadata": {},
   "outputs": [],
   "source": [
    "# this class duplicates the functionality of Model without Pytorch\n",
    "#    notice it does not inherit from a parent class\n",
    "class DummyModule():\n",
    "    def __init__(self, n_in, n_hidden, n_out):\n",
    "        self._modules = {} #dictionary\n",
    "        self.l1 = nn.Linear(n_in,n_hidden)\n",
    "        self.l2 = nn.Linear(n_hidden,n_out)\n",
    "    \n",
    "    # all attributes of the class that can be shared\n",
    "    #    generally, variable names starting with '_' are private to the class or function\n",
    "    def __setattr__(self,k,v):\n",
    "        # loop over self.modules, registering each as parameters\n",
    "        if not k.startswith(\"_\"): self._modules[k] = v\n",
    "        # what is the super class being inherited from?\n",
    "        super().__setattr__(k,v)\n",
    "        \n",
    "    # return the _modules dictionary\n",
    "    #   f-string is evaluated at run-time\n",
    "    def __repr__(self): return f'{self._modules}' \n",
    "    \n",
    "    # generator yields parameters for each module\n",
    "    def parameters(self):\n",
    "        for l in self._modules.values():\n",
    "            for p in l.parameters(): yield p"
   ]
  },
  {
   "cell_type": "code",
   "execution_count": 50,
   "metadata": {},
   "outputs": [
    {
     "data": {
      "text/plain": [
       "{'l1': Linear(in_features=784, out_features=50, bias=True), 'l2': Linear(in_features=50, out_features=10, bias=True)}"
      ]
     },
     "execution_count": 50,
     "metadata": {},
     "output_type": "execute_result"
    }
   ],
   "source": [
    "# instantiate DummyModule()\n",
    "mdl = DummyModule(n_columns,n_hidden,n_out=10)\n",
    "# contents of mdl has the two linear layers\n",
    "mdl"
   ]
  },
  {
   "cell_type": "code",
   "execution_count": 51,
   "metadata": {},
   "outputs": [
    {
     "data": {
      "text/plain": [
       "[torch.Size([50, 784]),\n",
       " torch.Size([50]),\n",
       " torch.Size([10, 50]),\n",
       " torch.Size([10])]"
      ]
     },
     "execution_count": 51,
     "metadata": {},
     "output_type": "execute_result"
    }
   ],
   "source": [
    "# weights and biases\n",
    "#    shapes show that weights are stored as their transposes! \n",
    "[o.shape for o in mdl.parameters()]"
   ]
  },
  {
   "cell_type": "markdown",
   "metadata": {},
   "source": [
    "### Registering modules"
   ]
  },
  {
   "cell_type": "markdown",
   "metadata": {},
   "source": [
    "We can use the original `layers` approach, but we have to register the modules.\n",
    "When a module is 'registered', i.e. added as an attribute of the class, then its weights and biases are incorporated as model parameters."
   ]
  },
  {
   "cell_type": "code",
   "execution_count": 53,
   "metadata": {},
   "outputs": [],
   "source": [
    "# list of layers to be implemented in the Model\n",
    "layers = [nn.Linear(n_columns,n_hidden), nn.ReLU(), nn.Linear(n_hidden,n_out)]"
   ]
  },
  {
   "cell_type": "code",
   "execution_count": 54,
   "metadata": {},
   "outputs": [],
   "source": [
    "# modified version of original Model, adds modules from an input list\n",
    "class Model(nn.Module):\n",
    "    def __init__(self, layers):\n",
    "        super().__init__()\n",
    "        self.layers = layers\n",
    "        # note: the expresssion inside {} in the f-string is replaced with its value at run-time\n",
    "        for i,l in enumerate(self.layers): self.add_module(f'layer_{i}', l)\n",
    "        \n",
    "    def __call__(self, x):\n",
    "        for l in self.layers: x = l(x)\n",
    "        return x"
   ]
  },
  {
   "cell_type": "code",
   "execution_count": 55,
   "metadata": {},
   "outputs": [],
   "source": [
    "# instantiate Model\n",
    "#     layers is a list of object of class nn.Module()\n",
    "model = Model(layers)"
   ]
  },
  {
   "cell_type": "code",
   "execution_count": 56,
   "metadata": {},
   "outputs": [
    {
     "data": {
      "text/plain": [
       "Model(\n",
       "  (layer_0): Linear(in_features=784, out_features=50, bias=True)\n",
       "  (layer_1): ReLU()\n",
       "  (layer_2): Linear(in_features=50, out_features=10, bias=True)\n",
       ")"
      ]
     },
     "execution_count": 56,
     "metadata": {},
     "output_type": "execute_result"
    }
   ],
   "source": [
    "# model contains all three layers\n",
    "model"
   ]
  },
  {
   "cell_type": "markdown",
   "metadata": {},
   "source": [
    "### nn.ModuleList"
   ]
  },
  {
   "cell_type": "markdown",
   "metadata": {},
   "source": [
    "`nn.ModuleList` does this for us."
   ]
  },
  {
   "cell_type": "code",
   "execution_count": 57,
   "metadata": {},
   "outputs": [],
   "source": [
    "# refactor using nn.ModuleList()\n",
    "class SequentialModel(nn.Module):\n",
    "    def __init__(self, layers):\n",
    "        super().__init__()\n",
    "        # self.layers can act as an iterable\n",
    "        self.layers = nn.ModuleList(layers)\n",
    "        \n",
    "    def __call__(self, x):\n",
    "        for l in self.layers: x = l(x)\n",
    "        return x"
   ]
  },
  {
   "cell_type": "code",
   "execution_count": 58,
   "metadata": {},
   "outputs": [
    {
     "data": {
      "text/plain": [
       "SequentialModel(\n",
       "  (layers): ModuleList(\n",
       "    (0): Linear(in_features=784, out_features=50, bias=True)\n",
       "    (1): ReLU()\n",
       "    (2): Linear(in_features=50, out_features=10, bias=True)\n",
       "  )\n",
       ")"
      ]
     },
     "execution_count": 58,
     "metadata": {},
     "output_type": "execute_result"
    }
   ],
   "source": [
    "# instantiate SequentialModel\n",
    "model = SequentialModel(layers)\n",
    "model"
   ]
  },
  {
   "cell_type": "code",
   "execution_count": 59,
   "metadata": {},
   "outputs": [
    {
     "data": {
      "text/plain": [
       "(tensor(0.1243, grad_fn=<NllLossBackward>), tensor(0.9531))"
      ]
     },
     "execution_count": 59,
     "metadata": {},
     "output_type": "execute_result"
    }
   ],
   "source": [
    "# execute a training loop\n",
    "fit()\n",
    "# record the final loss and accuracy \n",
    "loss_func(model(xb), yb), accuracy(model(xb), yb)"
   ]
  },
  {
   "cell_type": "markdown",
   "metadata": {},
   "source": [
    "### nn.Sequential"
   ]
  },
  {
   "cell_type": "markdown",
   "metadata": {},
   "source": [
    "`nn.Sequential` is a convenient class which does the same as the above:"
   ]
  },
  {
   "cell_type": "code",
   "execution_count": 61,
   "metadata": {},
   "outputs": [],
   "source": [
    "# use pytorch nn.Sequential(), instantiate a model\n",
    "model = nn.Sequential(nn.Linear(n_columns,n_hidden), nn.ReLU(), nn.Linear(n_hidden,n_out))"
   ]
  },
  {
   "cell_type": "code",
   "execution_count": 62,
   "metadata": {},
   "outputs": [
    {
     "data": {
      "text/plain": [
       "(tensor(0.1884, grad_fn=<NllLossBackward>), tensor(0.9219))"
      ]
     },
     "execution_count": 62,
     "metadata": {},
     "output_type": "execute_result"
    }
   ],
   "source": [
    "# execute a training loop, record the final loss and accuracy \n",
    "#     why are loss and accuracy worse than with SequentialModel()\n",
    "fit()\n",
    "loss_func(model(xb), yb), accuracy(model(xb), yb)"
   ]
  },
  {
   "cell_type": "code",
   "execution_count": 63,
   "metadata": {},
   "outputs": [],
   "source": [
    "nn.Sequential??"
   ]
  },
  {
   "cell_type": "code",
   "execution_count": 64,
   "metadata": {},
   "outputs": [
    {
     "data": {
      "text/plain": [
       "Sequential(\n",
       "  (0): Linear(in_features=784, out_features=50, bias=True)\n",
       "  (1): ReLU()\n",
       "  (2): Linear(in_features=50, out_features=10, bias=True)\n",
       ")"
      ]
     },
     "execution_count": 64,
     "metadata": {},
     "output_type": "execute_result"
    }
   ],
   "source": [
    "# look inside the model\n",
    "model"
   ]
  },
  {
   "cell_type": "markdown",
   "metadata": {},
   "source": [
    "### optimization"
   ]
  },
  {
   "cell_type": "markdown",
   "metadata": {},
   "source": [
    "Let's replace our previous manually coded optimization step:\n",
    "\n",
    "```python\n",
    "with torch.no_grad():\n",
    "    for p in model.parameters(): p -= p.grad * learning_rate\n",
    "    model.zero_grad()\n",
    "```\n",
    "\n",
    "and instead use just:\n",
    "\n",
    "```python\n",
    "opt.step()\n",
    "opt.zero_grad()\n",
    "```"
   ]
  },
  {
   "cell_type": "code",
   "execution_count": 65,
   "metadata": {},
   "outputs": [],
   "source": [
    "class Optimizer():\n",
    "    def __init__(self, params, learning_rate=0.5):\n",
    "        self.params,self.learning_rate = list(params),learning_rate\n",
    "        \n",
    "    def step(self):\n",
    "        with torch.no_grad():\n",
    "            for p in self.params: p -= p.grad * learning_rate\n",
    "\n",
    "    def zero_grad(self):\n",
    "        for p in self.params: p.grad.data.zero_()"
   ]
  },
  {
   "cell_type": "code",
   "execution_count": 67,
   "metadata": {},
   "outputs": [],
   "source": [
    "# instantiate a model\n",
    "model = nn.Sequential(nn.Linear(n_columns,n_hidden), nn.ReLU(), nn.Linear(n_hidden,n_out))"
   ]
  },
  {
   "cell_type": "code",
   "execution_count": 68,
   "metadata": {},
   "outputs": [],
   "source": [
    "# instantiate an optimizer\n",
    "opt = Optimizer(model.parameters())"
   ]
  },
  {
   "cell_type": "code",
   "execution_count": 72,
   "metadata": {},
   "outputs": [],
   "source": [
    "# refactor fit() function\n",
    "# training loop\n",
    "def fit():\n",
    "    for epoch in range(n_epochs):\n",
    "        for i in range((n_rows-1)//batch_size + 1):\n",
    "            start_i = i*batch_size\n",
    "            end_i = start_i+batch_size\n",
    "            xb = x_train[start_i:end_i]\n",
    "            yb = y_train[start_i:end_i]\n",
    "            # compute predictions and loss function for this batch\n",
    "            pred = model(xb)\n",
    "            loss = loss_func(pred, yb)\n",
    "            # backpropagation: compute gradients of the loss function\n",
    "            loss.backward()\n",
    "            # update the parameters using SGD, and zero out the gradients\n",
    "            opt.step()\n",
    "            opt.zero_grad()"
   ]
  },
  {
   "cell_type": "code",
   "execution_count": 73,
   "metadata": {},
   "outputs": [
    {
     "data": {
      "text/plain": [
       "(tensor(0.0780, grad_fn=<NllLossBackward>), tensor(0.9844))"
      ]
     },
     "execution_count": 73,
     "metadata": {},
     "output_type": "execute_result"
    }
   ],
   "source": [
    "# train the model for 1 epoch\n",
    "fit()\n",
    "# compute loss and accuracy\n",
    "loss,acc = loss_func(model(xb), yb), accuracy(model(xb), yb)\n",
    "loss,acc"
   ]
  },
  {
   "cell_type": "markdown",
   "metadata": {},
   "source": [
    "PyTorch already provides this exact functionality in `optim.SGD` (it also handles stuff like momentum, which we'll look at later - except we'll be doing it in a more flexible way!)"
   ]
  },
  {
   "cell_type": "code",
   "execution_count": 74,
   "metadata": {},
   "outputs": [],
   "source": [
    "#export\n",
    "from torch import optim"
   ]
  },
  {
   "cell_type": "code",
   "execution_count": 75,
   "metadata": {},
   "outputs": [],
   "source": [
    "optim.SGD.step??"
   ]
  },
  {
   "cell_type": "code",
   "execution_count": 76,
   "metadata": {},
   "outputs": [
    {
     "data": {
      "text/plain": [
       "['__class__',\n",
       " '__delattr__',\n",
       " '__dict__',\n",
       " '__dir__',\n",
       " '__doc__',\n",
       " '__eq__',\n",
       " '__format__',\n",
       " '__ge__',\n",
       " '__getattribute__',\n",
       " '__getstate__',\n",
       " '__gt__',\n",
       " '__hash__',\n",
       " '__init__',\n",
       " '__init_subclass__',\n",
       " '__le__',\n",
       " '__lt__',\n",
       " '__module__',\n",
       " '__ne__',\n",
       " '__new__',\n",
       " '__reduce__',\n",
       " '__reduce_ex__',\n",
       " '__repr__',\n",
       " '__setattr__',\n",
       " '__setstate__',\n",
       " '__sizeof__',\n",
       " '__str__',\n",
       " '__subclasshook__',\n",
       " '__weakref__',\n",
       " 'add_param_group',\n",
       " 'load_state_dict',\n",
       " 'state_dict',\n",
       " 'step',\n",
       " 'zero_grad']"
      ]
     },
     "execution_count": 76,
     "metadata": {},
     "output_type": "execute_result"
    }
   ],
   "source": [
    "dir(optim.SGD)"
   ]
  },
  {
   "cell_type": "code",
   "execution_count": 80,
   "metadata": {},
   "outputs": [],
   "source": [
    "# specify model and optimizer\n",
    "def get_model():\n",
    "    model = nn.Sequential(nn.Linear(n_columns,n_hidden), nn.ReLU(), nn.Linear(n_hidden,n_out))\n",
    "    return model, optim.SGD(model.parameters(), learning_rate)"
   ]
  },
  {
   "cell_type": "code",
   "execution_count": 81,
   "metadata": {},
   "outputs": [
    {
     "data": {
      "text/plain": [
       "tensor(2.3297, grad_fn=<NllLossBackward>)"
      ]
     },
     "execution_count": 81,
     "metadata": {},
     "output_type": "execute_result"
    }
   ],
   "source": [
    "# instantiate model and optimizer\n",
    "model,opt = get_model()\n",
    "# compute loss function for a batch\n",
    "loss_func(model(xb), yb)"
   ]
  },
  {
   "cell_type": "code",
   "execution_count": 82,
   "metadata": {},
   "outputs": [
    {
     "data": {
      "text/plain": [
       "(tensor(0.1350, grad_fn=<NllLossBackward>), tensor(0.9688))"
      ]
     },
     "execution_count": 82,
     "metadata": {},
     "output_type": "execute_result"
    }
   ],
   "source": [
    "# train the model for 1 epoch\n",
    "fit()\n",
    "# compute loss and accuracy\n",
    "loss,acc = loss_func(model(xb), yb), accuracy(model(xb), yb)\n",
    "loss,acc"
   ]
  },
  {
   "cell_type": "markdown",
   "metadata": {},
   "source": [
    "Randomized tests can be very useful."
   ]
  },
  {
   "cell_type": "code",
   "execution_count": 83,
   "metadata": {},
   "outputs": [],
   "source": [
    "assert acc>0.7"
   ]
  },
  {
   "cell_type": "markdown",
   "metadata": {},
   "source": [
    "## Dataset and DataLoader"
   ]
  },
  {
   "cell_type": "markdown",
   "metadata": {},
   "source": [
    "### Dataset"
   ]
  },
  {
   "cell_type": "markdown",
   "metadata": {},
   "source": [
    "It's clunky to iterate through minibatches of x and y values separately:\n",
    "\n",
    "```python\n",
    "    xb = x_train[start_i:end_i]\n",
    "    yb = y_train[start_i:end_i]\n",
    "```\n",
    "\n",
    "Instead, let's do these two steps together, by introducing a `Dataset` class:\n",
    "\n",
    "```python\n",
    "    xb,yb = train_ds[i*batch_size : i*batch_size+batch_size]\n",
    "```"
   ]
  },
  {
   "cell_type": "code",
   "execution_count": 84,
   "metadata": {},
   "outputs": [],
   "source": [
    "#export\n",
    "# returns a tuple of data and labels\n",
    "class Dataset():\n",
    "    def __init__(self, x, y): self.x,self.y = x,y\n",
    "    def __len__(self): return len(self.x)\n",
    "    def __getitem__(self, i): return self.x[i],self.y[i]"
   ]
  },
  {
   "cell_type": "code",
   "execution_count": 85,
   "metadata": {},
   "outputs": [],
   "source": [
    "train_ds,valid_ds = Dataset(x_train, y_train),Dataset(x_valid, y_valid)\n",
    "assert len(train_ds)==len(x_train)\n",
    "assert len(valid_ds)==len(x_valid)"
   ]
  },
  {
   "cell_type": "code",
   "execution_count": 86,
   "metadata": {},
   "outputs": [
    {
     "data": {
      "text/plain": [
       "(tensor([[0., 0., 0.,  ..., 0., 0., 0.],\n",
       "         [0., 0., 0.,  ..., 0., 0., 0.],\n",
       "         [0., 0., 0.,  ..., 0., 0., 0.],\n",
       "         [0., 0., 0.,  ..., 0., 0., 0.],\n",
       "         [0., 0., 0.,  ..., 0., 0., 0.]]), tensor([5, 0, 4, 1, 9]))"
      ]
     },
     "execution_count": 86,
     "metadata": {},
     "output_type": "execute_result"
    }
   ],
   "source": [
    "xb,yb = train_ds[0:5]\n",
    "assert xb.shape==(5,28*28)\n",
    "assert yb.shape==(5,)\n",
    "xb,yb"
   ]
  },
  {
   "cell_type": "code",
   "execution_count": 87,
   "metadata": {},
   "outputs": [],
   "source": [
    "# instantiate model and optimizer\n",
    "model,opt = get_model()"
   ]
  },
  {
   "cell_type": "code",
   "execution_count": 89,
   "metadata": {},
   "outputs": [],
   "source": [
    "# refactor fit() once more\n",
    "# training loop\n",
    "def fit():\n",
    "    for epoch in range(n_epochs):\n",
    "        for i in range((n_rows-1)//batch_size + 1):\n",
    "            xb,yb = train_ds[i*batch_size : i*batch_size+batch_size]\n",
    "            # compute predictions and loss function for this batch\n",
    "            pred = model(xb)\n",
    "            loss = loss_func(pred, yb)\n",
    "            # backpropagation: compute gradients of the loss function\n",
    "            loss.backward()\n",
    "            # update the parameters using SGD, and zero out the gradients\n",
    "            opt.step()\n",
    "            opt.zero_grad()"
   ]
  },
  {
   "cell_type": "code",
   "execution_count": 90,
   "metadata": {},
   "outputs": [
    {
     "data": {
      "text/plain": [
       "(tensor(0.0504, grad_fn=<NllLossBackward>), tensor(1.))"
      ]
     },
     "execution_count": 90,
     "metadata": {},
     "output_type": "execute_result"
    }
   ],
   "source": [
    "# train the model for 1 epoch\n",
    "fit()\n",
    "# compute loss and accuracy\n",
    "loss,acc = loss_func(model(xb), yb), accuracy(model(xb), yb)\n",
    "assert acc>0.7\n",
    "loss,acc"
   ]
  },
  {
   "cell_type": "markdown",
   "metadata": {},
   "source": [
    "### DataLoader"
   ]
  },
  {
   "cell_type": "markdown",
   "metadata": {},
   "source": [
    "Previously, our loop iterated over batches (xb, yb) like this:\n",
    "\n",
    "```python\n",
    "for i in range((n-1)//batch_size + 1):\n",
    "    xb,yb = train_ds[i*batch_size : i*batch_size+batch_size]\n",
    "    ...\n",
    "```\n",
    "\n",
    "Let's make our loop much cleaner, using a data loader:\n",
    "\n",
    "```python\n",
    "for xb,yb in train_dl:\n",
    "    ...\n",
    "```"
   ]
  },
  {
   "cell_type": "code",
   "execution_count": 91,
   "metadata": {},
   "outputs": [],
   "source": [
    "class DataLoader():\n",
    "    # batch_size is batch size, and data_set is the data set\n",
    "    def __init__(self, data_set, batch_size): self.data_set,self.batch_size = data_set,batch_size\n",
    "    def __iter__(self):\n",
    "        # iterate through data set sequentially generating the next batch \n",
    "        for i in range(0, len(self.data_set), self.batch_size): yield self.data_set[i:i+self.batch_size]"
   ]
  },
  {
   "cell_type": "code",
   "execution_count": 92,
   "metadata": {},
   "outputs": [],
   "source": [
    "# put training and validation data in iterables that generate next batch\n",
    "train_dl = DataLoader(train_ds, batch_size)\n",
    "valid_dl = DataLoader(valid_ds, batch_size)"
   ]
  },
  {
   "cell_type": "code",
   "execution_count": 93,
   "metadata": {},
   "outputs": [],
   "source": [
    "# generate the first batch\n",
    "xb,yb = next(iter(valid_dl))\n",
    "assert xb.shape==(batch_size,28*28)\n",
    "assert yb.shape==(batch_size,)"
   ]
  },
  {
   "cell_type": "code",
   "execution_count": 94,
   "metadata": {},
   "outputs": [
    {
     "data": {
      "text/plain": [
       "tensor(3)"
      ]
     },
     "execution_count": 94,
     "metadata": {},
     "output_type": "execute_result"
    },
    {
     "data": {
      "image/png": "[encoded data removed]",
      "text/plain": [
       "<Figure size 432x288 with 1 Axes>"
      ]
     },
     "metadata": {
      "needs_background": "light"
     },
     "output_type": "display_data"
    }
   ],
   "source": [
    "# show the first image in the first batch\n",
    "plt.imshow(xb[0].view(28,28))\n",
    "yb[0]"
   ]
  },
  {
   "cell_type": "code",
   "execution_count": 95,
   "metadata": {},
   "outputs": [],
   "source": [
    "# instantiate model and optimizer\n",
    "model,opt = get_model()"
   ]
  },
  {
   "cell_type": "code",
   "execution_count": 98,
   "metadata": {},
   "outputs": [],
   "source": [
    "# refactor fit() using DataLoader class\n",
    "# training loop\n",
    "def fit():\n",
    "    # loop over epochs\n",
    "    for epoch in range(n_epochs):\n",
    "        # loop over batches generated by DataLoader\n",
    "        for xb,yb in train_dl:\n",
    "            pred = model(xb)\n",
    "            loss = loss_func(pred, yb)\n",
    "            loss.backward()\n",
    "            opt.step()\n",
    "            opt.zero_grad()"
   ]
  },
  {
   "cell_type": "code",
   "execution_count": 99,
   "metadata": {},
   "outputs": [
    {
     "data": {
      "text/plain": [
       "(tensor(0.0877, grad_fn=<NllLossBackward>), tensor(0.9844))"
      ]
     },
     "execution_count": 99,
     "metadata": {},
     "output_type": "execute_result"
    }
   ],
   "source": [
    "# train the model for 1 epoch\n",
    "fit()\n",
    "# compute loss and accuracy\n",
    "loss,acc = loss_func(model(xb), yb), accuracy(model(xb), yb)\n",
    "assert acc>0.7\n",
    "loss,acc"
   ]
  },
  {
   "cell_type": "markdown",
   "metadata": {},
   "source": [
    "### Random sampling"
   ]
  },
  {
   "cell_type": "markdown",
   "metadata": {},
   "source": [
    "We want our training set to be in a random order, and that order should differ each iteration. But the validation set shouldn't be randomized."
   ]
  },
  {
   "cell_type": "code",
   "execution_count": 100,
   "metadata": {},
   "outputs": [],
   "source": [
    "# generator yields indices for random batches from data set\n",
    "class Sampler():\n",
    "    def __init__(self, data_set, batch_size, shuffle=False):\n",
    "        self.n_rows,self.batch_size,self.shuffle = len(data_set),batch_size,shuffle\n",
    "        \n",
    "    def __iter__(self):\n",
    "        # torch.randperm(n) returns a random permutation of integers 0:n-1\n",
    "        self.idxs = torch.randperm(self.n_rows) if self.shuffle else torch.arange(self.n_rows)\n",
    "        for i in range(0, self.n_rows, self.batch_size): yield self.idxs[i:i+self.batch_size]"
   ]
  },
  {
   "cell_type": "code",
   "execution_count": 101,
   "metadata": {},
   "outputs": [],
   "source": [
    "# Dataset takes two inputs: *train_ds means pass both elements of train_ds, i.e. the training examples and the labels\n",
    "small_ds = Dataset(*train_ds[:10])"
   ]
  },
  {
   "cell_type": "code",
   "execution_count": 102,
   "metadata": {},
   "outputs": [],
   "source": [
    "# first 10 examples and their labels\n",
    "# print(train_ds[:10])\n",
    "# print(len(train_ds[:10]))"
   ]
  },
  {
   "cell_type": "code",
   "execution_count": 103,
   "metadata": {},
   "outputs": [
    {
     "data": {
      "text/plain": [
       "[tensor([0, 1, 2]), tensor([3, 4, 5]), tensor([6, 7, 8]), tensor([9])]"
      ]
     },
     "execution_count": 103,
     "metadata": {},
     "output_type": "execute_result"
    }
   ],
   "source": [
    "# sample an epoch of training data in batches with no shuffle, batch_size = 3\n",
    "# returns indexes of examples\n",
    "# note the last batch has only 1 element\n",
    "s = Sampler(small_ds,batch_size=3,shuffle=False)\n",
    "[o for o in s]"
   ]
  },
  {
   "cell_type": "code",
   "execution_count": 104,
   "metadata": {},
   "outputs": [
    {
     "data": {
      "text/plain": [
       "[tensor([3, 5, 9]), tensor([8, 6, 2]), tensor([7, 0, 4]), tensor([1])]"
      ]
     },
     "execution_count": 104,
     "metadata": {},
     "output_type": "execute_result"
    }
   ],
   "source": [
    "# sample an epoch of training data in batches, with shuffle\n",
    "s = Sampler(small_ds,batch_size=3,shuffle=True)\n",
    "[o for o in s]"
   ]
  },
  {
   "cell_type": "code",
   "execution_count": 105,
   "metadata": {},
   "outputs": [
    {
     "data": {
      "text/plain": [
       "[tensor([8, 7, 0]), tensor([4, 3, 2]), tensor([1, 5, 6]), tensor([9])]"
      ]
     },
     "execution_count": 105,
     "metadata": {},
     "output_type": "execute_result"
    }
   ],
   "source": [
    "# sample an epoch of training data in batches again, with shuffle\n",
    "s = Sampler(small_ds,batch_size=3,shuffle=True)\n",
    "[o for o in s]"
   ]
  },
  {
   "cell_type": "code",
   "execution_count": 106,
   "metadata": {},
   "outputs": [],
   "source": [
    "def collate(b):\n",
    "    # returns a batch dataset in the form of tuples of x and y\n",
    "    xs,ys = zip(*b)\n",
    "    return torch.stack(xs),torch.stack(ys)\n",
    "\n",
    "# refactor DataLoader()\n",
    "class DataLoader():\n",
    "    def __init__(self, data_set, sampler, collate_fn=collate):\n",
    "        self.data_set,self.sampler,self.collate_fn = data_set,sampler,collate_fn\n",
    "        \n",
    "    def __iter__(self):\n",
    "        # this is an iterator that yields batches\n",
    "        for s in self.sampler: yield self.collate_fn([self.data_set[i] for i in s])"
   ]
  },
  {
   "cell_type": "code",
   "execution_count": 107,
   "metadata": {},
   "outputs": [
    {
     "name": "stdout",
     "output_type": "stream",
     "text": [
      "10 10\n",
      "<class 'tuple'>\n",
      "(tensor(5), tensor(0), tensor(4), tensor(1), tensor(9), tensor(2), tensor(1), tensor(3), tensor(1), tensor(4))\n"
     ]
    }
   ],
   "source": [
    "# zip returns the xs and ys of a batch in tuples of tensors\n",
    "xs,ys = zip(*small_ds)\n",
    "print(len(xs),len(ys))\n",
    "print(type(xs))\n",
    "print(ys)"
   ]
  },
  {
   "cell_type": "code",
   "execution_count": 108,
   "metadata": {},
   "outputs": [
    {
     "name": "stdout",
     "output_type": "stream",
     "text": [
      "10 10\n",
      "<class 'torch.Tensor'>\n",
      "tensor([5, 0, 4, 1, 9, 2, 1, 3, 1, 4])\n"
     ]
    }
   ],
   "source": [
    "# collate stacks the tuples xs and ys of a batch into single tensors \n",
    "xx, yy = collate(small_ds)\n",
    "print(len(xx),len(yy))\n",
    "print(type(yy))\n",
    "print(yy)"
   ]
  },
  {
   "cell_type": "code",
   "execution_count": 109,
   "metadata": {},
   "outputs": [],
   "source": [
    "# make a random sampler for the training set, and a non-random sampler for the validation set\n",
    "train_samp = Sampler(train_ds, batch_size, shuffle=True)\n",
    "valid_samp = Sampler(valid_ds, batch_size, shuffle=False)"
   ]
  },
  {
   "cell_type": "code",
   "execution_count": 110,
   "metadata": {},
   "outputs": [],
   "source": [
    "# make data loaders\n",
    "# sampler and collate are the keywords, train_samp and collate are the values\n",
    "train_dl = DataLoader(train_ds, sampler=train_samp, collate_fn=collate)\n",
    "valid_dl = DataLoader(valid_ds, sampler=valid_samp, collate_fn=collate)"
   ]
  },
  {
   "cell_type": "code",
   "execution_count": 111,
   "metadata": {},
   "outputs": [
    {
     "data": {
      "text/plain": [
       "tensor(3)"
      ]
     },
     "execution_count": 111,
     "metadata": {},
     "output_type": "execute_result"
    },
    {
     "data": {
      "image/png": "[encoded data removed]",
      "text/plain": [
       "<Figure size 432x288 with 1 Axes>"
      ]
     },
     "metadata": {
      "needs_background": "light"
     },
     "output_type": "display_data"
    }
   ],
   "source": [
    "# get a batch from the validation data and show the first image\n",
    "xb,yb = next(iter(valid_dl))\n",
    "plt.imshow(xb[0].view(28,28))\n",
    "yb[0]"
   ]
  },
  {
   "cell_type": "code",
   "execution_count": 112,
   "metadata": {},
   "outputs": [
    {
     "data": {
      "text/plain": [
       "tensor(5)"
      ]
     },
     "execution_count": 112,
     "metadata": {},
     "output_type": "execute_result"
    },
    {
     "data": {
      "image/png": "[encoded data removed]",
      "text/plain": [
       "<Figure size 432x288 with 1 Axes>"
      ]
     },
     "metadata": {
      "needs_background": "light"
     },
     "output_type": "display_data"
    }
   ],
   "source": [
    "# draw a random batch from the training data\n",
    "xb,yb = next(iter(train_dl))\n",
    "plt.imshow(xb[0].view(28,28))\n",
    "yb[0]"
   ]
  },
  {
   "cell_type": "code",
   "execution_count": 113,
   "metadata": {},
   "outputs": [
    {
     "data": {
      "text/plain": [
       "tensor(3)"
      ]
     },
     "execution_count": 113,
     "metadata": {},
     "output_type": "execute_result"
    },
    {
     "data": {
      "image/png": "[encoded data removed]",
      "text/plain": [
       "<Figure size 432x288 with 1 Axes>"
      ]
     },
     "metadata": {
      "needs_background": "light"
     },
     "output_type": "display_data"
    }
   ],
   "source": [
    "# draw another random batch from the training data\n",
    "xb,yb = next(iter(train_dl))\n",
    "plt.imshow(xb[0].view(28,28))\n",
    "yb[0]"
   ]
  },
  {
   "cell_type": "code",
   "execution_count": 114,
   "metadata": {},
   "outputs": [
    {
     "data": {
      "text/plain": [
       "(tensor(0.2435, grad_fn=<NllLossBackward>), tensor(0.9375))"
      ]
     },
     "execution_count": 114,
     "metadata": {},
     "output_type": "execute_result"
    }
   ],
   "source": [
    "# instantiate the model and train it for a single epoch\n",
    "model,opt = get_model()\n",
    "fit()\n",
    "# loss function and accuracy\n",
    "loss,acc = loss_func(model(xb), yb), accuracy(model(xb), yb)\n",
    "assert acc>0.7\n",
    "loss,acc"
   ]
  },
  {
   "cell_type": "markdown",
   "metadata": {},
   "source": [
    "### PyTorch DataLoader"
   ]
  },
  {
   "cell_type": "code",
   "execution_count": 115,
   "metadata": {},
   "outputs": [],
   "source": [
    "#export\n",
    "from torch.utils.data import DataLoader, SequentialSampler, RandomSampler"
   ]
  },
  {
   "cell_type": "code",
   "execution_count": 116,
   "metadata": {},
   "outputs": [],
   "source": [
    "# use pytorch to build data loaders\n",
    "train_dl = DataLoader(train_ds, batch_size, sampler=RandomSampler(train_ds), collate_fn=collate)\n",
    "valid_dl = DataLoader(valid_ds, batch_size, sampler=SequentialSampler(valid_ds), collate_fn=collate)"
   ]
  },
  {
   "cell_type": "code",
   "execution_count": 117,
   "metadata": {},
   "outputs": [],
   "source": [
    "# draw a random batch from train_dl\n",
    "xb,yb = next(iter(train_dl))"
   ]
  },
  {
   "cell_type": "code",
   "execution_count": 118,
   "metadata": {},
   "outputs": [
    {
     "data": {
      "text/plain": [
       "(tensor(0.4014, grad_fn=<NllLossBackward>), tensor(0.8594))"
      ]
     },
     "execution_count": 118,
     "metadata": {},
     "output_type": "execute_result"
    }
   ],
   "source": [
    "# run a training loop\n",
    "model,opt = get_model()\n",
    "fit()\n",
    "loss_func(model(xb), yb), accuracy(model(xb), yb)"
   ]
  },
  {
   "cell_type": "markdown",
   "metadata": {},
   "source": [
    "PyTorch's defaults work fine for most things however:"
   ]
  },
  {
   "cell_type": "code",
   "execution_count": 119,
   "metadata": {},
   "outputs": [],
   "source": [
    "# drop the last (partial) batch?\n",
    "train_dl = DataLoader(train_ds, batch_size, shuffle=True, drop_last=True)\n",
    "valid_dl = DataLoader(valid_ds, batch_size, shuffle=False)"
   ]
  },
  {
   "cell_type": "code",
   "execution_count": 120,
   "metadata": {},
   "outputs": [],
   "source": [
    "# draw a random batch\n",
    "xb,yb = next(iter(train_dl))"
   ]
  },
  {
   "cell_type": "code",
   "execution_count": 121,
   "metadata": {},
   "outputs": [
    {
     "data": {
      "text/plain": [
       "(tensor(0.2024, grad_fn=<NllLossBackward>), tensor(0.9375))"
      ]
     },
     "execution_count": 121,
     "metadata": {},
     "output_type": "execute_result"
    }
   ],
   "source": [
    "# run a training loop\n",
    "model,opt = get_model()\n",
    "fit()\n",
    "# report loss and accuracy\n",
    "loss,acc = loss_func(model(xb), yb), accuracy(model(xb), yb)\n",
    "assert acc>0.7\n",
    "loss,acc"
   ]
  },
  {
   "cell_type": "markdown",
   "metadata": {},
   "source": [
    "Note that PyTorch's `DataLoader`, if you pass `num_workers`, will use multiple threads to call your `Dataset`."
   ]
  },
  {
   "cell_type": "markdown",
   "metadata": {},
   "source": [
    "## Validation"
   ]
  },
  {
   "cell_type": "markdown",
   "metadata": {},
   "source": [
    "You **always** should also have a [validation set](http://www.fast.ai/2017/11/13/validation-sets/), in order to identify if you are overfitting.\n",
    "\n",
    "We will calculate and print the validation loss at the end of each epoch.\n",
    "\n",
    "(Note that we always call `model.train()` before training, and `model.eval()` before inference, because these are used by layers such as `nn.BatchNorm2d` and `nn.Dropout` to ensure appropriate behaviour for these different phases.)"
   ]
  },
  {
   "cell_type": "code",
   "execution_count": 127,
   "metadata": {},
   "outputs": [],
   "source": [
    "# refactor fit for improved readability by making n_epochs the last input, and making it a keyword argument \n",
    "def fit(model, loss_func, opt, train_dl, valid_dl,n_epochs=n_epochs):\n",
    "    for epoch in range(n_epochs):\n",
    "        # training phase: handle batchnorm / dropout\n",
    "        model.train()\n",
    "        # print(model.training)\n",
    "        for xb,yb in train_dl:\n",
    "            loss = loss_func(model(xb), yb)\n",
    "            loss.backward()\n",
    "            opt.step()\n",
    "            opt.zero_grad()\n",
    "            \n",
    "        # inference phase\n",
    "        model.eval()\n",
    "        # print(model.training)\n",
    "        with torch.no_grad():\n",
    "            tot_loss,tot_acc = 0.,0.\n",
    "            for xb,yb in valid_dl:\n",
    "                pred = model(xb)\n",
    "                tot_loss += loss_func(pred, yb)\n",
    "                tot_acc  += accuracy (pred,yb)\n",
    "        # number of samples in validation batch\n",
    "        n_valid = len(valid_dl)\n",
    "        avg_loss, avg_acc = tot_loss/n_valid, tot_acc/n_valid\n",
    "        print(epoch, avg_loss, avg_acc)\n",
    "    return avg_loss, avg_acc"
   ]
  },
  {
   "cell_type": "markdown",
   "metadata": {},
   "source": [
    "*Question*: Are these validation results correct if batch size varies?"
   ]
  },
  {
   "cell_type": "markdown",
   "metadata": {},
   "source": [
    "`get_dls` returns dataloaders for the training and validation sets:"
   ]
  },
  {
   "cell_type": "code",
   "execution_count": 128,
   "metadata": {},
   "outputs": [],
   "source": [
    "#export \n",
    "# note double batch size for validation data set, since it needs less storage because it has no gradients \n",
    "def get_dls(train_ds, valid_ds, batch_size, **kwargs):\n",
    "    return (DataLoader(train_ds, batch_size=batch_size, shuffle=True, **kwargs),\n",
    "            DataLoader(valid_ds, batch_size=batch_size*2, **kwargs))"
   ]
  },
  {
   "cell_type": "markdown",
   "metadata": {},
   "source": [
    "Now, our whole process of obtaining the data loaders and fitting the model can be run in 3 lines of code:"
   ]
  },
  {
   "cell_type": "code",
   "execution_count": 129,
   "metadata": {},
   "outputs": [
    {
     "name": "stdout",
     "output_type": "stream",
     "text": [
      "0 tensor(0.2702) tensor(0.9129)\n",
      "1 tensor(0.1257) tensor(0.9637)\n",
      "2 tensor(0.6272) tensor(0.8467)\n",
      "3 tensor(0.0970) tensor(0.9718)\n",
      "4 tensor(0.1022) tensor(0.9691)\n"
     ]
    }
   ],
   "source": [
    "# make the data loaders\n",
    "train_dl,valid_dl = get_dls(train_ds, valid_ds, batch_size)\n",
    "# instantiate model and optimizer\n",
    "model,opt = get_model()\n",
    "# run the model for 5 epochs, compute loss and accuracy\n",
    "loss,acc = fit(model, loss_func, opt, train_dl, valid_dl,n_epochs=5)"
   ]
  },
  {
   "cell_type": "code",
   "execution_count": 130,
   "metadata": {},
   "outputs": [],
   "source": [
    "assert acc>0.9"
   ]
  },
  {
   "cell_type": "markdown",
   "metadata": {},
   "source": [
    "## Export"
   ]
  },
  {
   "cell_type": "code",
   "execution_count": 131,
   "metadata": {},
   "outputs": [
    {
     "name": "stdout",
     "output_type": "stream",
     "text": [
      "Converted 03_minibatch_training_jcat.ipynb to exp\\nb_03.py\n"
     ]
    }
   ],
   "source": [
    "!python notebook2script.py 03_minibatch_training_jcat.ipynb"
   ]
  },
  {
   "cell_type": "code",
   "execution_count": null,
   "metadata": {},
   "outputs": [],
   "source": []
  }
 ],
 "metadata": {
  "kernelspec": {
   "display_name": "Python 3",
   "language": "python",
   "name": "python3"
  },
  "language_info": {
   "codemirror_mode": {
    "name": "ipython",
    "version": 3
   },
   "file_extension": ".py",
   "mimetype": "text/x-python",
   "name": "python",
   "nbconvert_exporter": "python",
   "pygments_lexer": "ipython3",
   "version": "3.7.3"
  }
 },
 "nbformat": 4,
 "nbformat_minor": 2
}
