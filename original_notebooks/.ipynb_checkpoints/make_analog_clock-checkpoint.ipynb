{
 "cells": [
  {
   "cell_type": "code",
   "execution_count": 1,
   "metadata": {},
   "outputs": [],
   "source": [
    "#!/usr/bin/python\n",
    "# -*- coding: utf-8 -*-\n",
    "#\n",
    "# Written By:\n",
    "#  S.S.B\n",
    "#  surajsinghbisht054@gmail.com\n",
    "#  bitforestinfo.blogspot.com\n",
    "#\n",
    "# from https://github.com/surajsinghbisht054/AnalogClock\n",
    "# Import Module\n",
    "try:\n",
    "    import Tkinter\n",
    "except:\n",
    "    import tkinter as Tkinter\n",
    "\n",
    "import math # Required For Coordinates Calculation\n",
    "import time # Required For Time Handling\n",
    "import os\n",
    "\n",
    "# class\n",
    "class main(Tkinter.Tk):\n",
    "    def __init__(self):\n",
    "        Tkinter.Tk.__init__(self)\n",
    "        self.x=150 # Center Point x  \n",
    "        self.y=150 # Center Point\n",
    "        self.length=50 # Stick Length\n",
    "        self.creating_all_function_trigger()\n",
    "\n",
    "    # Creating Trigger For Other Functions\n",
    "    def creating_all_function_trigger(self):\n",
    "        self.create_canvas_for_shapes()\n",
    "        self.creating_background_()\n",
    "        self.creating_sticks()\n",
    "        return\n",
    "\n",
    "    # Creating Background\n",
    "    def creating_background_(self):\n",
    "        scriptDir = os.getcwd()\n",
    "        #os.chdir(scriptDir)\n",
    "        print(scriptDir)\n",
    "        self.image=Tkinter.PhotoImage(file=scriptDir+'\\\\tmp\\clock.gif')\n",
    "        print(dir(self.image))\n",
    "        self.canvas.create_image(150,150, image=self.image)\n",
    "        return\n",
    "\n",
    "     # creating Canvas\n",
    "    def create_canvas_for_shapes(self):\n",
    "        self.canvas=Tkinter.Canvas(self, bg='skyblue')\n",
    "        self.canvas.pack(expand='yes',fill='both')\n",
    "        return\n",
    "\n",
    "    # Creating Moving Sticks\n",
    "    def creating_sticks(self):\n",
    "        self.sticks=[]\n",
    "        for i in range(3):\n",
    "            store=self.canvas.create_line(self.x, self.y,self.x+self.length,self.y+self.length,width=2)\n",
    "            self.sticks.append(store)\n",
    "        return\n",
    "\n",
    "    # Function Need Regular Update\n",
    "    def update_class(self):\n",
    "        now=time.localtime()\n",
    "        t = time.strptime(str(now.tm_hour), \"%H\")\n",
    "        hour = int(time.strftime( \"%I\", t ))*5\n",
    "        now=(hour,now.tm_min,now.tm_sec)\n",
    "        # Changing Stick Coordinates\n",
    "        for n,i in enumerate(now):\n",
    "            x,y=self.canvas.coords(self.sticks[n])[0:2]\n",
    "            cr=[x,y]\n",
    "            cr.append(self.length*math.cos(math.radians(i*6)-math.radians(90))+self.x)\n",
    "            cr.append(self.length*math.sin(math.radians(i*6)-math.radians(90))+self.y)\n",
    "            self.canvas.coords(self.sticks[n], tuple(cr))\n",
    "        return\n",
    "\n"
   ]
  },
  {
   "cell_type": "code",
   "execution_count": 2,
   "metadata": {},
   "outputs": [
    {
     "name": "stdout",
     "output_type": "stream",
     "text": [
      "C:\\Users\\cross-entropy\\fastai\\course-v3\\nbs\\dl2\n",
      "['__class__', '__del__', '__delattr__', '__dict__', '__dir__', '__doc__', '__eq__', '__format__', '__ge__', '__getattribute__', '__getitem__', '__gt__', '__hash__', '__init__', '__init_subclass__', '__le__', '__lt__', '__module__', '__ne__', '__new__', '__reduce__', '__reduce_ex__', '__repr__', '__setattr__', '__setitem__', '__sizeof__', '__str__', '__subclasshook__', '__weakref__', '_last_id', 'blank', 'cget', 'config', 'configure', 'copy', 'get', 'height', 'name', 'put', 'subsample', 'tk', 'type', 'width', 'write', 'zoom']\n"
     ]
    },
    {
     "ename": "KeyboardInterrupt",
     "evalue": "",
     "output_type": "error",
     "traceback": [
      "\u001b[1;31m---------------------------------------------------------------------------\u001b[0m",
      "\u001b[1;31mKeyboardInterrupt\u001b[0m                         Traceback (most recent call last)",
      "\u001b[1;32m<ipython-input-2-e9225d97ed14>\u001b[0m in \u001b[0;36m<module>\u001b[1;34m\u001b[0m\n\u001b[0;32m      5\u001b[0m \u001b[1;31m# Creating Main Loop\u001b[0m\u001b[1;33m\u001b[0m\u001b[1;33m\u001b[0m\u001b[1;33m\u001b[0m\u001b[0m\n\u001b[0;32m      6\u001b[0m \u001b[1;32mwhile\u001b[0m \u001b[1;32mTrue\u001b[0m\u001b[1;33m:\u001b[0m\u001b[1;33m\u001b[0m\u001b[1;33m\u001b[0m\u001b[0m\n\u001b[1;32m----> 7\u001b[1;33m     \u001b[0mroot\u001b[0m\u001b[1;33m.\u001b[0m\u001b[0mupdate\u001b[0m\u001b[1;33m(\u001b[0m\u001b[1;33m)\u001b[0m\u001b[1;33m\u001b[0m\u001b[1;33m\u001b[0m\u001b[0m\n\u001b[0m\u001b[0;32m      8\u001b[0m     \u001b[0mroot\u001b[0m\u001b[1;33m.\u001b[0m\u001b[0mupdate_idletasks\u001b[0m\u001b[1;33m(\u001b[0m\u001b[1;33m)\u001b[0m\u001b[1;33m\u001b[0m\u001b[1;33m\u001b[0m\u001b[0m\n\u001b[0;32m      9\u001b[0m     \u001b[0mroot\u001b[0m\u001b[1;33m.\u001b[0m\u001b[0mupdate_class\u001b[0m\u001b[1;33m(\u001b[0m\u001b[1;33m)\u001b[0m\u001b[1;33m\u001b[0m\u001b[1;33m\u001b[0m\u001b[0m\n",
      "\u001b[1;32m~\\Anaconda3\\envs\\fastai\\lib\\tkinter\\__init__.py\u001b[0m in \u001b[0;36mupdate\u001b[1;34m(self)\u001b[0m\n\u001b[0;32m   1175\u001b[0m     \u001b[1;32mdef\u001b[0m \u001b[0mupdate\u001b[0m\u001b[1;33m(\u001b[0m\u001b[0mself\u001b[0m\u001b[1;33m)\u001b[0m\u001b[1;33m:\u001b[0m\u001b[1;33m\u001b[0m\u001b[1;33m\u001b[0m\u001b[0m\n\u001b[0;32m   1176\u001b[0m         \u001b[1;34m\"\"\"Enter event loop until all pending events have been processed by Tcl.\"\"\"\u001b[0m\u001b[1;33m\u001b[0m\u001b[1;33m\u001b[0m\u001b[0m\n\u001b[1;32m-> 1177\u001b[1;33m         \u001b[0mself\u001b[0m\u001b[1;33m.\u001b[0m\u001b[0mtk\u001b[0m\u001b[1;33m.\u001b[0m\u001b[0mcall\u001b[0m\u001b[1;33m(\u001b[0m\u001b[1;34m'update'\u001b[0m\u001b[1;33m)\u001b[0m\u001b[1;33m\u001b[0m\u001b[1;33m\u001b[0m\u001b[0m\n\u001b[0m\u001b[0;32m   1178\u001b[0m     \u001b[1;32mdef\u001b[0m \u001b[0mupdate_idletasks\u001b[0m\u001b[1;33m(\u001b[0m\u001b[0mself\u001b[0m\u001b[1;33m)\u001b[0m\u001b[1;33m:\u001b[0m\u001b[1;33m\u001b[0m\u001b[1;33m\u001b[0m\u001b[0m\n\u001b[0;32m   1179\u001b[0m         \"\"\"Enter event loop until all idle callbacks have been called. This\n",
      "\u001b[1;31mKeyboardInterrupt\u001b[0m: "
     ]
    }
   ],
   "source": [
    "# Main Function Trigger\n",
    "if __name__ == '__main__':\n",
    "    root=main()\n",
    "\n",
    "# Creating Main Loop\n",
    "while True:\n",
    "    root.update()\n",
    "    root.update_idletasks()\n",
    "    root.update_class()\n"
   ]
  },
  {
   "cell_type": "code",
   "execution_count": null,
   "metadata": {},
   "outputs": [],
   "source": []
  }
 ],
 "metadata": {
  "kernelspec": {
   "display_name": "Python 3",
   "language": "python",
   "name": "python3"
  },
  "language_info": {
   "codemirror_mode": {
    "name": "ipython",
    "version": 3
   },
   "file_extension": ".py",
   "mimetype": "text/x-python",
   "name": "python",
   "nbconvert_exporter": "python",
   "pygments_lexer": "ipython3",
   "version": "3.7.3"
  }
 },
 "nbformat": 4,
 "nbformat_minor": 2
}
