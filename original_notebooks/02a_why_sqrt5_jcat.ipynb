{
 "cells": [
  {
   "cell_type": "code",
   "execution_count": 45,
   "metadata": {},
   "outputs": [
    {
     "name": "stdout",
     "output_type": "stream",
     "text": [
      "The autoreload extension is already loaded. To reload it, use:\n",
      "  %reload_ext autoreload\n"
     ]
    }
   ],
   "source": [
    "%load_ext autoreload\n",
    "%autoreload 2\n",
    "\n",
    "%matplotlib inline"
   ]
  },
  {
   "cell_type": "markdown",
   "metadata": {},
   "source": [
    "## Does nn.Conv2d init work well?"
   ]
  },
  {
   "cell_type": "code",
   "execution_count": 46,
   "metadata": {},
   "outputs": [],
   "source": [
    "#export\n",
    "from exp.nb_02 import *\n",
    "\n",
    "def get_data():\n",
    "    path = datasets.download_data(MNIST_URL, ext='.gz')\n",
    "    with gzip.open(path, 'rb') as f:\n",
    "        ((x_train, y_train), (x_valid, y_valid), _) = pickle.load(f, encoding='latin-1')\n",
    "    return map(tensor, (x_train,y_train,x_valid,y_valid))\n",
    "\n",
    "def normalize(x, m, s): return (x-m)/s"
   ]
  },
  {
   "cell_type": "code",
   "execution_count": 47,
   "metadata": {},
   "outputs": [],
   "source": [
    "torch.nn.modules.conv._ConvNd.reset_parameters??"
   ]
  },
  {
   "cell_type": "code",
   "execution_count": 48,
   "metadata": {},
   "outputs": [],
   "source": [
    "# load and normalize the MNIST data\n",
    "x_train,y_train,x_valid,y_valid = get_data()\n",
    "train_mean,train_std = x_train.mean(),x_train.std()\n",
    "x_train = normalize(x_train, train_mean, train_std)\n",
    "x_valid = normalize(x_valid, train_mean, train_std)"
   ]
  },
  {
   "cell_type": "code",
   "execution_count": 49,
   "metadata": {},
   "outputs": [
    {
     "data": {
      "text/plain": [
       "torch.Size([10000, 784])"
      ]
     },
     "execution_count": 49,
     "metadata": {},
     "output_type": "execute_result"
    }
   ],
   "source": [
    "x_valid.shape"
   ]
  },
  {
   "cell_type": "code",
   "execution_count": 50,
   "metadata": {},
   "outputs": [
    {
     "data": {
      "text/plain": [
       "(torch.Size([50000, 1, 28, 28]), torch.Size([10000, 1, 28, 28]))"
      ]
     },
     "execution_count": 50,
     "metadata": {},
     "output_type": "execute_result"
    }
   ],
   "source": [
    "# training set consists of 50,000 images of size 28x28\n",
    "# validation set consists of 10,000 images of size 28x28\n",
    "# view reshapes an array\n",
    "x_train = x_train.view(-1,1,28,28)\n",
    "x_valid = x_valid.view(-1,1,28,28)\n",
    "x_train.shape,x_valid.shape"
   ]
  },
  {
   "cell_type": "code",
   "execution_count": 52,
   "metadata": {},
   "outputs": [
    {
     "data": {
      "text/plain": [
       "(50000, tensor(10))"
      ]
     },
     "execution_count": 52,
     "metadata": {},
     "output_type": "execute_result"
    }
   ],
   "source": [
    "# n is the number of training examples\n",
    "n,*_ = x_train.shape\n",
    "# c is number of digits\n",
    "c = y_train.max()+1\n",
    "# nh is number of channels in the hidden layer\n",
    "nh = 32\n",
    "n,c"
   ]
  },
  {
   "cell_type": "code",
   "execution_count": 53,
   "metadata": {},
   "outputs": [],
   "source": [
    "# linear layer nh = 32 channels, 5x5 kernel\n",
    "l1 = nn.Conv2d(1, nh, 5)"
   ]
  },
  {
   "cell_type": "code",
   "execution_count": 54,
   "metadata": {},
   "outputs": [],
   "source": [
    "# subset of validation set\n",
    "x = x_valid[:100]"
   ]
  },
  {
   "cell_type": "code",
   "execution_count": 55,
   "metadata": {},
   "outputs": [
    {
     "data": {
      "text/plain": [
       "torch.Size([100, 1, 28, 28])"
      ]
     },
     "execution_count": 55,
     "metadata": {},
     "output_type": "execute_result"
    }
   ],
   "source": [
    "x.shape"
   ]
  },
  {
   "cell_type": "code",
   "execution_count": 56,
   "metadata": {},
   "outputs": [],
   "source": [
    "def stats(x): return x.mean(),x.std()"
   ]
  },
  {
   "cell_type": "code",
   "execution_count": 57,
   "metadata": {},
   "outputs": [
    {
     "data": {
      "text/plain": [
       "torch.Size([32, 1, 5, 5])"
      ]
     },
     "execution_count": 57,
     "metadata": {},
     "output_type": "execute_result"
    }
   ],
   "source": [
    "# n_output, n_input, 5, 5\n",
    "l1.weight.shape"
   ]
  },
  {
   "cell_type": "code",
   "execution_count": 58,
   "metadata": {},
   "outputs": [
    {
     "data": {
      "text/plain": [
       "Parameter containing:\n",
       "tensor([[[[-1.9272e-01, -5.9605e-02, -1.0969e-01,  8.7362e-02,  1.1057e-01],\n",
       "          [ 7.2869e-02,  1.8587e-01,  4.2541e-02, -1.3276e-01,  7.4849e-02],\n",
       "          [ 1.4712e-01,  1.5383e-01, -7.0912e-02, -1.0803e-01, -1.4747e-01],\n",
       "          [ 1.2613e-01, -5.3487e-02, -2.1475e-02, -1.4186e-01,  1.7312e-01],\n",
       "          [-4.1480e-02, -1.1257e-01,  3.1724e-02, -1.0660e-03,  2.7187e-03]]],\n",
       "\n",
       "\n",
       "        [[[ 9.6423e-02,  1.5486e-01, -1.0322e-01,  1.2410e-01, -1.3959e-01],\n",
       "          [-9.4860e-02, -3.3992e-02,  1.8347e-01,  1.3069e-01,  4.0130e-02],\n",
       "          [-1.3026e-01, -7.1020e-02, -6.7133e-02,  1.1190e-01,  5.6897e-02],\n",
       "          [ 1.7928e-01, -1.1067e-01,  3.3082e-02,  1.6363e-01,  1.0432e-01],\n",
       "          [-5.9715e-02, -8.8557e-02, -3.9847e-03, -1.2043e-02,  5.5731e-02]]],\n",
       "\n",
       "\n",
       "        [[[ 1.7915e-01, -3.3733e-02, -8.3825e-02, -4.0408e-02, -1.6013e-04],\n",
       "          [ 1.7347e-01,  1.8882e-01, -1.4995e-01,  4.4772e-03,  1.0159e-01],\n",
       "          [-6.1053e-02, -9.9347e-02, -1.0995e-01,  1.9663e-01, -1.6258e-01],\n",
       "          [ 1.7917e-01, -2.6666e-02,  4.9968e-02,  1.3765e-01,  8.6736e-02],\n",
       "          [ 1.4965e-01, -8.1485e-02, -1.4928e-01,  4.3248e-02,  4.8410e-02]]],\n",
       "\n",
       "\n",
       "        [[[ 2.4498e-02,  1.4986e-02, -1.4750e-01,  1.1257e-01, -1.9225e-01],\n",
       "          [ 8.5511e-02,  1.5151e-02, -6.2014e-02,  1.0909e-01,  1.1156e-01],\n",
       "          [ 1.7111e-01,  1.1833e-01,  7.5465e-02, -1.9237e-01, -1.2340e-01],\n",
       "          [ 4.1647e-02,  3.7400e-02, -1.8994e-01,  1.1519e-01,  1.0467e-01],\n",
       "          [ 1.5614e-01,  3.5984e-02,  9.5394e-02,  5.7673e-02,  1.9489e-01]]],\n",
       "\n",
       "\n",
       "        [[[-2.5011e-02, -5.2896e-02, -1.2485e-01,  1.1328e-02,  2.3177e-02],\n",
       "          [ 1.7183e-01,  1.2364e-01,  8.3525e-02,  8.5589e-03, -1.5652e-01],\n",
       "          [ 7.8460e-02, -1.0946e-01,  2.3506e-02,  3.6795e-02, -1.0939e-01],\n",
       "          [-7.5475e-02, -7.9656e-02,  1.6203e-01, -5.0846e-02, -1.0596e-02],\n",
       "          [ 2.3960e-02,  1.2851e-01, -9.2374e-03,  1.0642e-02,  5.5446e-02]]],\n",
       "\n",
       "\n",
       "        [[[ 1.7729e-01,  1.6665e-01, -1.8475e-01,  2.9809e-02,  1.2644e-01],\n",
       "          [-1.5185e-01,  1.6065e-01,  9.2307e-02, -6.2375e-02, -2.0419e-02],\n",
       "          [-4.5663e-02,  1.5959e-01,  5.1300e-02, -2.0187e-03, -1.7490e-01],\n",
       "          [-1.1292e-02,  1.4866e-01, -7.6888e-02, -1.8848e-01,  1.1646e-02],\n",
       "          [-1.1134e-01, -1.2985e-01,  6.9659e-02,  1.3064e-01,  1.7800e-01]]],\n",
       "\n",
       "\n",
       "        [[[ 1.4511e-02,  6.3161e-02,  1.7981e-01, -4.8849e-02, -1.9430e-01],\n",
       "          [-1.0722e-01, -1.4556e-01, -1.4475e-01,  1.2385e-01,  1.0976e-01],\n",
       "          [-7.5813e-02,  1.8506e-01, -1.8385e-01,  1.3145e-01,  1.7244e-01],\n",
       "          [ 1.9632e-01, -6.5146e-02, -1.0456e-02, -1.4624e-01, -4.4428e-02],\n",
       "          [ 2.3455e-03,  1.1215e-01, -4.0191e-03, -1.6851e-01, -1.9480e-01]]],\n",
       "\n",
       "\n",
       "        [[[-1.3746e-01,  1.7383e-01, -1.2091e-02, -1.7255e-01, -6.2745e-02],\n",
       "          [-1.1733e-02,  1.7832e-01,  1.4256e-01,  6.6152e-03, -4.5139e-02],\n",
       "          [ 3.0419e-02,  1.1750e-01, -4.5258e-03, -6.0667e-02, -3.0952e-02],\n",
       "          [-4.3239e-02, -1.6210e-01, -5.1424e-02, -5.6660e-02, -1.1768e-01],\n",
       "          [-1.7301e-02, -5.4817e-02, -1.4558e-02,  1.0444e-01,  1.1132e-01]]],\n",
       "\n",
       "\n",
       "        [[[-5.2202e-04,  5.7200e-03, -3.8979e-02, -1.0212e-01,  1.9761e-01],\n",
       "          [-1.2491e-01,  1.4534e-01, -1.5657e-02,  1.4616e-01, -1.6496e-01],\n",
       "          [ 8.2533e-02, -1.3517e-01,  7.2229e-02, -8.4965e-02, -3.2389e-02],\n",
       "          [-1.4781e-01,  3.5058e-02,  3.9227e-02,  2.9785e-02, -3.2102e-02],\n",
       "          [ 1.6642e-01, -4.5709e-02,  7.7957e-02,  1.8887e-01,  8.5917e-02]]],\n",
       "\n",
       "\n",
       "        [[[ 7.3504e-02,  9.3347e-02, -1.4491e-01,  1.4602e-01, -6.5521e-02],\n",
       "          [-2.3192e-02, -1.7388e-01, -1.1410e-01, -9.9404e-02,  1.6858e-01],\n",
       "          [ 1.2213e-01, -1.3994e-01, -4.4286e-02, -5.4112e-02, -1.3434e-01],\n",
       "          [-1.4160e-01, -2.3920e-02,  8.1732e-02,  1.3092e-01,  8.3909e-02],\n",
       "          [-1.9873e-01,  1.1854e-01,  1.9989e-01, -1.0874e-02,  4.6374e-02]]],\n",
       "\n",
       "\n",
       "        [[[-4.8575e-02, -1.5781e-01, -9.4780e-02, -7.9081e-02, -1.8224e-01],\n",
       "          [ 1.3085e-01,  3.7585e-02, -9.3540e-02, -7.5130e-02, -2.1906e-02],\n",
       "          [-8.4184e-02,  8.3387e-02,  1.1524e-01, -8.9074e-02,  3.2676e-02],\n",
       "          [-1.3700e-01, -9.3575e-02,  5.4816e-02,  7.3571e-03, -7.0465e-02],\n",
       "          [-1.4541e-01,  1.6353e-01,  9.2718e-02,  1.4046e-01, -4.9405e-03]]],\n",
       "\n",
       "\n",
       "        [[[ 1.4532e-01, -8.2982e-03, -4.9122e-02,  1.6333e-01, -1.0374e-01],\n",
       "          [-2.5006e-02, -1.0236e-01,  1.4490e-01, -2.0479e-02, -6.2857e-02],\n",
       "          [-7.5095e-02,  1.3194e-01,  1.2404e-01,  1.2548e-01, -2.3433e-03],\n",
       "          [ 1.5974e-01, -1.5562e-01, -1.6277e-01,  1.1915e-01,  9.3350e-02],\n",
       "          [-1.3246e-01,  1.5071e-01, -9.7518e-02, -1.2481e-01, -1.9052e-01]]],\n",
       "\n",
       "\n",
       "        [[[ 9.5923e-02, -9.9977e-02,  7.5336e-02,  9.1453e-02, -5.5481e-03],\n",
       "          [-1.5958e-01,  1.1098e-01, -3.3319e-02,  1.1753e-01,  3.1881e-02],\n",
       "          [ 1.9562e-01, -1.4188e-01, -2.5945e-02,  1.9199e-01,  1.6303e-04],\n",
       "          [ 1.2532e-01, -1.5179e-01, -6.9915e-02,  6.1104e-02,  1.2266e-01],\n",
       "          [ 1.9897e-01,  1.6173e-01,  1.6893e-01, -7.5239e-02,  1.3030e-01]]],\n",
       "\n",
       "\n",
       "        [[[-1.0800e-01,  1.1938e-01,  3.6746e-02, -5.9875e-02,  1.8078e-01],\n",
       "          [ 1.0638e-01, -2.6041e-02,  8.3456e-03,  8.6181e-02, -4.7849e-02],\n",
       "          [-9.2218e-02, -4.1962e-03, -1.1012e-01,  2.2663e-02,  1.6217e-02],\n",
       "          [-9.0212e-02,  1.5118e-01, -1.7335e-01,  1.4779e-01,  1.0714e-01],\n",
       "          [-1.2021e-01,  3.6631e-02, -1.1071e-01, -9.5901e-02,  1.8203e-01]]],\n",
       "\n",
       "\n",
       "        [[[ 1.2242e-01, -3.8356e-02, -1.9082e-01, -4.2210e-02,  3.6314e-02],\n",
       "          [ 1.4506e-01,  3.1351e-02, -1.8767e-01, -1.8655e-02, -8.7735e-02],\n",
       "          [ 5.5340e-02, -1.9672e-01, -1.0431e-01, -9.1815e-02,  1.7910e-01],\n",
       "          [ 7.1982e-02, -3.4224e-02, -8.3287e-02, -9.9797e-02,  6.7012e-02],\n",
       "          [ 1.0379e-01, -7.6492e-02, -8.5381e-02,  1.2161e-01,  1.6619e-01]]],\n",
       "\n",
       "\n",
       "        [[[-6.8009e-02, -1.6901e-02, -1.9889e-01,  3.6231e-02,  7.4393e-02],\n",
       "          [ 2.4899e-02,  9.7151e-02,  7.2720e-03,  2.5869e-02,  1.0643e-01],\n",
       "          [ 1.1052e-03,  1.6689e-01,  1.7354e-01, -9.8104e-02, -8.7783e-03],\n",
       "          [-6.6927e-02, -1.8025e-01, -7.8577e-02,  2.3903e-03, -3.2755e-02],\n",
       "          [ 1.1951e-01, -5.7108e-02,  2.1320e-02,  1.5623e-01, -1.7155e-01]]],\n",
       "\n",
       "\n",
       "        [[[ 1.9669e-01,  7.2323e-02,  9.9320e-02,  4.0070e-02,  1.1462e-01],\n",
       "          [-1.0001e-01,  4.7343e-02,  1.3770e-01,  1.9822e-01, -3.1278e-02],\n",
       "          [ 1.9502e-01,  1.1594e-01, -4.3381e-02, -1.4865e-01,  1.7417e-01],\n",
       "          [ 5.6204e-02,  1.3704e-01, -1.6492e-01,  1.1844e-01, -6.4122e-02],\n",
       "          [-1.7839e-01, -1.5095e-01, -5.8696e-02,  1.8539e-01,  9.2714e-02]]],\n",
       "\n",
       "\n",
       "        [[[ 5.6498e-02,  1.9929e-01,  3.3257e-02,  1.0205e-01,  1.3145e-02],\n",
       "          [ 1.0533e-01, -9.3108e-03,  8.6399e-02, -4.6597e-02,  6.5414e-02],\n",
       "          [ 1.0472e-01, -9.1755e-02, -7.9872e-02, -1.0136e-02,  4.1592e-02],\n",
       "          [ 1.4015e-01, -1.9338e-01, -3.0198e-02,  1.9452e-01, -1.1096e-01],\n",
       "          [-1.2088e-02, -1.1978e-01, -8.6682e-02, -6.3794e-02,  1.3332e-01]]],\n",
       "\n",
       "\n",
       "        [[[ 2.7391e-02,  1.3848e-01,  4.2737e-02,  6.9177e-02,  4.0977e-02],\n",
       "          [ 8.1782e-02,  7.1662e-02, -1.7424e-01,  1.1956e-01, -6.8603e-02],\n",
       "          [ 9.0005e-02, -1.2065e-01, -1.1681e-01,  3.5054e-02,  2.2948e-06],\n",
       "          [-1.0160e-01, -1.1964e-01, -1.4690e-01,  1.8082e-01,  1.8051e-01],\n",
       "          [-1.9581e-01,  7.2865e-02,  1.2645e-01, -6.0966e-02, -3.9852e-02]]],\n",
       "\n",
       "\n",
       "        [[[ 1.4276e-01,  1.4393e-01,  7.9631e-02, -1.4524e-01,  9.7877e-02],\n",
       "          [ 4.0668e-02, -6.5898e-02, -7.9669e-02,  1.5496e-01, -1.3180e-02],\n",
       "          [-1.7140e-01,  1.1731e-01,  1.9192e-01, -9.7414e-02, -2.4492e-02],\n",
       "          [-7.5698e-02,  2.7721e-02,  7.3083e-02, -1.1161e-01,  1.7558e-01],\n",
       "          [-6.0235e-03, -6.7366e-02, -5.0934e-02, -7.3450e-02,  1.4971e-01]]],\n",
       "\n",
       "\n",
       "        [[[ 1.1644e-01,  9.8510e-02,  6.6216e-02, -1.0268e-01, -8.5482e-02],\n",
       "          [ 5.4130e-02,  1.9083e-01,  3.0336e-02,  1.5447e-01,  1.0485e-01],\n",
       "          [ 9.7592e-02,  1.2374e-01,  1.3906e-01,  1.8871e-01, -1.3985e-01],\n",
       "          [ 1.0069e-01,  4.0605e-02, -7.1091e-02,  7.6777e-02,  6.3688e-02],\n",
       "          [-1.5133e-02, -9.3661e-02, -1.0140e-01,  2.7761e-02, -7.3104e-02]]],\n",
       "\n",
       "\n",
       "        [[[ 8.0871e-02,  8.3905e-02, -4.1165e-03,  1.1901e-01,  4.6891e-02],\n",
       "          [ 1.5358e-01, -1.9890e-01, -1.0653e-01, -1.2680e-02, -6.4579e-02],\n",
       "          [ 9.9320e-02, -1.9682e-01, -1.3040e-01, -5.5401e-02, -1.8514e-01],\n",
       "          [-4.1810e-02,  4.2306e-02, -1.7278e-02, -1.3270e-01,  4.9287e-02],\n",
       "          [-1.2527e-01, -1.4176e-01, -1.0128e-01,  2.4109e-02, -1.4963e-01]]],\n",
       "\n",
       "\n",
       "        [[[-2.8308e-02, -1.1521e-01,  5.6962e-02, -1.6432e-01, -4.5125e-02],\n",
       "          [ 1.0527e-01, -1.9908e-01, -1.0665e-01, -1.6340e-02,  1.7004e-01],\n",
       "          [ 1.0636e-02, -7.7151e-02, -1.7741e-01, -8.7036e-02, -1.3839e-01],\n",
       "          [ 8.2404e-02,  1.6708e-01, -1.9058e-01,  2.3786e-02, -6.3857e-02],\n",
       "          [-1.0606e-01, -1.0724e-01,  5.6533e-02, -2.3444e-02,  1.8763e-01]]],\n",
       "\n",
       "\n",
       "        [[[ 9.0577e-02, -1.7880e-01, -5.0974e-02, -9.9002e-02, -9.3632e-02],\n",
       "          [ 1.6973e-01,  5.3099e-02, -1.0533e-01,  1.8074e-01,  8.8438e-02],\n",
       "          [ 4.0522e-04,  1.8467e-01, -1.2152e-01,  1.7788e-01,  1.8793e-01],\n",
       "          [-4.7696e-02, -6.3170e-03,  4.3532e-02,  1.0590e-01, -2.7278e-04],\n",
       "          [ 1.0074e-01, -1.7833e-01, -5.7488e-02, -1.7688e-01, -4.4163e-02]]],\n",
       "\n",
       "\n",
       "        [[[-7.5239e-02,  1.7309e-01, -7.5533e-02, -6.6903e-02, -1.3142e-01],\n",
       "          [ 1.1798e-01,  5.0891e-02,  9.6889e-03, -1.3303e-01, -1.6229e-01],\n",
       "          [-2.3301e-02,  3.3250e-02,  1.4936e-01, -1.0677e-01,  1.7990e-01],\n",
       "          [-9.3472e-02, -1.9934e-01,  1.5067e-01,  1.8285e-01,  4.7629e-02],\n",
       "          [-1.1795e-01,  1.5346e-02,  3.0155e-02,  6.7224e-02,  1.6263e-01]]],\n",
       "\n",
       "\n",
       "        [[[ 3.6964e-02, -1.3082e-01,  4.9202e-03, -6.0621e-02,  4.4049e-02],\n",
       "          [ 1.2006e-01, -1.4956e-01,  6.9579e-02,  1.3876e-01, -6.5182e-02],\n",
       "          [ 1.3223e-01, -1.7881e-02, -1.1337e-01,  1.8493e-01, -1.6788e-01],\n",
       "          [ 1.9709e-01,  9.2282e-02,  6.9611e-03,  1.0622e-01, -1.0047e-02],\n",
       "          [-5.1529e-02, -3.7470e-02, -1.9312e-01, -7.4450e-02,  9.3842e-02]]],\n",
       "\n",
       "\n",
       "        [[[-1.1670e-01, -6.7554e-02,  1.4107e-01,  1.1071e-01, -1.3406e-01],\n",
       "          [ 7.4001e-02,  9.7283e-02, -1.7905e-01, -1.9905e-02,  1.8559e-01],\n",
       "          [-1.1408e-02, -2.9244e-02,  4.7375e-02, -6.1086e-02,  1.3528e-01],\n",
       "          [ 1.1840e-01,  7.9093e-02, -4.8242e-02, -1.3491e-01, -5.2001e-02],\n",
       "          [ 1.4524e-02,  2.5243e-03,  3.8694e-03, -1.8736e-01, -1.2253e-01]]],\n",
       "\n",
       "\n",
       "        [[[-1.3163e-01,  3.8721e-02,  1.8812e-01, -8.1147e-02, -1.2277e-01],\n",
       "          [ 7.2224e-02,  5.7341e-02,  7.9645e-02,  1.8297e-01, -1.3498e-01],\n",
       "          [ 5.7156e-02, -1.2963e-01, -1.4520e-01,  1.7483e-02, -2.9716e-02],\n",
       "          [ 6.6264e-02, -4.4943e-02, -4.4106e-02,  1.6667e-01,  4.7615e-02],\n",
       "          [-4.6221e-02,  1.6284e-01,  1.0433e-01, -7.1552e-02, -2.7743e-02]]],\n",
       "\n",
       "\n",
       "        [[[ 1.1840e-01, -1.1012e-01,  9.6498e-02, -7.3133e-02, -1.3183e-01],\n",
       "          [ 1.5720e-01, -1.7787e-01,  1.9314e-03, -9.9571e-02,  6.0275e-02],\n",
       "          [-1.5617e-01, -1.2056e-01, -1.2692e-01, -1.9183e-02,  2.8128e-02],\n",
       "          [ 5.7482e-02,  8.9511e-02, -2.1114e-02,  1.3631e-01,  7.7485e-02],\n",
       "          [ 7.0227e-02,  8.2623e-02,  1.4099e-01, -6.6888e-02, -1.6399e-01]]],\n",
       "\n",
       "\n",
       "        [[[ 8.1198e-02,  5.3693e-02,  2.2839e-02, -2.7355e-02,  4.6085e-03],\n",
       "          [-1.1538e-01,  4.3613e-02, -1.6360e-01,  1.5302e-01, -7.9733e-02],\n",
       "          [ 9.5200e-02,  1.1558e-01,  5.8625e-02, -3.5413e-02, -1.9366e-01],\n",
       "          [ 2.6418e-02, -8.8332e-02, -1.7996e-01, -1.9093e-01, -1.8719e-01],\n",
       "          [-2.4617e-02,  1.9339e-01, -1.3403e-01, -1.2676e-01, -6.6256e-02]]],\n",
       "\n",
       "\n",
       "        [[[-1.1351e-01, -7.0401e-03,  1.3725e-01,  1.4136e-01,  1.0236e-01],\n",
       "          [ 3.4720e-02, -1.9465e-02, -8.9159e-02,  7.7759e-02,  3.6208e-02],\n",
       "          [-7.8323e-02, -1.8553e-01,  1.6012e-01, -1.7206e-01, -8.1570e-02],\n",
       "          [ 1.1759e-01,  1.6694e-01, -1.8612e-01,  1.3759e-01,  1.8112e-01],\n",
       "          [ 3.8032e-02,  4.4456e-02, -6.3926e-02, -9.1584e-02,  5.4028e-02]]],\n",
       "\n",
       "\n",
       "        [[[ 5.0692e-02,  6.7113e-02,  1.7010e-02,  1.5905e-01,  2.3267e-02],\n",
       "          [-9.4390e-02,  3.7525e-02, -1.5578e-01,  9.3466e-02, -1.9522e-01],\n",
       "          [-9.5071e-02,  4.1943e-02, -1.7739e-02,  1.2757e-01,  1.2592e-01],\n",
       "          [ 2.8715e-04, -5.2077e-02,  1.4217e-01,  6.6180e-02, -1.8375e-01],\n",
       "          [ 1.1209e-01, -3.9856e-02,  2.1564e-02, -9.0520e-02, -7.4830e-02]]]],\n",
       "       requires_grad=True)"
      ]
     },
     "execution_count": 58,
     "metadata": {},
     "output_type": "execute_result"
    }
   ],
   "source": [
    "l1.weight"
   ]
  },
  {
   "cell_type": "code",
   "execution_count": 59,
   "metadata": {},
   "outputs": [
    {
     "data": {
      "text/plain": [
       "((tensor(0.0052, grad_fn=<MeanBackward0>),\n",
       "  tensor(0.1110, grad_fn=<StdBackward0>)),\n",
       " (tensor(-0.0361, grad_fn=<MeanBackward0>),\n",
       "  tensor(0.1063, grad_fn=<StdBackward0>)))"
      ]
     },
     "execution_count": 59,
     "metadata": {},
     "output_type": "execute_result"
    }
   ],
   "source": [
    "# mean and std\n",
    "stats(l1.weight),stats(l1.bias)"
   ]
  },
  {
   "cell_type": "code",
   "execution_count": 60,
   "metadata": {},
   "outputs": [
    {
     "data": {
      "text/plain": [
       "torch.Size([100, 32, 24, 24])"
      ]
     },
     "execution_count": 60,
     "metadata": {},
     "output_type": "execute_result"
    }
   ],
   "source": [
    "# apply the linear layer to the reduced validation set input data\n",
    "# why 24 x 24, something to do with padding and stride \n",
    "t = l1(x)\n",
    "t.shape"
   ]
  },
  {
   "cell_type": "code",
   "execution_count": 61,
   "metadata": {},
   "outputs": [
    {
     "data": {
      "text/plain": [
       "(tensor(-0.0235, grad_fn=<MeanBackward0>),\n",
       " tensor(0.5853, grad_fn=<StdBackward0>))"
      ]
     },
     "execution_count": 61,
     "metadata": {},
     "output_type": "execute_result"
    }
   ],
   "source": [
    "# mean and std\n",
    "stats(t)"
   ]
  },
  {
   "cell_type": "code",
   "execution_count": 62,
   "metadata": {},
   "outputs": [
    {
     "data": {
      "text/plain": [
       "(tensor(-0.0553, grad_fn=<MeanBackward0>),\n",
       " tensor(1.0808, grad_fn=<StdBackward0>))"
      ]
     },
     "execution_count": 62,
     "metadata": {},
     "output_type": "execute_result"
    }
   ],
   "source": [
    "# for linear layer a = 1\n",
    "# a is the slope of the negative branch of the relu\n",
    "init.kaiming_normal_(l1.weight, a=1.)\n",
    "# initialized layer is close to zero mean and unit variance\n",
    "stats(l1(x))"
   ]
  },
  {
   "cell_type": "code",
   "execution_count": 63,
   "metadata": {},
   "outputs": [],
   "source": [
    "import torch.nn.functional as F"
   ]
  },
  {
   "cell_type": "code",
   "execution_count": 64,
   "metadata": {},
   "outputs": [],
   "source": [
    "# define a standard relu (a = 0)\n",
    "def f1(x,a=0): return F.leaky_relu(l1(x),a)"
   ]
  },
  {
   "cell_type": "code",
   "execution_count": 65,
   "metadata": {},
   "outputs": [
    {
     "data": {
      "text/plain": [
       "(tensor(0.5009, grad_fn=<MeanBackward0>),\n",
       " tensor(0.8875, grad_fn=<StdBackward0>))"
      ]
     },
     "execution_count": 65,
     "metadata": {},
     "output_type": "execute_result"
    }
   ],
   "source": [
    "# relu\n",
    "init.kaiming_normal_(l1.weight, a=0)\n",
    "stats(f1(x))"
   ]
  },
  {
   "cell_type": "code",
   "execution_count": 21,
   "metadata": {},
   "outputs": [
    {
     "data": {
      "text/plain": [
       "(tensor(0.2072, grad_fn=<MeanBackward0>),\n",
       " tensor(0.3980, grad_fn=<StdBackward0>))"
      ]
     },
     "execution_count": 21,
     "metadata": {},
     "output_type": "execute_result"
    }
   ],
   "source": [
    "# linear layer\n",
    "l1 = nn.Conv2d(1, nh, 5)\n",
    "stats(f1(x))"
   ]
  },
  {
   "cell_type": "code",
   "execution_count": 66,
   "metadata": {},
   "outputs": [
    {
     "data": {
      "text/plain": [
       "torch.Size([32, 1, 5, 5])"
      ]
     },
     "execution_count": 66,
     "metadata": {},
     "output_type": "execute_result"
    }
   ],
   "source": [
    "# linear convolution layer\n",
    "l1.weight.shape"
   ]
  },
  {
   "cell_type": "code",
   "execution_count": 67,
   "metadata": {},
   "outputs": [
    {
     "data": {
      "text/plain": [
       "tensor([[-0.0194,  0.4017, -0.2740, -0.1100, -0.0630],\n",
       "        [-0.2318, -0.3643, -0.2879,  0.3252,  0.0431],\n",
       "        [-0.6038,  0.0480, -0.1527,  0.2660, -0.4643],\n",
       "        [ 0.1180, -0.0254,  0.3131, -0.1193, -0.1248],\n",
       "        [ 0.5837,  0.2988,  0.2894,  0.3881,  0.0371]],\n",
       "       grad_fn=<SelectBackward>)"
      ]
     },
     "execution_count": 67,
     "metadata": {},
     "output_type": "execute_result"
    }
   ],
   "source": [
    "l1.weight[0,0]"
   ]
  },
  {
   "cell_type": "code",
   "execution_count": 68,
   "metadata": {},
   "outputs": [
    {
     "data": {
      "text/plain": [
       "25"
      ]
     },
     "execution_count": 68,
     "metadata": {},
     "output_type": "execute_result"
    }
   ],
   "source": [
    "# receptive field size\n",
    "rec_fs = l1.weight[0,0].numel()\n",
    "rec_fs"
   ]
  },
  {
   "cell_type": "code",
   "execution_count": 69,
   "metadata": {},
   "outputs": [
    {
     "data": {
      "text/plain": [
       "(32, 1)"
      ]
     },
     "execution_count": 69,
     "metadata": {},
     "output_type": "execute_result"
    }
   ],
   "source": [
    "# nf = number of filters (channels)\n",
    "nf,ni,*_ = l1.weight.shape\n",
    "nf,ni"
   ]
  },
  {
   "cell_type": "code",
   "execution_count": 70,
   "metadata": {},
   "outputs": [
    {
     "data": {
      "text/plain": [
       "(25, 800)"
      ]
     },
     "execution_count": 70,
     "metadata": {},
     "output_type": "execute_result"
    }
   ],
   "source": [
    "fan_in  = ni*rec_fs\n",
    "fan_out = nf*rec_fs\n",
    "fan_in,fan_out"
   ]
  },
  {
   "cell_type": "code",
   "execution_count": 72,
   "metadata": {},
   "outputs": [],
   "source": [
    "# what is the origin of this formula? \n",
    "# for linear layer a=1, so gain = 1\n",
    "# for relu, a = 0, so gain = sqrt(2)\n",
    "# when a = sqrt(5), gain = 1/sqrt(3) = 0.577\n",
    "def gain(a): return math.sqrt(2.0 / (1 + a**2))"
   ]
  },
  {
   "cell_type": "code",
   "execution_count": 74,
   "metadata": {},
   "outputs": [
    {
     "data": {
      "text/plain": [
       "(1.0,\n",
       " 1.4142135623730951,\n",
       " 1.4141428569978354,\n",
       " 1.4071950894605838,\n",
       " 0.5773502691896257)"
      ]
     },
     "execution_count": 74,
     "metadata": {},
     "output_type": "execute_result"
    }
   ],
   "source": [
    "gain(1),gain(0),gain(0.01),gain(0.1),gain(math.sqrt(5.))"
   ]
  },
  {
   "cell_type": "code",
   "execution_count": 75,
   "metadata": {},
   "outputs": [
    {
     "data": {
      "text/plain": [
       "tensor(0.5765)"
      ]
     },
     "execution_count": 75,
     "metadata": {},
     "output_type": "execute_result"
    }
   ],
   "source": [
    "torch.zeros(100000).uniform_(-1,1).std()"
   ]
  },
  {
   "cell_type": "code",
   "execution_count": 76,
   "metadata": {},
   "outputs": [
    {
     "data": {
      "text/plain": [
       "0.5773502691896258"
      ]
     },
     "execution_count": 76,
     "metadata": {},
     "output_type": "execute_result"
    }
   ],
   "source": [
    "1/math.sqrt(3.)"
   ]
  },
  {
   "cell_type": "code",
   "execution_count": 77,
   "metadata": {},
   "outputs": [],
   "source": [
    "def kaiming2(x,a, use_fan_out=False):\n",
    "    nf,ni,*_ = x.shape\n",
    "    print(nf,ni)\n",
    "    rec_fs = x[0,0].shape.numel()\n",
    "    print(rec_fs)\n",
    "    fan = nf*rec_fs if use_fan_out else ni*rec_fs\n",
    "    print(fan)\n",
    "    std = gain(a) / math.sqrt(fan)\n",
    "    print(std)\n",
    "    bound = math.sqrt(3.) * std\n",
    "    x.data.uniform_(-bound,bound)"
   ]
  },
  {
   "cell_type": "code",
   "execution_count": 32,
   "metadata": {},
   "outputs": [
    {
     "name": "stdout",
     "output_type": "stream",
     "text": [
      "32 1\n",
      "25\n",
      "25\n",
      "0.282842712474619\n",
      "0.282842712474619\n"
     ]
    }
   ],
   "source": [
    "# rele\n",
    "kaiming2(l1.weight, a=0);\n",
    "stats(f1(x))\n",
    "print(math.sqrt(2)/5)"
   ]
  },
  {
   "cell_type": "code",
   "execution_count": 78,
   "metadata": {},
   "outputs": [
    {
     "name": "stdout",
     "output_type": "stream",
     "text": [
      "32 1\n",
      "25\n",
      "25\n",
      "0.11547005383792515\n"
     ]
    },
    {
     "data": {
      "text/plain": [
       "(tensor(0.1901, grad_fn=<MeanBackward0>),\n",
       " tensor(0.3765, grad_fn=<StdBackward0>))"
      ]
     },
     "execution_count": 78,
     "metadata": {},
     "output_type": "execute_result"
    }
   ],
   "source": [
    "kaiming2(l1.weight, a=math.sqrt(5.))\n",
    "stats(f1(x))"
   ]
  },
  {
   "cell_type": "code",
   "execution_count": 79,
   "metadata": {},
   "outputs": [],
   "source": [
    "class Flatten(nn.Module):\n",
    "    def forward(self,x): return x.view(-1)"
   ]
  },
  {
   "cell_type": "code",
   "execution_count": 80,
   "metadata": {},
   "outputs": [],
   "source": [
    "m = nn.Sequential(\n",
    "    nn.Conv2d(1,8, 5,stride=2,padding=2), nn.ReLU(),\n",
    "    nn.Conv2d(8,16,3,stride=2,padding=1), nn.ReLU(),\n",
    "    nn.Conv2d(16,32,3,stride=2,padding=1), nn.ReLU(),\n",
    "    nn.Conv2d(32,1,3,stride=2,padding=1),\n",
    "    nn.AdaptiveAvgPool2d(1),\n",
    "    Flatten(),\n",
    ")"
   ]
  },
  {
   "cell_type": "code",
   "execution_count": 81,
   "metadata": {},
   "outputs": [],
   "source": [
    "y = y_valid[:100].float()"
   ]
  },
  {
   "cell_type": "code",
   "execution_count": 82,
   "metadata": {},
   "outputs": [
    {
     "data": {
      "text/plain": [
       "(tensor(0.0156, grad_fn=<MeanBackward0>),\n",
       " tensor(0.0109, grad_fn=<StdBackward0>))"
      ]
     },
     "execution_count": 82,
     "metadata": {},
     "output_type": "execute_result"
    }
   ],
   "source": [
    "t = m(x)\n",
    "stats(t)"
   ]
  },
  {
   "cell_type": "code",
   "execution_count": 83,
   "metadata": {},
   "outputs": [],
   "source": [
    "l = mse(t,y)\n",
    "l.backward()"
   ]
  },
  {
   "cell_type": "code",
   "execution_count": 84,
   "metadata": {},
   "outputs": [
    {
     "data": {
      "text/plain": [
       "(tensor(-0.0311), tensor(0.0714))"
      ]
     },
     "execution_count": 84,
     "metadata": {},
     "output_type": "execute_result"
    }
   ],
   "source": [
    "stats(m[0].weight.grad)"
   ]
  },
  {
   "cell_type": "code",
   "execution_count": 40,
   "metadata": {},
   "outputs": [],
   "source": [
    "init.kaiming_uniform_??"
   ]
  },
  {
   "cell_type": "code",
   "execution_count": 85,
   "metadata": {},
   "outputs": [],
   "source": [
    "for l in m:\n",
    "    if isinstance(l,nn.Conv2d):\n",
    "        init.kaiming_uniform_(l.weight)\n",
    "        l.bias.data.zero_()"
   ]
  },
  {
   "cell_type": "code",
   "execution_count": 86,
   "metadata": {},
   "outputs": [
    {
     "data": {
      "text/plain": [
       "(tensor(-0.3667, grad_fn=<MeanBackward0>),\n",
       " tensor(0.2069, grad_fn=<StdBackward0>))"
      ]
     },
     "execution_count": 86,
     "metadata": {},
     "output_type": "execute_result"
    }
   ],
   "source": [
    "t = m(x)\n",
    "stats(t)"
   ]
  },
  {
   "cell_type": "code",
   "execution_count": 87,
   "metadata": {},
   "outputs": [
    {
     "data": {
      "text/plain": [
       "(tensor(-0.0595), tensor(0.3972))"
      ]
     },
     "execution_count": 87,
     "metadata": {},
     "output_type": "execute_result"
    }
   ],
   "source": [
    "l = mse(t,y)\n",
    "l.backward()\n",
    "stats(m[0].weight.grad)"
   ]
  },
  {
   "cell_type": "markdown",
   "metadata": {},
   "source": [
    "## Export"
   ]
  },
  {
   "cell_type": "code",
   "execution_count": 44,
   "metadata": {},
   "outputs": [],
   "source": [
    "\n",
    "#!./notebook2script.py 02a_why_sqrt5.ipynb\n",
    "!notebook2script.py 02a_why_sqrt5.ipynb"
   ]
  },
  {
   "cell_type": "code",
   "execution_count": null,
   "metadata": {},
   "outputs": [],
   "source": []
  }
 ],
 "metadata": {
  "kernelspec": {
   "display_name": "Python 3",
   "language": "python",
   "name": "python3"
  },
  "language_info": {
   "codemirror_mode": {
    "name": "ipython",
    "version": 3
   },
   "file_extension": ".py",
   "mimetype": "text/x-python",
   "name": "python",
   "nbconvert_exporter": "python",
   "pygments_lexer": "ipython3",
   "version": "3.7.3"
  }
 },
 "nbformat": 4,
 "nbformat_minor": 2
}
