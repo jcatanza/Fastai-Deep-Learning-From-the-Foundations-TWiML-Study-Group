{
 "cells": [
  {
   "cell_type": "code",
   "execution_count": 1,
   "metadata": {},
   "outputs": [],
   "source": [
    "%load_ext autoreload\n",
    "%autoreload 2\n",
    "\n",
    "%matplotlib inline"
   ]
  },
  {
   "cell_type": "code",
   "execution_count": 2,
   "metadata": {},
   "outputs": [],
   "source": [
    "#export\n",
    "from exp.nb_06 import *"
   ]
  },
  {
   "cell_type": "markdown",
   "metadata": {},
   "source": [
    "## 1. ConvNet"
   ]
  },
  {
   "cell_type": "markdown",
   "metadata": {},
   "source": [
    "Let's get the data and training interface from where we left in the last notebook."
   ]
  },
  {
   "cell_type": "markdown",
   "metadata": {},
   "source": [
    "[Jump_to lesson 10 video](https://course.fast.ai/videos/?lesson=10&t=5899)"
   ]
  },
  {
   "cell_type": "code",
   "execution_count": 3,
   "metadata": {},
   "outputs": [],
   "source": [
    "# get training and validation data\n",
    "x_train,y_train,x_valid,y_valid = get_data()\n",
    "\n",
    "# normalize validation data to training data\n",
    "x_train,x_valid = normalize_to(x_train,x_valid)\n",
    "train_ds,valid_ds = Dataset(x_train, y_train),Dataset(x_valid, y_valid)\n",
    "\n",
    "# number of hidden layers, batch size\n",
    "nh,bs = 50,512\n",
    "\n",
    "# number of digit classes \n",
    "c = y_train.max().item()+1\n",
    "\n",
    "# specify loss function\n",
    "loss_func = F.cross_entropy\n",
    "\n",
    "# create a DataBunch\n",
    "data = DataBunch(*get_dls(train_ds, valid_ds, bs), c)"
   ]
  },
  {
   "cell_type": "code",
   "execution_count": 4,
   "metadata": {},
   "outputs": [],
   "source": [
    "# callback function to resize flattened image back into a 2D array\n",
    "mnist_view = view_tfm(1,28,28)\n",
    "\n",
    "# list of callback functions\n",
    "cbfs = [Recorder,\n",
    "        partial(AvgStatsCallback,accuracy),\n",
    "        CudaCallback,\n",
    "        partial(BatchTransformXCallback, mnist_view)]"
   ]
  },
  {
   "cell_type": "code",
   "execution_count": 5,
   "metadata": {},
   "outputs": [],
   "source": [
    "# list number of channels for each desired convolution layer\n",
    "nfs = [8, 16, 32, 64, 64]"
   ]
  },
  {
   "cell_type": "code",
   "execution_count": 6,
   "metadata": {},
   "outputs": [],
   "source": [
    "# construct Learner and Runner objects for our model\n",
    "# highest learning rate is 0.4\n",
    "learn,run = get_learn_run(nfs, data, 0.4, conv_layer, cbs=cbfs)"
   ]
  },
  {
   "cell_type": "code",
   "execution_count": 7,
   "metadata": {},
   "outputs": [
    {
     "name": "stdout",
     "output_type": "stream",
     "text": [
      "train: [2.11302234375, tensor(0.2450, device='cuda:0')]\n",
      "valid: [1.101391015625, tensor(0.6412, device='cuda:0')]\n",
      "train: [0.486421015625, tensor(0.8397, device='cuda:0')]\n",
      "valid: [0.3904976806640625, tensor(0.8742, device='cuda:0')]\n",
      "Wall time: 7.01 s\n"
     ]
    }
   ],
   "source": [
    "%time run.fit(2, learn)"
   ]
  },
  {
   "cell_type": "markdown",
   "metadata": {},
   "source": [
    "## 2. Batchnorm"
   ]
  },
  {
   "cell_type": "markdown",
   "metadata": {},
   "source": [
    "### Custom"
   ]
  },
  {
   "cell_type": "markdown",
   "metadata": {},
   "source": [
    "Let's start by building our own `BatchNorm` layer from scratch."
   ]
  },
  {
   "cell_type": "markdown",
   "metadata": {},
   "source": [
    "[Jump_to lesson 10 video](https://course.fast.ai/videos/?lesson=10&t=6018)"
   ]
  },
  {
   "cell_type": "code",
   "execution_count": 8,
   "metadata": {},
   "outputs": [],
   "source": [
    "class BatchNorm(nn.Module):\n",
    "    \n",
    "    '''\n",
    "    NOTES\n",
    "     \n",
    "        the input tensor x has four dimensions\n",
    "        0: batches\n",
    "        1: channels\n",
    "        2: y index of weight array pixel\n",
    "        3: x index of weight array pixel\n",
    "\n",
    "        for each channel, we compute the mean and var of the weights matrix over all samples\n",
    "\n",
    "    '''\n",
    "    \n",
    "    def __init__(self, nf, mom=0.1, eps=1e-5):\n",
    "        super().__init__()\n",
    "        self.mom,self.eps = mom,eps\n",
    "        self.mults = nn.Parameter(torch.ones (nf,1,1))\n",
    "        self.adds  = nn.Parameter(torch.zeros(nf,1,1))\n",
    "        self.register_buffer('vars',  torch.ones(1,nf,1,1))\n",
    "        self.register_buffer('means', torch.zeros(1,nf,1,1))\n",
    "\n",
    "    def update_stats(self, x):\n",
    "        # m and v are each of dimension (1,n_channels,1,1)\n",
    "        m = x.mean((0,2,3), keepdim=True)\n",
    "        v = x.var ((0,2,3), keepdim=True)\n",
    "        \n",
    "        # compute exponentially weighted moving average (EWMA)\n",
    "        # lerp_ means linear interpolation between last and next-to-last value\n",
    "        # pytorch 'flips' meaning of momentum\n",
    "        #     i.e. x(j) = x(j)*0.1 + x(j-1)*0.9\n",
    "        #     i.e. x(j) = x(j)*mom + x(j-1)*(1-mom)\n",
    "        #     where 0.9 is 1-mom and 0.1 is mom\n",
    "        self.means.lerp_(m, self.mom)\n",
    "        self.vars.lerp_ (v, self.mom)\n",
    "        return m,v\n",
    "        \n",
    "    def forward(self, x):\n",
    "        if self.training:\n",
    "            with torch.no_grad(): m,v = self.update_stats(x)\n",
    "        # in validation phase, gradients are not being calculated\n",
    "        # so we don't need to specify torch.no_grad()\n",
    "        else: m,v = self.means,self.vars\n",
    "        x = (x-m) / (v+self.eps).sqrt()\n",
    "        return x*self.mults + self.adds"
   ]
  },
  {
   "cell_type": "code",
   "execution_count": 9,
   "metadata": {},
   "outputs": [],
   "source": [
    "# refactor conv_layer to add a BatchNorm option\n",
    "def conv_layer(ni, nf, ks=3, stride=2, bn=True, **kwargs):\n",
    "    # no bias needed if using batchnorm\n",
    "    layers = [nn.Conv2d(ni, nf, ks, padding=ks//2, stride=stride, bias=not bn),\n",
    "              GeneralRelu(**kwargs)]\n",
    "    if bn: layers.append(BatchNorm(nf))\n",
    "    return nn.Sequential(*layers)"
   ]
  },
  {
   "cell_type": "code",
   "execution_count": 10,
   "metadata": {},
   "outputs": [],
   "source": [
    "#export\n",
    "def init_cnn_(m, f):\n",
    "    if isinstance(m, nn.Conv2d):\n",
    "        f(m.weight, a=0.1)\n",
    "        if getattr(m, 'bias', None) is not None: m.bias.data.zero_()\n",
    "    for l in m.children(): init_cnn_(l, f)\n",
    "\n",
    "def init_cnn(m, uniform=False):\n",
    "    f = init.kaiming_uniform_ if uniform else init.kaiming_normal_\n",
    "    init_cnn_(m, f)\n",
    "\n",
    "def get_learn_run(nfs, data, lr, layer, cbs=None, opt_func=None, uniform=False, **kwargs):\n",
    "    model = get_cnn_model(data, nfs, layer, **kwargs)\n",
    "    init_cnn(model, uniform=uniform)\n",
    "    return get_runner(model, data, lr=lr, cbs=cbs, opt_func=opt_func)"
   ]
  },
  {
   "cell_type": "markdown",
   "metadata": {},
   "source": [
    "We can then use it in training and see how it helps keep the activations means to 0 and the std to 1.\n",
    "\n",
    "Note: the wiggles at the end of batches are from the validation batches, which were included due to an error in the code."
   ]
  },
  {
   "cell_type": "code",
   "execution_count": 11,
   "metadata": {},
   "outputs": [],
   "source": [
    "# learning rate = 0.9\n",
    "learn,run = get_learn_run(nfs, data, 0.9, conv_layer, cbs=cbfs)"
   ]
  },
  {
   "cell_type": "code",
   "execution_count": 12,
   "metadata": {},
   "outputs": [
    {
     "name": "stdout",
     "output_type": "stream",
     "text": [
      "train: [0.261214453125, tensor(0.9188, device='cuda:0')]\n",
      "valid: [0.1240034423828125, tensor(0.9618, device='cuda:0')]\n"
     ]
    },
    {
     "data": {
      "image/png": "[encoded data removed]",
      "text/plain": [
       "<Figure size 720x288 with 2 Axes>"
      ]
     },
     "metadata": {
      "needs_background": "light"
     },
     "output_type": "display_data"
    },
    {
     "data": {
      "image/png": "[encoded data removed]",
      "text/plain": [
       "<Figure size 720x288 with 2 Axes>"
      ]
     },
     "metadata": {
      "needs_background": "light"
     },
     "output_type": "display_data"
    }
   ],
   "source": [
    "# one epoch\n",
    "with Hooks(learn.model, append_stats) as hooks:\n",
    "    run.fit(1, learn)\n",
    "    \n",
    "    fig,(ax0,ax1) = plt.subplots(1,2, figsize=(10,4))\n",
    "    for h in hooks[:-1]:\n",
    "        ms,ss = h.stats\n",
    "        ax0.plot(ms[:10])\n",
    "        ax1.plot(ss[:10])\n",
    "        plt.xlabel('batch number')\n",
    "        h.remove()\n",
    "    plt.legend(range(6));\n",
    "    \n",
    "    fig,(ax0,ax1) = plt.subplots(1,2, figsize=(10,4))\n",
    "    for h in hooks[:-1]:\n",
    "        ms,ss = h.stats\n",
    "        ax0.plot(ms)\n",
    "        ax1.plot(ss)\n",
    "        plt.xlabel('batch number')\n"
   ]
  },
  {
   "cell_type": "code",
   "execution_count": 13,
   "metadata": {},
   "outputs": [
    {
     "data": {
      "text/plain": [
       "False"
      ]
     },
     "execution_count": 13,
     "metadata": {},
     "output_type": "execute_result"
    }
   ],
   "source": [
    "learn.model.training"
   ]
  },
  {
   "cell_type": "code",
   "execution_count": 14,
   "metadata": {},
   "outputs": [],
   "source": [
    "# learning rate = 1.0\n",
    "learn,run = get_learn_run(nfs, data, 1.0, conv_layer, cbs=cbfs)"
   ]
  },
  {
   "cell_type": "code",
   "execution_count": 15,
   "metadata": {},
   "outputs": [
    {
     "name": "stdout",
     "output_type": "stream",
     "text": [
      "train: [0.25653595703125, tensor(0.9190, device='cuda:0')]\n",
      "valid: [0.13524683837890625, tensor(0.9588, device='cuda:0')]\n",
      "train: [0.0848619140625, tensor(0.9739, device='cuda:0')]\n",
      "valid: [0.1273967529296875, tensor(0.9589, device='cuda:0')]\n",
      "train: [0.061883603515625, tensor(0.9808, device='cuda:0')]\n",
      "valid: [0.0793875244140625, tensor(0.9761, device='cuda:0')]\n",
      "Wall time: 6.21 s\n"
     ]
    }
   ],
   "source": [
    "# 3 epochs\n",
    "%time run.fit(3, learn)"
   ]
  },
  {
   "cell_type": "markdown",
   "metadata": {},
   "source": [
    "### Now that we have built our own version of `BatchNorm` we are allowed to Refactor `conv_layer` to include PyTorch's builtin `BatchNorm2d`"
   ]
  },
  {
   "cell_type": "markdown",
   "metadata": {},
   "source": [
    "[Jump_to lesson 10 video](https://course.fast.ai/videos/?lesson=10&t=6679)"
   ]
  },
  {
   "cell_type": "code",
   "execution_count": 16,
   "metadata": {},
   "outputs": [],
   "source": [
    "#export\n",
    "def conv_layer(ni, nf, ks=3, stride=2, bn=True, **kwargs):\n",
    "    layers = [nn.Conv2d(ni, nf, ks, padding=ks//2, stride=stride, bias=not bn),\n",
    "              GeneralRelu(**kwargs)]\n",
    "    if bn: layers.append(nn.BatchNorm2d(nf, eps=1e-5, momentum=0.1))\n",
    "    return nn.Sequential(*layers)"
   ]
  },
  {
   "cell_type": "code",
   "execution_count": 40,
   "metadata": {},
   "outputs": [],
   "source": [
    "# learning rate = 1.0\n",
    "learn,run = get_learn_run(nfs, data, 2., conv_layer, cbs=cbfs)"
   ]
  },
  {
   "cell_type": "code",
   "execution_count": 41,
   "metadata": {},
   "outputs": [
    {
     "name": "stdout",
     "output_type": "stream",
     "text": [
      "train: [0.25601177734375, tensor(0.9229, device='cuda:0')]\n",
      "valid: [0.0908326416015625, tensor(0.9736, device='cuda:0')]\n",
      "train: [0.099279052734375, tensor(0.9702, device='cuda:0')]\n",
      "valid: [0.06887020874023438, tensor(0.9807, device='cuda:0')]\n",
      "train: [0.0730422998046875, tensor(0.9775, device='cuda:0')]\n",
      "valid: [0.05008526611328125, tensor(0.9856, device='cuda:0')]\n",
      "Wall time: 48.4 s\n"
     ]
    }
   ],
   "source": [
    "%time run.fit(3, learn)"
   ]
  },
  {
   "cell_type": "markdown",
   "metadata": {},
   "source": [
    "### With learning rate scheduler"
   ]
  },
  {
   "cell_type": "markdown",
   "metadata": {},
   "source": [
    "Now let's add the usual warm-up/annealing\n",
    "We'll add the scheduler callback to the callbacks list.\n",
    "\n",
    "Here, we find that we can go all the way to a learning rate of 2, and improve our result"
   ]
  },
  {
   "cell_type": "code",
   "execution_count": 19,
   "metadata": {},
   "outputs": [],
   "source": [
    "sched = combine_scheds([0.3, 0.7], [sched_lin(0.6, 2.), sched_lin(2., 0.1)]) "
   ]
  },
  {
   "cell_type": "code",
   "execution_count": 20,
   "metadata": {},
   "outputs": [],
   "source": [
    "learn,run = get_learn_run(nfs, data, 0.9, conv_layer, cbs=cbfs\n",
    "                          +[partial(ParamScheduler,'lr', sched)])"
   ]
  },
  {
   "cell_type": "code",
   "execution_count": 21,
   "metadata": {},
   "outputs": [
    {
     "name": "stdout",
     "output_type": "stream",
     "text": [
      "train: [0.258906875, tensor(0.9209, device='cuda:0')]\n",
      "valid: [0.08668646850585937, tensor(0.9737, device='cuda:0')]\n",
      "train: [0.0809163525390625, tensor(0.9746, device='cuda:0')]\n",
      "valid: [0.09076246948242188, tensor(0.9723, device='cuda:0')]\n",
      "train: [0.0549962158203125, tensor(0.9823, device='cuda:0')]\n",
      "valid: [0.05755931396484375, tensor(0.9821, device='cuda:0')]\n",
      "train: [0.03351826904296875, tensor(0.9891, device='cuda:0')]\n",
      "valid: [0.05680650634765625, tensor(0.9821, device='cuda:0')]\n",
      "train: [0.02082624267578125, tensor(0.9939, device='cuda:0')]\n",
      "valid: [0.04784270629882813, tensor(0.9852, device='cuda:0')]\n",
      "train: [0.0115502197265625, tensor(0.9970, device='cuda:0')]\n",
      "valid: [0.04367476501464844, tensor(0.9877, device='cuda:0')]\n",
      "train: [0.006795048217773438, tensor(0.9986, device='cuda:0')]\n",
      "valid: [0.042675042724609376, tensor(0.9881, device='cuda:0')]\n",
      "train: [0.004436185913085937, tensor(0.9994, device='cuda:0')]\n",
      "valid: [0.04238394775390625, tensor(0.9883, device='cuda:0')]\n"
     ]
    }
   ],
   "source": [
    "# 8 epochs\n",
    "run.fit(8, learn)"
   ]
  },
  {
   "cell_type": "markdown",
   "metadata": {},
   "source": [
    "## 3. More norms"
   ]
  },
  {
   "cell_type": "markdown",
   "metadata": {},
   "source": [
    "Lost in all those norms? The authors from the [group norm paper](https://arxiv.org/pdf/1803.08494.pdf) have you covered:\n",
    "\n",
    "![Various norms](images/norms.png)"
   ]
  },
  {
   "cell_type": "markdown",
   "metadata": {},
   "source": [
    "### Layer norm"
   ]
  },
  {
   "cell_type": "markdown",
   "metadata": {},
   "source": [
    "From [the paper](https://arxiv.org/abs/1607.06450): \"*batch normalization cannot be applied to online learning tasks or to extremely large distributed models where the minibatches have to be small*\"."
   ]
  },
  {
   "cell_type": "markdown",
   "metadata": {},
   "source": [
    "General equation for a norm layer with learnable affine:\n",
    "\n",
    "$$y = \\frac{x - \\mathrm{E}[x]}{ \\sqrt{\\mathrm{Var}[x] + \\epsilon}} * \\gamma + \\beta$$\n",
    "\n",
    "The difference with BatchNorm is\n",
    "1. we don't keep a moving average\n",
    "2. we don't average over the batches dimension but over the hidden dimension, so it's independent of the batch size"
   ]
  },
  {
   "cell_type": "markdown",
   "metadata": {},
   "source": [
    "[Jump_to lesson 10 video](https://course.fast.ai/videos/?lesson=10&t=6717)"
   ]
  },
  {
   "cell_type": "code",
   "execution_count": 22,
   "metadata": {},
   "outputs": [],
   "source": [
    "class LayerNorm(nn.Module):\n",
    "    '''\n",
    "    NOTES\n",
    "     \n",
    "        the input tensor x has four dimensions\n",
    "        0: samples\n",
    "        1: channels\n",
    "        2: y index of weight array pixel\n",
    "        3: x index of weight array pixel\n",
    "\n",
    "        for each sample, we compute the mean and var of the weights matrix over all channels\n",
    "\n",
    "    '''\n",
    "    __constants__ = ['eps']\n",
    "    def __init__(self, eps=1e-5):\n",
    "        super().__init__()\n",
    "        self.eps = eps\n",
    "        self.mult = nn.Parameter(tensor(1.)) #gamma\n",
    "        self.add  = nn.Parameter(tensor(0.)) #beta\n",
    "\n",
    "    def forward(self, x):\n",
    "        m = x.mean((1,2,3), keepdim=True)\n",
    "        v = x.var ((1,2,3), keepdim=True)\n",
    "        x = (x-m) / ((v+self.eps).sqrt())\n",
    "        return x*self.mult + self.add"
   ]
  },
  {
   "cell_type": "code",
   "execution_count": 23,
   "metadata": {},
   "outputs": [],
   "source": [
    "# layer norm\n",
    "def conv_ln(ni, nf, ks=3, stride=2, bn=True, **kwargs):\n",
    "    layers = [nn.Conv2d(ni, nf, ks, padding=ks//2, stride=stride, bias=True),\n",
    "              GeneralRelu(**kwargs)]\n",
    "    if bn: layers.append(LayerNorm())\n",
    "    return nn.Sequential(*layers)"
   ]
  },
  {
   "cell_type": "code",
   "execution_count": 24,
   "metadata": {},
   "outputs": [],
   "source": [
    "# learning rate of 0.8\n",
    "learn,run = get_learn_run(nfs, data, 0.8, conv_ln, cbs=cbfs)"
   ]
  },
  {
   "cell_type": "code",
   "execution_count": 25,
   "metadata": {},
   "outputs": [
    {
     "name": "stdout",
     "output_type": "stream",
     "text": [
      "train: [nan, tensor(0.2059, device='cuda:0')]\n",
      "valid: [nan, tensor(0.0991, device='cuda:0')]\n",
      "train: [nan, tensor(0.0986, device='cuda:0')]\n",
      "valid: [nan, tensor(0.0991, device='cuda:0')]\n",
      "train: [nan, tensor(0.0986, device='cuda:0')]\n",
      "valid: [nan, tensor(0.0991, device='cuda:0')]\n",
      "Wall time: 7.46 s\n"
     ]
    }
   ],
   "source": [
    "# layer norm doesn't work here\n",
    "%time run.fit(3, learn)"
   ]
  },
  {
   "cell_type": "markdown",
   "metadata": {},
   "source": [
    "*Thought experiment*: can this distinguish foggy days from sunny days (assuming you're using it before the first conv)?"
   ]
  },
  {
   "cell_type": "markdown",
   "metadata": {},
   "source": [
    "### Instance norm (designed for style transfer)"
   ]
  },
  {
   "cell_type": "markdown",
   "metadata": {},
   "source": [
    "From [the paper](https://arxiv.org/abs/1607.08022): "
   ]
  },
  {
   "cell_type": "markdown",
   "metadata": {},
   "source": [
    "The key difference between **contrast** and batch normalization is that the latter applies the normalization to a  whole batch of images instead for single ones:\n",
    "\n",
    "\\begin{equation}\\label{eq:bnorm}\n",
    "    y_{tijk} =  \\frac{x_{tijk} - \\mu_{i}}{\\sqrt{\\sigma_i^2 + \\epsilon}},\n",
    "    \\quad\n",
    "    \\mu_i = \\frac{1}{HWT}\\sum_{t=1}^T\\sum_{l=1}^W \\sum_{m=1}^H x_{tilm},\n",
    "    \\quad\n",
    "    \\sigma_i^2 = \\frac{1}{HWT}\\sum_{t=1}^T\\sum_{l=1}^W \\sum_{m=1}^H (x_{tilm} - mu_i)^2.\n",
    "\\end{equation}\n",
    "\n",
    "In order to combine the effects of instance-specific normalization and batch normalization, we propose to replace the latter by the *instance normalization* (also known as *contrast normalization*) layer:\n",
    "\n",
    "\\begin{equation}\\label{eq:inorm}\n",
    "    y_{tijk} =  \\frac{x_{tijk} - \\mu_{ti}}{\\sqrt{\\sigma_{ti}^2 + \\epsilon}},\n",
    "    \\quad\n",
    "    \\mu_{ti} = \\frac{1}{HW}\\sum_{l=1}^W \\sum_{m=1}^H x_{tilm},\n",
    "    \\quad\n",
    "    \\sigma_{ti}^2 = \\frac{1}{HW}\\sum_{l=1}^W \\sum_{m=1}^H (x_{tilm} - mu_{ti})^2.\n",
    "\\end{equation}"
   ]
  },
  {
   "cell_type": "markdown",
   "metadata": {},
   "source": [
    "[Jump_to lesson 10 video](https://course.fast.ai/videos/?lesson=10&t=7114)"
   ]
  },
  {
   "cell_type": "code",
   "execution_count": 26,
   "metadata": {},
   "outputs": [],
   "source": [
    "class InstanceNorm(nn.Module):\n",
    "    __constants__ = ['eps']\n",
    "    def __init__(self, nf, eps=1e-0):\n",
    "        super().__init__()\n",
    "        self.eps = eps\n",
    "        self.mults = nn.Parameter(torch.ones (nf,1,1)) # gamma\n",
    "        self.adds  = nn.Parameter(torch.zeros(nf,1,1)) # beta\n",
    "\n",
    "    def forward(self, x):\n",
    "        m = x.mean((2,3), keepdim=True)\n",
    "        v = x.var ((2,3), keepdim=True)\n",
    "        res = (x-m) / ((v+self.eps).sqrt())\n",
    "        return res*self.mults + self.adds"
   ]
  },
  {
   "cell_type": "code",
   "execution_count": 27,
   "metadata": {},
   "outputs": [],
   "source": [
    "# instance norm\n",
    "def conv_in(ni, nf, ks=3, stride=2, bn=True, **kwargs):\n",
    "    layers = [nn.Conv2d(ni, nf, ks, padding=ks//2, stride=stride, bias=True),\n",
    "              GeneralRelu(**kwargs)]\n",
    "    if bn: layers.append(InstanceNorm(nf))\n",
    "    return nn.Sequential(*layers)"
   ]
  },
  {
   "cell_type": "code",
   "execution_count": 28,
   "metadata": {},
   "outputs": [],
   "source": [
    "learn,run = get_learn_run(nfs, data, 0.1, conv_in, cbs=cbfs)"
   ]
  },
  {
   "cell_type": "code",
   "execution_count": 29,
   "metadata": {},
   "outputs": [
    {
     "name": "stdout",
     "output_type": "stream",
     "text": [
      "train: [nan, tensor(0.0986, device='cuda:0')]\n",
      "valid: [nan, tensor(0.0991, device='cuda:0')]\n",
      "train: [nan, tensor(0.0986, device='cuda:0')]\n",
      "valid: [nan, tensor(0.0991, device='cuda:0')]\n",
      "train: [nan, tensor(0.0986, device='cuda:0')]\n",
      "valid: [nan, tensor(0.0991, device='cuda:0')]\n",
      "Wall time: 7.47 s\n"
     ]
    }
   ],
   "source": [
    "%time run.fit(3, learn)"
   ]
  },
  {
   "cell_type": "markdown",
   "metadata": {},
   "source": [
    "*Question*: why can't this classify anything?"
   ]
  },
  {
   "cell_type": "markdown",
   "metadata": {},
   "source": [
    "### Group norm"
   ]
  },
  {
   "cell_type": "markdown",
   "metadata": {},
   "source": [
    "[Jump_to lesson 10 video](https://course.fast.ai/videos/?lesson=10&t=7213)"
   ]
  },
  {
   "cell_type": "markdown",
   "metadata": {},
   "source": [
    "*From the PyTorch docs:*"
   ]
  },
  {
   "cell_type": "markdown",
   "metadata": {},
   "source": [
    "`GroupNorm(num_groups, num_channels, eps=1e-5, affine=True)`\n",
    "\n",
    "The input channels are separated into `num_groups` groups, each containing\n",
    "``num_channels / num_groups`` channels. The mean and standard-deviation are calculated\n",
    "separately over the each group. $\\gamma$ and $\\beta$ are learnable\n",
    "per-channel affine transform parameter vectors of size `num_channels` if\n",
    "`affine` is ``True``.\n",
    "\n",
    "This layer uses statistics computed from input data in both training and\n",
    "evaluation modes.\n",
    "\n",
    "Args:\n",
    "-    num_groups (int): number of groups to separate the channels into\n",
    "-    num_channels (int): number of channels expected in input\n",
    "-    eps: a value added to the denominator for numerical stability. Default: 1e-5\n",
    "-    affine: a boolean value that when set to ``True``, this module\n",
    "        has learnable per-channel affine parameters initialized to ones (for weights)\n",
    "        and zeros (for biases). Default: ``True``.\n",
    "\n",
    "Shape:\n",
    "- Input: `(N, num_channels, *)`\n",
    "- Output: `(N, num_channels, *)` (same shape as input)\n",
    "\n",
    "Examples::\n",
    "\n",
    "    >>> input = torch.randn(20, 6, 10, 10)\n",
    "    >>> # Separate 6 channels into 3 groups\n",
    "    >>> m = nn.GroupNorm(3, 6)\n",
    "    >>> # Separate 6 channels into 6 groups (equivalent with InstanceNorm)\n",
    "    >>> m = nn.GroupNorm(6, 6)\n",
    "    >>> # Put all 6 channels into a single group (equivalent with LayerNorm)\n",
    "    >>> m = nn.GroupNorm(1, 6)\n",
    "    >>> # Activating the module\n",
    "    >>> output = m(input)"
   ]
  },
  {
   "cell_type": "markdown",
   "metadata": {},
   "source": [
    "## 4. Running BatchNorm fixes the problem with small batch sizes"
   ]
  },
  {
   "cell_type": "markdown",
   "metadata": {},
   "source": [
    "### What's the problem?"
   ]
  },
  {
   "cell_type": "markdown",
   "metadata": {},
   "source": [
    "When we compute the statistics (mean and std) for a BatchNorm Layer on a small batch, it is possible that we get a standard deviation very close to 0. because there aren't many samples (the variance of one thing is 0. since it's equal to its mean)."
   ]
  },
  {
   "cell_type": "markdown",
   "metadata": {},
   "source": [
    "[Jump_to lesson 10 video](https://course.fast.ai/videos/?lesson=10&t=7304)"
   ]
  },
  {
   "cell_type": "code",
   "execution_count": null,
   "metadata": {},
   "outputs": [],
   "source": [
    "data = DataBunch(*get_dls(train_ds, valid_ds, 2), c)"
   ]
  },
  {
   "cell_type": "code",
   "execution_count": null,
   "metadata": {},
   "outputs": [],
   "source": [
    "# same as above\n",
    "def conv_layer(ni, nf, ks=3, stride=2, bn=True, **kwargs):\n",
    "    layers = [nn.Conv2d(ni, nf, ks, padding=ks//2, stride=stride, bias=not bn),\n",
    "              GeneralRelu(**kwargs)]\n",
    "    if bn: layers.append(nn.BatchNorm2d(nf, eps=1e-5, momentum=0.1))\n",
    "    return nn.Sequential(*layers)"
   ]
  },
  {
   "cell_type": "code",
   "execution_count": null,
   "metadata": {},
   "outputs": [],
   "source": [
    "learn,run = get_learn_run(nfs, data, 0.4, conv_layer, cbs=cbfs)"
   ]
  },
  {
   "cell_type": "code",
   "execution_count": null,
   "metadata": {},
   "outputs": [],
   "source": [
    "# takes a long time (4 min) and gets poor accuracy\n",
    "%time run.fit(1, learn)"
   ]
  },
  {
   "cell_type": "markdown",
   "metadata": {},
   "source": [
    "### Running Batch Norm"
   ]
  },
  {
   "cell_type": "markdown",
   "metadata": {},
   "source": [
    "To solve this problem we introduce a Running BatchNorm that uses smoother running mean and variance for the mean and std."
   ]
  },
  {
   "cell_type": "markdown",
   "metadata": {},
   "source": [
    "[Jump_to lesson 10 video](https://course.fast.ai/videos/?lesson=10&t=7516)"
   ]
  },
  {
   "cell_type": "code",
   "execution_count": 30,
   "metadata": {},
   "outputs": [],
   "source": [
    "class RunningBatchNorm(nn.Module):\n",
    "    \n",
    "    # initialize\n",
    "    def __init__(self, nf, mom=0.1, eps=1e-5):\n",
    "        super().__init__()\n",
    "        \n",
    "        # constants\n",
    "        self.mom,self.eps = mom,eps\n",
    "        \n",
    "        # add scale and offset parameters to the model\n",
    "        # note: nf is the number of channels\n",
    "        # Q1: shouldn't self.mults and self.adds have size [1,nf,1,1]?\n",
    "        self.mults = nn.Parameter(torch.ones (nf,1,1))\n",
    "        self.adds = nn.Parameter(torch.zeros(nf,1,1))\n",
    "        \n",
    "        # register_buffer adds a persistent buffer to the module, usually used for a non-model parameter\n",
    "        self.register_buffer('sums', torch.zeros(1,nf,1,1))\n",
    "        self.register_buffer('sqrs', torch.zeros(1,nf,1,1))\n",
    "        self.register_buffer('batch', tensor(0.))\n",
    "        self.register_buffer('count', tensor(0.))\n",
    "        self.register_buffer('step', tensor(0.))\n",
    "        # self.register_buffer('dbias', tensor(0.))\n",
    "        self.batch = 0\n",
    "\n",
    "    # compute updates to buffered tensors\n",
    "    def update_stats(self, x):\n",
    "        \n",
    "        # batchsize, number of channels\n",
    "        bs,nc,*_ = x.shape\n",
    "        \n",
    "        # Note: for a tensor t, t.detach_() means detach t from the computation graph, i.e. don't keep track of its gradients;\n",
    "        #     the '_' prefix means do it \"in place\"\n",
    "        # Q2: why don't we also use .detach_() for self.batch, self.count, self.step, and self.dbias?\n",
    "        self.sums.detach_()\n",
    "        self.sqrs.detach_()\n",
    "        \n",
    "        # the input x is a four-dimensional tensor: \n",
    "        #    dimensions 0, 2, 3 refer to batch samples, weight matrix rows, and weight matrix columns, respectively\n",
    "        #    dimension 1 refers to channels\n",
    "        dims = (0,2,3)\n",
    "        \n",
    "        # compute s and ss, which are the sum of the weights and the sum of the squares of the weights \n",
    "        #     over dimensions (0,2,3) for this batch. s and ss each consist of one number for each channel;\n",
    "        #     because keepdim=True s, and ss are each of size [1,nf,1,1]\n",
    "        s = x.sum(dims, keepdim=True)\n",
    "        ss = (x*x).sum(dims, keepdim=True)\n",
    "        \n",
    "        # Notes: \n",
    "        #   x.numel() is the number of elements in the 4-D tensor x,\n",
    "        #       which is the total number of weights in the batch\n",
    "        #   x.numel()/nc is the number of weights per channel in the batch\n",
    "        #   y = tensor.new_tensor(x) is equivalent to y = x.clone().detach(), \n",
    "        #       the latter is the preferred way to make a copy of a tensor\n",
    "        #   c is a one-dimensional tensor with a value equal to the number of weights per channel for this batch\n",
    "        #       note that the number of weights per channel of a batch depends on the number of samples in the \n",
    "        #       batch; not all batches have the same number of samples\n",
    "        c = self.count.new_tensor(x.numel()/nc)\n",
    "        \n",
    "        # momentum\n",
    "        # mom1 is the 'weight' to be used in lerp_() to compute EWMAs\n",
    "        #     -- see pytorch documentation for lerp_\n",
    "        # if mom is 0.1 and batch size is 2, then mom1 ~ 1 - 0.9/1 = 0.1\n",
    "        # if mom is 0.1 and batch size is 64, then mom1 ~ 1 - 0.9/7 ~ 0.9; \n",
    "        #     in general, mom1 increases with batch size\n",
    "        # Q3: What's the logic behind the following formula for mom1?\n",
    "        mom1 = 1 - (1-self.mom)/math.sqrt(bs-1)\n",
    "        # self.mom1 is a one-dimensional tensor, with a value equal to mom1\n",
    "        # self.mom1 = self.dbias.new_tensor(mom1)\n",
    "        \n",
    "        # update EWMAs of sums, sqrs, which, like s and ss, have size [1,1,nf,1] \n",
    "        self.sums.lerp_(s, self.mom1)\n",
    "        self.sqrs.lerp_(ss, self.mom1)\n",
    "\n",
    "        # update EWMA of count\n",
    "        # self.count keeps track of the EWMA of c,\n",
    "        #     which is the number of weights per channel for a batch\n",
    "        # Q4: why do we need the EWMA of c? Aren't batch sizes always the same, except for the last batch?\n",
    "        self.count.lerp_(c, self.mom1)\n",
    "        \n",
    "        # Q5: what is the logic behind the following formula for dbias?\n",
    "        # self.dbias = self.dbias*(1-self.mom1) + self.mom1\n",
    "        \n",
    "        # update the total number of samples that have been processed up to now, \n",
    "        #     i.e. the number of samples in this batch and all previous batches so far\n",
    "        self.batch += bs\n",
    "        \n",
    "        # update the total number of batches that have been processed\n",
    "        # self.step += 1\n",
    "\n",
    "    # apply a forward pass to the current batch\n",
    "    def forward(self, x):\n",
    "        \n",
    "        # main idea of RunningBatchNorm:\n",
    "        #     to normalize the batch:\n",
    "        #     in training mode, use the current EWMAs accumulated in the buffers at this step (batch), \n",
    "        #         and the *current* fitted values of the model parameters mults and adds at this step\n",
    "        #     in validation mode, use the final values of the EWMAs accumulated in the buffers after training,\n",
    "        #         and the final fitted values of mults and adds\n",
    "        if self.training: self.update_stats(x)\n",
    "            \n",
    "        # get the current values of the EWMAs of sums, sqrs and count from the buffers\n",
    "        sums = self.sums\n",
    "        sqrs = self.sqrs\n",
    "        c = self.count\n",
    "        \n",
    "        # if the current batch number is less than 100, scale the EWMAs by 1/self.dbias\n",
    "        # Q6: Why?\n",
    "        # if self.step<100:\n",
    "        #   sums = sums / self.dbias\n",
    "        #    sqrs = sqrs / self.dbias\n",
    "        #    c    = c    / self.dbias\n",
    "            \n",
    "        # scale sums by 1/c to get the mean of the weights\n",
    "        means = sums/c\n",
    "        \n",
    "        # scale sqrs by 1/c to get the mean of the squared weights\n",
    "        #     then subtract the square of the mean weight from the mean of the squared weights\n",
    "        # note: we recognize this as the 'computationally efficient' formula for the variance that we've seen before \n",
    "        vars = (sqrs/c).sub_(means*means)\n",
    "        \n",
    "        # if there are less than 20 samples so far, clamp vars to 0.01 (in case any of them becomes very small)\n",
    "        if bool(self.batch < 20): vars.clamp_min_(0.01)\n",
    "            \n",
    "        # normalize the batch in the usual way, i.e. subtract the mean and divide by std\n",
    "        # Q7: but why do we need to add eps, when we've already clamped the vars to 0.01? \n",
    "        x = (x-means).div_((vars.add_(self.eps)).sqrt())\n",
    "        \n",
    "        # return a scaled and offset version of the normalized batch, where the\n",
    "        #     scale factors (self.mults) and offsets (self.adds) are parameters in the model\n",
    "        #     Note: there's a size mismatch: self.mults and self.adds have size [nf,1,1], while x has size [1,nf,1,1]\n",
    "        return x.mul_(self.mults).add_(self.adds)"
   ]
  },
  {
   "cell_type": "markdown",
   "metadata": {},
   "source": [
    " ### description of `lerp` and `lerp_` from pytorch docs:\n",
    " \n",
    " torch.lerp(input, end, weight, out=None)\n",
    "\n",
    "    Does a linear interpolation of two tensors start (given by input) and end based on a scalar or tensor weight and returns the resulting out tensor.\n",
    "    \n",
    "    out_{i} = start_{i} + weight_{i} × (end_{i} − start_{i})\n",
    "\n",
    "    The shapes of start and end must be broadcastable. If weight is a tensor, then the shapes of weight, start, and end must be broadcastable.\n",
    "\n",
    "    Parameters\n",
    "\n",
    "            input (Tensor) – the tensor with the starting points\n",
    "\n",
    "            end (Tensor) – the tensor with the ending points\n",
    "\n",
    "            weight (float or tensor) – the weight for the interpolation formula\n",
    "\n",
    "            out (Tensor, optional) – the output tensor.\n",
    "            \n",
    " lerp_ is the in-place version of lerp\n",
    "            \n",
    " When used as a method, the syntax is input.lerp_(end, weight)\n",
    "\n"
   ]
  },
  {
   "cell_type": "code",
   "execution_count": 31,
   "metadata": {},
   "outputs": [],
   "source": [
    "def conv_rbn(ni, nf, ks=3, stride=2, bn=True, **kwargs):\n",
    "    layers = [nn.Conv2d(ni, nf, ks, padding=ks//2, stride=stride, bias=not bn),\n",
    "              GeneralRelu(**kwargs)]\n",
    "    if bn: layers.append(RunningBatchNorm(nf))\n",
    "    return nn.Sequential(*layers)"
   ]
  },
  {
   "cell_type": "code",
   "execution_count": 32,
   "metadata": {},
   "outputs": [],
   "source": [
    "learn,run = get_learn_run(nfs, data, 0.4, conv_rbn, cbs=cbfs)"
   ]
  },
  {
   "cell_type": "code",
   "execution_count": 33,
   "metadata": {},
   "outputs": [
    {
     "name": "stdout",
     "output_type": "stream",
     "text": [
      "train: [0.29023044921875, tensor(0.9165, device='cuda:0')]\n",
      "valid: [0.1175947998046875, tensor(0.9631, device='cuda:0')]\n",
      "Wall time: 3.51 s\n"
     ]
    }
   ],
   "source": [
    "# gets *much* better accuracy after 1 epoch\n",
    "%time run.fit(1, learn)"
   ]
  },
  {
   "cell_type": "markdown",
   "metadata": {},
   "source": [
    "This solves the small batch size issue!"
   ]
  },
  {
   "cell_type": "markdown",
   "metadata": {},
   "source": [
    "## 5. How well can we do in a single epoch?"
   ]
  },
  {
   "cell_type": "markdown",
   "metadata": {},
   "source": [
    "Now let's see with a decent batch size (bs=32) what result we can get."
   ]
  },
  {
   "cell_type": "markdown",
   "metadata": {},
   "source": [
    "[Jump_to lesson 10 video](https://course.fast.ai/videos/?lesson=10&t=8068)"
   ]
  },
  {
   "cell_type": "code",
   "execution_count": 34,
   "metadata": {},
   "outputs": [],
   "source": [
    "data = DataBunch(*get_dls(train_ds, valid_ds, 32), c)"
   ]
  },
  {
   "cell_type": "code",
   "execution_count": 35,
   "metadata": {},
   "outputs": [],
   "source": [
    "learn,run = get_learn_run(nfs, data, 0.9, conv_rbn, cbs=cbfs\n",
    "                          +[partial(ParamScheduler,'lr', sched_lin(1., 0.2))])"
   ]
  },
  {
   "cell_type": "code",
   "execution_count": 36,
   "metadata": {},
   "outputs": [
    {
     "name": "stdout",
     "output_type": "stream",
     "text": [
      "train: [0.16675353515625, tensor(0.9481, device='cuda:0')]\n",
      "valid: [0.12615560302734374, tensor(0.9745, device='cuda:0')]\n",
      "Wall time: 45.9 s\n"
     ]
    }
   ],
   "source": [
    "%time run.fit(1, learn)"
   ]
  },
  {
   "cell_type": "markdown",
   "metadata": {},
   "source": [
    "## Export"
   ]
  },
  {
   "cell_type": "code",
   "execution_count": null,
   "metadata": {},
   "outputs": [],
   "source": [
    "nb_auto_export()"
   ]
  },
  {
   "cell_type": "code",
   "execution_count": null,
   "metadata": {},
   "outputs": [],
   "source": [
    "nn.BatchNorm2d?"
   ]
  },
  {
   "cell_type": "code",
   "execution_count": null,
   "metadata": {},
   "outputs": [],
   "source": []
  }
 ],
 "metadata": {
  "kernelspec": {
   "display_name": "Python 3",
   "language": "python",
   "name": "python3"
  },
  "language_info": {
   "codemirror_mode": {
    "name": "ipython",
    "version": 3
   },
   "file_extension": ".py",
   "mimetype": "text/x-python",
   "name": "python",
   "nbconvert_exporter": "python",
   "pygments_lexer": "ipython3",
   "version": "3.7.3"
  }
 },
 "nbformat": 4,
 "nbformat_minor": 2
}
