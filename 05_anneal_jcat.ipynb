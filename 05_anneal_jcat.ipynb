{
 "cells": [
  {
   "cell_type": "markdown",
   "metadata": {},
   "source": [
    "## 1. Prepare to implement a learning rate schedule"
   ]
  },
  {
   "cell_type": "markdown",
   "metadata": {},
   "source": [
    "### Set up the environment"
   ]
  },
  {
   "cell_type": "code",
   "execution_count": 39,
   "metadata": {},
   "outputs": [
    {
     "name": "stdout",
     "output_type": "stream",
     "text": [
      "The autoreload extension is already loaded. To reload it, use:\n",
      "  %reload_ext autoreload\n"
     ]
    }
   ],
   "source": [
    "%load_ext autoreload\n",
    "%autoreload 2\n",
    "\n",
    "%matplotlib inline"
   ]
  },
  {
   "cell_type": "markdown",
   "metadata": {},
   "source": [
    "### Import all code from previous notebooks"
   ]
  },
  {
   "cell_type": "code",
   "execution_count": 2,
   "metadata": {},
   "outputs": [],
   "source": [
    "#export\n",
    "from exp.nb_04 import *"
   ]
  },
  {
   "cell_type": "markdown",
   "metadata": {},
   "source": [
    "[Jump_to lesson 9 video](https://course.fast.ai/videos/?lesson=9&t=7013)"
   ]
  },
  {
   "cell_type": "markdown",
   "metadata": {},
   "source": [
    "### Get the MNIST training and validation data sets"
   ]
  },
  {
   "cell_type": "code",
   "execution_count": 40,
   "metadata": {},
   "outputs": [],
   "source": [
    "x_train,y_train,x_valid,y_valid = get_data()\n",
    "train_ds,valid_ds = Dataset(x_train, y_train),Dataset(x_valid, y_valid)\n",
    "n_hidden,batch_size = 50,512\n",
    "n_out = y_train.max().item()+1\n",
    "loss_func = F.cross_entropy"
   ]
  },
  {
   "cell_type": "markdown",
   "metadata": {},
   "source": [
    "### Package the training and validation datasets into a DataBunch object"
   ]
  },
  {
   "cell_type": "code",
   "execution_count": 42,
   "metadata": {},
   "outputs": [],
   "source": [
    "data = DataBunch(*get_dls(train_ds, valid_ds, batch_size), n_out=n_out)"
   ]
  },
  {
   "cell_type": "markdown",
   "metadata": {},
   "source": [
    "### Create and export a function that returns a Learner object as a container for model, optimizer, loss_func, and data "
   ]
  },
  {
   "cell_type": "code",
   "execution_count": 46,
   "metadata": {},
   "outputs": [],
   "source": [
    "#export\n",
    "def create_learner(model_func, loss_func, data):\n",
    "    return Learner(*model_func(data), loss_func, data)"
   ]
  },
  {
   "cell_type": "markdown",
   "metadata": {},
   "source": [
    "### Instantiate Learner and Runner objects, and run the training loop"
   ]
  },
  {
   "cell_type": "code",
   "execution_count": 44,
   "metadata": {},
   "outputs": [
    {
     "name": "stdout",
     "output_type": "stream",
     "text": [
      "train: [0.66606171875, tensor(0.8015)]\n",
      "valid: [0.31202529296875, tensor(0.9094)]\n",
      "train: [0.2938678515625, tensor(0.9155)]\n",
      "valid: [0.2382280517578125, tensor(0.9333)]\n",
      "train: [0.23466779296875, tensor(0.9323)]\n",
      "valid: [0.2200090087890625, tensor(0.9389)]\n"
     ]
    }
   ],
   "source": [
    "# instantiate a learner object\n",
    "learn = create_learner(get_model, loss_func, data)\n",
    "# instantiate a runner object\n",
    "run = Runner([AvgStatsCallback([accuracy])])\n",
    "# run the training loop\n",
    "run.fit(learn, n_epochs=3)"
   ]
  },
  {
   "cell_type": "markdown",
   "metadata": {},
   "source": [
    "### Instantiate Learner and Runner objects, and run the training loop again, this time changing the learning_rate"
   ]
  },
  {
   "cell_type": "code",
   "execution_count": 95,
   "metadata": {},
   "outputs": [
    {
     "name": "stdout",
     "output_type": "stream",
     "text": [
      "train: [0.7761275, tensor(0.7983)]\n",
      "valid: [0.3426744873046875, tensor(0.9083)]\n",
      "train: [0.3410212890625, tensor(0.9031)]\n",
      "valid: [0.285968310546875, tensor(0.9187)]\n",
      "train: [0.287351015625, tensor(0.9185)]\n",
      "valid: [0.2464904541015625, tensor(0.9280)]\n"
     ]
    }
   ],
   "source": [
    "# instantiate a learner object\n",
    "learn = create_learner(partial(get_model, learning_rate=0.3), loss_func, data)\n",
    "# instantiate a runner object\n",
    "run = Runner([AvgStatsCallback([accuracy])])\n",
    "# run the training loop for 3 epochs\n",
    "run.fit(learn, n_epochs=3)"
   ]
  },
  {
   "cell_type": "markdown",
   "metadata": {},
   "source": [
    "### Create and export a partial get_model function that takes only a learning rate as input "
   ]
  },
  {
   "cell_type": "code",
   "execution_count": 96,
   "metadata": {},
   "outputs": [],
   "source": [
    "#export\n",
    "def get_model_func(learning_rate=0.5): \n",
    "    return partial(get_model, learning_rate=learning_rate)"
   ]
  },
  {
   "cell_type": "markdown",
   "metadata": {},
   "source": [
    "[Jump_to lesson 9 video](https://course.fast.ai/videos/?lesson=9&t=7202)"
   ]
  },
  {
   "cell_type": "markdown",
   "metadata": {},
   "source": [
    "## 2. Learning rate schedules"
   ]
  },
  {
   "cell_type": "markdown",
   "metadata": {},
   "source": [
    "### Linear learning rate schedule\n",
    "Let's start with a simple linear schedule going from start to end. It returns a function that takes a `pos` argument (going from 0 to 1) such that this function goes from `start` (at `pos=0`) to `end` (at `pos=1`) in a linear fashion."
   ]
  },
  {
   "cell_type": "markdown",
   "metadata": {},
   "source": [
    "[Jump_to lesson 9 video](https://course.fast.ai/videos/?lesson=9&t=7431)"
   ]
  },
  {
   "cell_type": "code",
   "execution_count": 98,
   "metadata": {},
   "outputs": [],
   "source": [
    "# linear schedule\n",
    "def sched_lin(start, end):\n",
    "    def _inner(start, end, pos): \n",
    "        return start + pos*(end-start)\n",
    "    return partial(_inner, start, end)"
   ]
  },
  {
   "cell_type": "markdown",
   "metadata": {},
   "source": [
    "We can refactor this with a decorator."
   ]
  },
  {
   "cell_type": "markdown",
   "metadata": {},
   "source": [
    "[Jump_to lesson 9 video](https://course.fast.ai/videos/?lesson=9&t=7526)"
   ]
  },
  {
   "cell_type": "code",
   "execution_count": 99,
   "metadata": {},
   "outputs": [],
   "source": [
    "#export\n",
    "def annealer(f):\n",
    "    def _inner(start, end): \n",
    "        return partial(f, start, end)\n",
    "    return _inner\n",
    "\n",
    "@annealer\n",
    "def sched_lin(start, end, pos): \n",
    "    return start + pos*(end-start)"
   ]
  },
  {
   "cell_type": "code",
   "execution_count": 25,
   "metadata": {},
   "outputs": [],
   "source": [
    "# shift-tab works too, in Jupyter!\n",
    "# sched_lin()"
   ]
  },
  {
   "cell_type": "code",
   "execution_count": 100,
   "metadata": {},
   "outputs": [
    {
     "data": {
      "text/plain": [
       "1.3"
      ]
     },
     "execution_count": 100,
     "metadata": {},
     "output_type": "execute_result"
    }
   ],
   "source": [
    "f = sched_lin(1,2)\n",
    "f(0.3)"
   ]
  },
  {
   "cell_type": "markdown",
   "metadata": {},
   "source": [
    "### Other learning rate schedules: cosine, constant, exponential\n",
    "And here are other scheduler functions:"
   ]
  },
  {
   "cell_type": "code",
   "execution_count": 101,
   "metadata": {},
   "outputs": [],
   "source": [
    "#export\n",
    "@annealer\n",
    "# cosine schedule\n",
    "def sched_cos(start, end, pos): \n",
    "    return start + (1 + math.cos(math.pi*(1-pos))) * (end-start) / 2\n",
    "# constant schedule\n",
    "@annealer\n",
    "def sched_no(start, end, pos):  \n",
    "    return start\n",
    "# exponential schedule\n",
    "@annealer\n",
    "def sched_exp(start, end, pos): \n",
    "    return start * (end/start) ** pos\n",
    "\n",
    "#Add an ndim property to the Tensor class so that tensors can be plotted\n",
    "torch.Tensor.ndim = property(lambda x: len(x.shape))"
   ]
  },
  {
   "cell_type": "markdown",
   "metadata": {},
   "source": [
    "[Jump_to lesson 9 video](https://course.fast.ai/videos/?lesson=9&t=7730)"
   ]
  },
  {
   "cell_type": "markdown",
   "metadata": {},
   "source": [
    "### Let's visualize these learning rate schedules"
   ]
  },
  {
   "cell_type": "code",
   "execution_count": 102,
   "metadata": {},
   "outputs": [
    {
     "data": {
      "text/plain": [
       "Text(0, 0.5, 'learning rate')"
      ]
     },
     "execution_count": 102,
     "metadata": {},
     "output_type": "execute_result"
    },
    {
     "data": {
      "image/png": "[encoded data removed]",
      "text/plain": [
       "<Figure size 432x288 with 1 Axes>"
      ]
     },
     "metadata": {
      "needs_background": "light"
     },
     "output_type": "display_data"
    }
   ],
   "source": [
    "# setup range of iteration indices\n",
    "n_points = 100\n",
    "start_point = 0\n",
    "indices = torch.arange(0, n_points)\n",
    "\n",
    "# uniformly sample 100 points on the interval [0,1] at step size of  of x_step\n",
    "x_start = 0.01\n",
    "x_end = 1\n",
    "x_step = 0.01\n",
    "points = torch.linspace(x_start,x_end,n_points)\n",
    "\n",
    "# plot the annealing schedules\n",
    "begin_learning_rate = 2.\n",
    "end_learning_rate = 0.01\n",
    "annealing_labels = \"NO LINEAR COS EXP\".split()\n",
    "annealing_funcs = [sched_no, sched_lin, sched_cos, sched_exp]\n",
    "for func, label in zip(annealing_funcs, annealing_labels):\n",
    "    annealing_schedule = func(begin_learning_rate, end_learning_rate)\n",
    "    plt.plot(indices, [annealing_schedule(pos) for pos in points], label=label)\n",
    "plt.legend()\n",
    "plt.xlabel('iteration')\n",
    "plt.ylabel('learning rate')"
   ]
  },
  {
   "cell_type": "markdown",
   "metadata": {},
   "source": [
    "### Constructing Piecewise Schedules by Combining Schedulers \n",
    "In practice, we'll often want to combine different schedulers, the following function creates a piecewise schedule that uses `scheds[i]` for `fracs[i]` of the training."
   ]
  },
  {
   "cell_type": "code",
   "execution_count": 103,
   "metadata": {},
   "outputs": [],
   "source": [
    "#export\n",
    "def combine_scheds(fracs, scheds):\n",
    "    \n",
    "    # check that all fracs are positive and that they sum to 1\n",
    "    assert sum(fracs) == 1.\n",
    "    fracs = tensor([0] + listify(fracs))\n",
    "    assert torch.all(fracs >= 0)\n",
    "    \n",
    "    # relative position (between 0 and 1) at the boundary of each piecewise section of the schedule\n",
    "    cum_fracs = torch.cumsum(fracs, 0)\n",
    "    \n",
    "    def _inner(pos):\n",
    "        # given a relative position pos (between 0 and 1) along the schedule interval\n",
    "        #    if pos doesn't correspond to a section boundary point,\n",
    "        #        compute the index of the nearest section boundary point to its left in cum_fracs;\n",
    "        #    otherwise return the index corresponding to pos in cum_fracs\n",
    "        idx = (pos >= cum_fracs).nonzero().max()\n",
    "        # print('index = ',idx)\n",
    "        # compute the relative position of pos within its piecewise section interval; ranges from 0 to 1\n",
    "        actual_pos = (pos-cum_fracs[idx]) / (cum_fracs[idx+1]-cum_fracs[idx])\n",
    "        return scheds[idx](actual_pos)\n",
    "    # return the scheduler function\n",
    "    return _inner"
   ]
  },
  {
   "cell_type": "markdown",
   "metadata": {},
   "source": [
    "Here is an example: use 30% of the budget to go from 0.3 to 0.6 following a cosine, then the last 70% of the budget to go from 0.6 to 0.2, still following a cosine."
   ]
  },
  {
   "cell_type": "code",
   "execution_count": 104,
   "metadata": {},
   "outputs": [],
   "source": [
    "# specify and create a piecewise schedule\n",
    "sched = combine_scheds([0.3, 0.7], [sched_cos(0.3, 0.6), sched_cos(0.6, 0.2)]) "
   ]
  },
  {
   "cell_type": "code",
   "execution_count": 105,
   "metadata": {},
   "outputs": [
    {
     "data": {
      "text/plain": [
       "[<matplotlib.lines.Line2D at 0x1ff5369c470>]"
      ]
     },
     "execution_count": 105,
     "metadata": {},
     "output_type": "execute_result"
    },
    {
     "data": {
      "image/png": "[encoded data removed]",
      "text/plain": [
       "<Figure size 432x288 with 1 Axes>"
      ]
     },
     "metadata": {
      "needs_background": "light"
     },
     "output_type": "display_data"
    }
   ],
   "source": [
    "# plot the piecewise schedule\n",
    "plt.plot(indices, [sched(pos) for pos in points])"
   ]
  },
  {
   "cell_type": "markdown",
   "metadata": {},
   "source": [
    "## 3. Flexible learning rate schedule design via callbacks"
   ]
  },
  {
   "cell_type": "markdown",
   "metadata": {},
   "source": [
    "### Recorder and ParamScheduler callbacks\n",
    "We define two new callbacks: the Recorder to save track of the loss and our scheduled learning rate, and a ParamScheduler that can schedule any hyperparameter as long as it's registered in the state_dict of the optimizer. "
   ]
  },
  {
   "cell_type": "code",
   "execution_count": 144,
   "metadata": {},
   "outputs": [],
   "source": [
    "#export\n",
    "class Recorder(Callback):\n",
    "    def begin_fit(self): \n",
    "        self.lrs,self.losses = [],[]\n",
    "\n",
    "    def after_batch(self):\n",
    "        if not self.in_train: return\n",
    "        self.lrs.append(self.opt.param_groups[-1]['learning_rate'])\n",
    "        self.losses.append(self.loss.detach().cpu())        \n",
    "\n",
    "    def plot_lr  (self): \n",
    "        plt.plot(self.lrs)\n",
    "    def plot_loss(self): \n",
    "        plt.plot(self.losses)\n",
    "\n",
    "class ParamScheduler(Callback):\n",
    "    # ????? what is the function of the _order parameter ?????\n",
    "    _order=1\n",
    "    def __init__(self, pname, sched_func): \n",
    "        self.pname,self.sched_func = pname,sched_func\n",
    "\n",
    "    def set_param(self):\n",
    "        for param_group in self.opt.param_groups:\n",
    "            print(self.epoch, self.n_epochs_float)\n",
    "            # param_group[self.pname] = self.sched_func((self.epoch+self.n_epochs_float)/(self.epoch+1))\n",
    "            param_group[self.pname] = self.sched_func((self.n_epochs_float+self.epoch)/self.n_epochs)\n",
    "            \n",
    "    def begin_batch(self): \n",
    "        if self.in_train: \n",
    "            self.set_param()"
   ]
  },
  {
   "cell_type": "markdown",
   "metadata": {},
   "source": [
    "We can use it for training quite easily..."
   ]
  },
  {
   "cell_type": "code",
   "execution_count": 145,
   "metadata": {},
   "outputs": [],
   "source": [
    "# create the list of callbacks we want to use\n",
    "callback_funcs = [Recorder,\n",
    "        partial(AvgStatsCallback,accuracy),\n",
    "        partial(ParamScheduler, 'learning_rate', sched)]"
   ]
  },
  {
   "cell_type": "code",
   "execution_count": 146,
   "metadata": {},
   "outputs": [],
   "source": [
    "# instantiate Learner and Runner objects\n",
    "learn = create_learner(get_model_func(learning_rate = 0.3), loss_func, data)\n",
    "run = Runner(callback_funcs=callback_funcs)"
   ]
  },
  {
   "cell_type": "code",
   "execution_count": 147,
   "metadata": {},
   "outputs": [
    {
     "name": "stdout",
     "output_type": "stream",
     "text": [
      "0 0.0\n",
      "0 0.01020408163265306\n",
      "0 0.02040816326530612\n",
      "0 0.030612244897959183\n",
      "0 0.04081632653061224\n",
      "0 0.0510204081632653\n",
      "0 0.06122448979591836\n",
      "0 0.07142857142857142\n",
      "0 0.08163265306122448\n",
      "0 0.09183673469387754\n",
      "0 0.1020408163265306\n",
      "0 0.11224489795918366\n",
      "0 0.12244897959183672\n",
      "0 0.13265306122448978\n",
      "0 0.14285714285714285\n",
      "0 0.15306122448979592\n",
      "0 0.163265306122449\n",
      "0 0.17346938775510207\n",
      "0 0.18367346938775514\n",
      "0 0.1938775510204082\n",
      "0 0.20408163265306128\n",
      "0 0.21428571428571436\n",
      "0 0.22448979591836743\n",
      "0 0.2346938775510205\n",
      "0 0.24489795918367357\n",
      "0 0.25510204081632665\n",
      "0 0.2653061224489797\n",
      "0 0.2755102040816328\n",
      "0 0.28571428571428586\n",
      "0 0.29591836734693894\n",
      "0 0.306122448979592\n",
      "0 0.3163265306122451\n",
      "0 0.32653061224489816\n",
      "0 0.3367346938775512\n",
      "0 0.3469387755102043\n",
      "0 0.3571428571428574\n",
      "0 0.36734693877551045\n",
      "0 0.3775510204081635\n",
      "0 0.3877551020408166\n",
      "0 0.39795918367346966\n",
      "0 0.40816326530612274\n",
      "0 0.4183673469387758\n",
      "0 0.4285714285714289\n",
      "0 0.43877551020408195\n",
      "0 0.448979591836735\n",
      "0 0.4591836734693881\n",
      "0 0.46938775510204117\n",
      "0 0.47959183673469424\n",
      "0 0.4897959183673473\n",
      "0 0.5000000000000003\n",
      "0 0.5102040816326534\n",
      "0 0.5204081632653065\n",
      "0 0.5306122448979596\n",
      "0 0.5408163265306126\n",
      "0 0.5510204081632657\n",
      "0 0.5612244897959188\n",
      "0 0.5714285714285718\n",
      "0 0.5816326530612249\n",
      "0 0.591836734693878\n",
      "0 0.6020408163265311\n",
      "0 0.6122448979591841\n",
      "0 0.6224489795918372\n",
      "0 0.6326530612244903\n",
      "0 0.6428571428571433\n",
      "0 0.6530612244897964\n",
      "0 0.6632653061224495\n",
      "0 0.6734693877551026\n",
      "0 0.6836734693877556\n",
      "0 0.6938775510204087\n",
      "0 0.7040816326530618\n",
      "0 0.7142857142857149\n",
      "0 0.7244897959183679\n",
      "0 0.734693877551021\n",
      "0 0.7448979591836741\n",
      "0 0.7551020408163271\n",
      "0 0.7653061224489802\n",
      "0 0.7755102040816333\n",
      "0 0.7857142857142864\n",
      "0 0.7959183673469394\n",
      "0 0.8061224489795925\n",
      "0 0.8163265306122456\n",
      "0 0.8265306122448987\n",
      "0 0.8367346938775517\n",
      "0 0.8469387755102048\n",
      "0 0.8571428571428579\n",
      "0 0.867346938775511\n",
      "0 0.877551020408164\n",
      "0 0.8877551020408171\n",
      "0 0.8979591836734702\n",
      "0 0.9081632653061232\n",
      "0 0.9183673469387763\n",
      "0 0.9285714285714294\n",
      "0 0.9387755102040825\n",
      "0 0.9489795918367355\n",
      "0 0.9591836734693886\n",
      "0 0.9693877551020417\n",
      "0 0.9795918367346947\n",
      "0 0.9897959183673478\n",
      "train: [0.7590778125, tensor(0.8011)]\n",
      "valid: [0.36834619140625, tensor(0.8988)]\n",
      "1 0.0\n",
      "1 0.01020408163265306\n",
      "1 0.02040816326530612\n",
      "1 0.030612244897959183\n",
      "1 0.04081632653061224\n",
      "1 0.0510204081632653\n",
      "1 0.06122448979591836\n",
      "1 0.07142857142857142\n",
      "1 0.08163265306122448\n",
      "1 0.09183673469387754\n",
      "1 0.1020408163265306\n",
      "1 0.11224489795918366\n",
      "1 0.12244897959183672\n",
      "1 0.13265306122448978\n",
      "1 0.14285714285714285\n",
      "1 0.15306122448979592\n",
      "1 0.163265306122449\n",
      "1 0.17346938775510207\n",
      "1 0.18367346938775514\n",
      "1 0.1938775510204082\n",
      "1 0.20408163265306128\n",
      "1 0.21428571428571436\n",
      "1 0.22448979591836743\n",
      "1 0.2346938775510205\n",
      "1 0.24489795918367357\n",
      "1 0.25510204081632665\n",
      "1 0.2653061224489797\n",
      "1 0.2755102040816328\n",
      "1 0.28571428571428586\n",
      "1 0.29591836734693894\n",
      "1 0.306122448979592\n",
      "1 0.3163265306122451\n",
      "1 0.32653061224489816\n",
      "1 0.3367346938775512\n",
      "1 0.3469387755102043\n",
      "1 0.3571428571428574\n",
      "1 0.36734693877551045\n",
      "1 0.3775510204081635\n",
      "1 0.3877551020408166\n",
      "1 0.39795918367346966\n",
      "1 0.40816326530612274\n",
      "1 0.4183673469387758\n",
      "1 0.4285714285714289\n",
      "1 0.43877551020408195\n",
      "1 0.448979591836735\n",
      "1 0.4591836734693881\n",
      "1 0.46938775510204117\n",
      "1 0.47959183673469424\n",
      "1 0.4897959183673473\n",
      "1 0.5000000000000003\n",
      "1 0.5102040816326534\n",
      "1 0.5204081632653065\n",
      "1 0.5306122448979596\n",
      "1 0.5408163265306126\n",
      "1 0.5510204081632657\n",
      "1 0.5612244897959188\n",
      "1 0.5714285714285718\n",
      "1 0.5816326530612249\n",
      "1 0.591836734693878\n",
      "1 0.6020408163265311\n",
      "1 0.6122448979591841\n",
      "1 0.6224489795918372\n",
      "1 0.6326530612244903\n",
      "1 0.6428571428571433\n",
      "1 0.6530612244897964\n",
      "1 0.6632653061224495\n",
      "1 0.6734693877551026\n",
      "1 0.6836734693877556\n",
      "1 0.6938775510204087\n",
      "1 0.7040816326530618\n",
      "1 0.7142857142857149\n",
      "1 0.7244897959183679\n",
      "1 0.734693877551021\n",
      "1 0.7448979591836741\n",
      "1 0.7551020408163271\n",
      "1 0.7653061224489802\n",
      "1 0.7755102040816333\n",
      "1 0.7857142857142864\n",
      "1 0.7959183673469394\n",
      "1 0.8061224489795925\n",
      "1 0.8163265306122456\n",
      "1 0.8265306122448987\n",
      "1 0.8367346938775517\n",
      "1 0.8469387755102048\n",
      "1 0.8571428571428579\n",
      "1 0.867346938775511\n",
      "1 0.877551020408164\n",
      "1 0.8877551020408171\n",
      "1 0.8979591836734702\n",
      "1 0.9081632653061232\n",
      "1 0.9183673469387763\n",
      "1 0.9285714285714294\n",
      "1 0.9387755102040825\n",
      "1 0.9489795918367355\n",
      "1 0.9591836734693886\n",
      "1 0.9693877551020417\n",
      "1 0.9795918367346947\n",
      "1 0.9897959183673478\n",
      "train: [0.354681484375, tensor(0.8981)]\n",
      "valid: [0.2918619140625, tensor(0.9162)]\n",
      "2 0.0\n",
      "2 0.01020408163265306\n",
      "2 0.02040816326530612\n",
      "2 0.030612244897959183\n",
      "2 0.04081632653061224\n",
      "2 0.0510204081632653\n",
      "2 0.06122448979591836\n",
      "2 0.07142857142857142\n",
      "2 0.08163265306122448\n",
      "2 0.09183673469387754\n",
      "2 0.1020408163265306\n",
      "2 0.11224489795918366\n",
      "2 0.12244897959183672\n",
      "2 0.13265306122448978\n",
      "2 0.14285714285714285\n",
      "2 0.15306122448979592\n",
      "2 0.163265306122449\n",
      "2 0.17346938775510207\n",
      "2 0.18367346938775514\n",
      "2 0.1938775510204082\n",
      "2 0.20408163265306128\n",
      "2 0.21428571428571436\n",
      "2 0.22448979591836743\n",
      "2 0.2346938775510205\n",
      "2 0.24489795918367357\n",
      "2 0.25510204081632665\n",
      "2 0.2653061224489797\n",
      "2 0.2755102040816328\n",
      "2 0.28571428571428586\n",
      "2 0.29591836734693894\n",
      "2 0.306122448979592\n",
      "2 0.3163265306122451\n",
      "2 0.32653061224489816\n",
      "2 0.3367346938775512\n",
      "2 0.3469387755102043\n",
      "2 0.3571428571428574\n",
      "2 0.36734693877551045\n",
      "2 0.3775510204081635\n",
      "2 0.3877551020408166\n",
      "2 0.39795918367346966\n",
      "2 0.40816326530612274\n",
      "2 0.4183673469387758\n",
      "2 0.4285714285714289\n",
      "2 0.43877551020408195\n",
      "2 0.448979591836735\n",
      "2 0.4591836734693881\n",
      "2 0.46938775510204117\n",
      "2 0.47959183673469424\n",
      "2 0.4897959183673473\n",
      "2 0.5000000000000003\n",
      "2 0.5102040816326534\n",
      "2 0.5204081632653065\n",
      "2 0.5306122448979596\n",
      "2 0.5408163265306126\n",
      "2 0.5510204081632657\n",
      "2 0.5612244897959188\n",
      "2 0.5714285714285718\n",
      "2 0.5816326530612249\n",
      "2 0.591836734693878\n",
      "2 0.6020408163265311\n",
      "2 0.6122448979591841\n",
      "2 0.6224489795918372\n",
      "2 0.6326530612244903\n",
      "2 0.6428571428571433\n",
      "2 0.6530612244897964\n",
      "2 0.6632653061224495\n",
      "2 0.6734693877551026\n",
      "2 0.6836734693877556\n",
      "2 0.6938775510204087\n",
      "2 0.7040816326530618\n",
      "2 0.7142857142857149\n",
      "2 0.7244897959183679\n",
      "2 0.734693877551021\n",
      "2 0.7448979591836741\n",
      "2 0.7551020408163271\n",
      "2 0.7653061224489802\n",
      "2 0.7755102040816333\n",
      "2 0.7857142857142864\n",
      "2 0.7959183673469394\n",
      "2 0.8061224489795925\n",
      "2 0.8163265306122456\n",
      "2 0.8265306122448987\n",
      "2 0.8367346938775517\n",
      "2 0.8469387755102048\n",
      "2 0.8571428571428579\n",
      "2 0.867346938775511\n",
      "2 0.877551020408164\n",
      "2 0.8877551020408171\n",
      "2 0.8979591836734702\n",
      "2 0.9081632653061232\n",
      "2 0.9183673469387763\n",
      "2 0.9285714285714294\n",
      "2 0.9387755102040825\n",
      "2 0.9489795918367355\n",
      "2 0.9591836734693886\n",
      "2 0.9693877551020417\n",
      "2 0.9795918367346947\n",
      "2 0.9897959183673478\n",
      "train: [0.30438755859375, tensor(0.9123)]\n",
      "valid: [0.260275439453125, tensor(0.9271)]\n"
     ]
    }
   ],
   "source": [
    "# !!!!! scheduling not working yet\n",
    "run.fit(learn, n_epochs = 3)"
   ]
  },
  {
   "cell_type": "markdown",
   "metadata": {},
   "source": [
    "... then check with our recorder if the learning rate followed the right schedule."
   ]
  },
  {
   "cell_type": "code",
   "execution_count": 148,
   "metadata": {},
   "outputs": [
    {
     "data": {
      "image/png": "[encoded data removed]",
      "text/plain": [
       "<Figure size 432x288 with 1 Axes>"
      ]
     },
     "metadata": {
      "needs_background": "light"
     },
     "output_type": "display_data"
    }
   ],
   "source": [
    "# plot the learning rate schedule\n",
    "run.recorder.plot_lr()"
   ]
  },
  {
   "cell_type": "code",
   "execution_count": 149,
   "metadata": {},
   "outputs": [
    {
     "data": {
      "image/png": "[encoded data removed]",
      "text/plain": [
       "<Figure size 432x288 with 1 Axes>"
      ]
     },
     "metadata": {
      "needs_background": "light"
     },
     "output_type": "display_data"
    }
   ],
   "source": [
    "# plot the loss\n",
    "run.recorder.plot_loss()"
   ]
  },
  {
   "cell_type": "markdown",
   "metadata": {},
   "source": [
    "## Export"
   ]
  },
  {
   "cell_type": "code",
   "execution_count": 150,
   "metadata": {},
   "outputs": [
    {
     "name": "stdout",
     "output_type": "stream",
     "text": [
      "Converted 05_anneal_jcat.ipynb to exp\\nb_05.py\n"
     ]
    }
   ],
   "source": [
    "!python notebook2script.py 05_anneal_jcat.ipynb"
   ]
  },
  {
   "cell_type": "code",
   "execution_count": null,
   "metadata": {},
   "outputs": [],
   "source": []
  }
 ],
 "metadata": {
  "kernelspec": {
   "display_name": "Python 3",
   "language": "python",
   "name": "python3"
  },
  "language_info": {
   "codemirror_mode": {
    "name": "ipython",
    "version": 3
   },
   "file_extension": ".py",
   "mimetype": "text/x-python",
   "name": "python",
   "nbconvert_exporter": "python",
   "pygments_lexer": "ipython3",
   "version": "3.7.3"
  }
 },
 "nbformat": 4,
 "nbformat_minor": 2
}
