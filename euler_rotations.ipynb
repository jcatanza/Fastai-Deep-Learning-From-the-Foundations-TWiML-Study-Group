{
 "cells": [
  {
   "cell_type": "code",
   "execution_count": 58,
   "metadata": {},
   "outputs": [],
   "source": [
    "%matplotlib inline\n",
    "import numpy as np\n",
    "import random\n",
    "import matplotlib.pyplot as plt"
   ]
  },
  {
   "cell_type": "code",
   "execution_count": 122,
   "metadata": {},
   "outputs": [
    {
     "name": "stdout",
     "output_type": "stream",
     "text": [
      "0.5235987755982988 0.7853981633974483 1.0471975511965976\n"
     ]
    }
   ],
   "source": [
    "# Randomly draw the Euler angles alpha, beta, and gamma from uniform distributions\n",
    "alpha = np.pi/6#(np.pi)*np.random.normal(0, 1)\n",
    "beta = np.pi/4 #(np.pi/2)*np.random.normal(0, 1)\n",
    "gamma = np.pi/3#(np.pi)*np.random.normal(0, 1)\n",
    "print(alpha, beta, gamma)"
   ]
  },
  {
   "cell_type": "code",
   "execution_count": 123,
   "metadata": {},
   "outputs": [],
   "source": [
    "# introduce shorthand notation \n",
    "cb = np.cos(beta)\n",
    "sb = np.sin(beta)\n",
    "ca = np.cos(alpha)\n",
    "sa = np.sin(alpha)\n",
    "cg = np.cos(gamma)\n",
    "sg = np.sin(gamma)"
   ]
  },
  {
   "cell_type": "code",
   "execution_count": 124,
   "metadata": {},
   "outputs": [],
   "source": [
    "# Rows of the Euler matrix R = Rx(gamma)*Rx(beta)*Rz(alpha)\n",
    "r1 = np.array([-sg*cb*sa + cg*ca, -cg*cb*sa - sg*ca, sb*sa])\n",
    "r2 = np.array([sg*cb*ca + cg*sa, cg*cb*ca - sg*sa, -sb*ca])\n",
    "r3 = np.array([sg*sb, cg*sb, cb])\n",
    "R = np.array([r1,r2,r3])"
   ]
  },
  {
   "cell_type": "code",
   "execution_count": 133,
   "metadata": {},
   "outputs": [],
   "source": [
    "# column vectors for points at corners of a square in the original coordinate system \n",
    "x1 = np.array([0,0,128])[:,None]\n",
    "x2 = np.array([128,0,128])[:,None]\n",
    "x3 = np.array([128,128,128])[:,None]\n",
    "x4 = np.array([0,128,128])[:,None]"
   ]
  },
  {
   "cell_type": "code",
   "execution_count": 134,
   "metadata": {},
   "outputs": [],
   "source": [
    "X1 = R@x1\n",
    "X2 = R@x2\n",
    "X3 = R@x3\n",
    "X4 = R@x4"
   ]
  },
  {
   "cell_type": "code",
   "execution_count": 135,
   "metadata": {},
   "outputs": [],
   "source": [
    "xs = [x1[0],x2[0],x3[0],x4[0]]\n",
    "ys = [x1[1],x2[1],x3[1],x4[1]]\n",
    "Xs = [X1[0],X2[0],X3[0],X4[0]]\n",
    "Ys = [X1[1],X2[1],X3[1],X4[1]]"
   ]
  },
  {
   "cell_type": "code",
   "execution_count": 136,
   "metadata": {},
   "outputs": [
    {
     "data": {
      "image/png": "[encoded data removed]",
      "text/plain": [
       "<Figure size 432x288 with 1 Axes>"
      ]
     },
     "metadata": {
      "needs_background": "light"
     },
     "output_type": "display_data"
    }
   ],
   "source": [
    "fig, ax = plt.subplots()\n",
    "ax.plot(xs,ys,'k*')\n",
    "ax.plot(Xs,Ys,'r.')\n",
    "ax.axis('equal')\n",
    "plt.show()"
   ]
  },
  {
   "cell_type": "code",
   "execution_count": null,
   "metadata": {},
   "outputs": [],
   "source": []
  },
  {
   "cell_type": "code",
   "execution_count": null,
   "metadata": {},
   "outputs": [],
   "source": []
  }
 ],
 "metadata": {
  "kernelspec": {
   "display_name": "Python 3",
   "language": "python",
   "name": "python3"
  },
  "language_info": {
   "codemirror_mode": {
    "name": "ipython",
    "version": 3
   },
   "file_extension": ".py",
   "mimetype": "text/x-python",
   "name": "python",
   "nbconvert_exporter": "python",
   "pygments_lexer": "ipython3",
   "version": "3.7.3"
  }
 },
 "nbformat": 4,
 "nbformat_minor": 2
}
