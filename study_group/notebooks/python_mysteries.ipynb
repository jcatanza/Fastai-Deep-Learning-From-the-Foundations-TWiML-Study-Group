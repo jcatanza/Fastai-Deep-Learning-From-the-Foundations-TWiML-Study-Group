{
 "cells": [
  {
   "cell_type": "markdown",
   "metadata": {},
   "source": [
    "## Python mysteries unveiled"
   ]
  },
  {
   "cell_type": "markdown",
   "metadata": {},
   "source": [
    "### 1. Class attributes"
   ]
  },
  {
   "cell_type": "code",
   "execution_count": 13,
   "metadata": {},
   "outputs": [],
   "source": [
    "class RegularCard:\n",
    "    def __init__(self, rank, suit):\n",
    "        self.rank = rank\n",
    "        self.suit = suit\n",
    "    def __eq__(self, other):\n",
    "        if other.__class__ is not self.__class__:\n",
    "            return NotImplemented\n",
    "        return (self.rank, self.suit) == (other.rank, other.suit)\n",
    "    def __repr__(self):\n",
    "        return (f'{self.__class__.__name__}'\n",
    "                f'(rank={self.rank!r}, suit={self.suit!r})')\n"
   ]
  },
  {
   "cell_type": "markdown",
   "metadata": {},
   "source": [
    "#### Non-dunder attributes are meant to be accessible from outside the class"
   ]
  },
  {
   "cell_type": "code",
   "execution_count": 14,
   "metadata": {},
   "outputs": [
    {
     "name": "stdout",
     "output_type": "stream",
     "text": [
      "rank  Q\n",
      "suit  Hearts\n"
     ]
    }
   ],
   "source": [
    "card = RegularCard('Q', 'Hearts')\n",
    "print('rank ',card.rank)\n",
    "print('suit ',card.suit)"
   ]
  },
  {
   "cell_type": "code",
   "execution_count": 15,
   "metadata": {},
   "outputs": [
    {
     "data": {
      "text/plain": [
       "'Q'"
      ]
     },
     "execution_count": 15,
     "metadata": {},
     "output_type": "execute_result"
    }
   ],
   "source": [
    "getattr(card,'rank')"
   ]
  },
  {
   "cell_type": "code",
   "execution_count": 16,
   "metadata": {},
   "outputs": [],
   "source": [
    "setattr(card,'rank','J')"
   ]
  },
  {
   "cell_type": "code",
   "execution_count": 17,
   "metadata": {},
   "outputs": [
    {
     "data": {
      "text/plain": [
       "RegularCard(rank='J', suit='Hearts')"
      ]
     },
     "execution_count": 17,
     "metadata": {},
     "output_type": "execute_result"
    }
   ],
   "source": [
    "card\n"
   ]
  },
  {
   "cell_type": "markdown",
   "metadata": {},
   "source": [
    "#### The \\_\\_eq\\_\\_ method permits a test of equivalence with another object"
   ]
  },
  {
   "cell_type": "code",
   "execution_count": 18,
   "metadata": {},
   "outputs": [
    {
     "name": "stdout",
     "output_type": "stream",
     "text": [
      "False\n",
      "True\n",
      "NotImplemented\n"
     ]
    }
   ],
   "source": [
    "print(card.__eq__(RegularCard('Q', 'Hearts')))\n",
    "print(card.__eq__(RegularCard('J', 'Hearts')))\n",
    "card2 = list(('J', 'Hearts'))\n",
    "print(card.__eq__(card2))"
   ]
  },
  {
   "cell_type": "markdown",
   "metadata": {},
   "source": [
    "#### The \\_\\_repr\\_\\_ attribute should give a machine-readable string representation of the object"
   ]
  },
  {
   "cell_type": "code",
   "execution_count": 20,
   "metadata": {},
   "outputs": [
    {
     "name": "stdout",
     "output_type": "stream",
     "text": [
      "RegularCard(rank='J', suit='Hearts')\n",
      "['J', 'Hearts']\n"
     ]
    }
   ],
   "source": [
    "print(card.__repr__())\n",
    "print(card2.__repr__())"
   ]
  },
  {
   "cell_type": "markdown",
   "metadata": {},
   "source": [
    "#### The \\_\\_class\\_\\_ attribute returns the class of the object"
   ]
  },
  {
   "cell_type": "code",
   "execution_count": 21,
   "metadata": {},
   "outputs": [
    {
     "name": "stdout",
     "output_type": "stream",
     "text": [
      "<class '__main__.RegularCard'>\n",
      "<class 'list'>\n"
     ]
    }
   ],
   "source": [
    "print(card.__class__)\n",
    "print(card2.__class__)"
   ]
  },
  {
   "cell_type": "markdown",
   "metadata": {},
   "source": [
    "#### Can use dir() to see all the attributes of the class"
   ]
  },
  {
   "cell_type": "code",
   "execution_count": 22,
   "metadata": {},
   "outputs": [
    {
     "data": {
      "text/plain": [
       "['__class__',\n",
       " '__delattr__',\n",
       " '__dict__',\n",
       " '__dir__',\n",
       " '__doc__',\n",
       " '__eq__',\n",
       " '__format__',\n",
       " '__ge__',\n",
       " '__getattribute__',\n",
       " '__gt__',\n",
       " '__hash__',\n",
       " '__init__',\n",
       " '__init_subclass__',\n",
       " '__le__',\n",
       " '__lt__',\n",
       " '__module__',\n",
       " '__ne__',\n",
       " '__new__',\n",
       " '__reduce__',\n",
       " '__reduce_ex__',\n",
       " '__repr__',\n",
       " '__setattr__',\n",
       " '__sizeof__',\n",
       " '__str__',\n",
       " '__subclasshook__',\n",
       " '__weakref__',\n",
       " 'rank',\n",
       " 'suit']"
      ]
     },
     "execution_count": 22,
     "metadata": {},
     "output_type": "execute_result"
    }
   ],
   "source": [
    "dir(card)"
   ]
  },
  {
   "cell_type": "code",
   "execution_count": 197,
   "metadata": {},
   "outputs": [
    {
     "data": {
      "text/plain": [
       "['__add__',\n",
       " '__class__',\n",
       " '__contains__',\n",
       " '__delattr__',\n",
       " '__delitem__',\n",
       " '__dir__',\n",
       " '__doc__',\n",
       " '__eq__',\n",
       " '__format__',\n",
       " '__ge__',\n",
       " '__getattribute__',\n",
       " '__getitem__',\n",
       " '__gt__',\n",
       " '__hash__',\n",
       " '__iadd__',\n",
       " '__imul__',\n",
       " '__init__',\n",
       " '__init_subclass__',\n",
       " '__iter__',\n",
       " '__le__',\n",
       " '__len__',\n",
       " '__lt__',\n",
       " '__mul__',\n",
       " '__ne__',\n",
       " '__new__',\n",
       " '__reduce__',\n",
       " '__reduce_ex__',\n",
       " '__repr__',\n",
       " '__reversed__',\n",
       " '__rmul__',\n",
       " '__setattr__',\n",
       " '__setitem__',\n",
       " '__sizeof__',\n",
       " '__str__',\n",
       " '__subclasshook__',\n",
       " 'append',\n",
       " 'clear',\n",
       " 'copy',\n",
       " 'count',\n",
       " 'extend',\n",
       " 'index',\n",
       " 'insert',\n",
       " 'pop',\n",
       " 'remove',\n",
       " 'reverse',\n",
       " 'sort']"
      ]
     },
     "execution_count": 197,
     "metadata": {},
     "output_type": "execute_result"
    }
   ],
   "source": [
    "dir(card2)"
   ]
  },
  {
   "cell_type": "markdown",
   "metadata": {},
   "source": [
    "### 2. Concise explanation of *\\*args and \\**kwargs*, from Sylvain Gugger\n",
    "**`*args`** and **`**kwargs`** let you pass **variable-length** non-keyworded and keyworded variables into a function, respectively.\n",
    "\n",
    "**`*`** is to unwrap a list (non-keyworded arguments)\n",
    "**`**`** is to unwrap a dictionary (keyworded arguments)\n",
    "\n",
    "The prefixes **`*`** and **`**`** are valid only within the argument of a function, and are used to pass objects in to that function\n",
    "\n",
    "\n",
    "see https://pythontips.com/2013/08/04/args-and-kwargs-in-python-explained/"
   ]
  },
  {
   "cell_type": "code",
   "execution_count": 23,
   "metadata": {},
   "outputs": [],
   "source": [
    "# Example function with \n",
    "from numpy.random import randn\n",
    "\n",
    "def func(*args,**kwargs):\n",
    "    if(args):\n",
    "        print('args: ',args)\n",
    "        print('args has ',len(args),' elements')\n",
    "    else:\n",
    "        print('There are no non-keyworded arguments')\n",
    "        \n",
    "    if(kwargs):\n",
    "        print('kwargs: ',kwargs)\n",
    "        print('kwargs has ',len(kwargs),' elements')\n",
    "    else:\n",
    "        print('There are no keyworded arguments')\n"
   ]
  },
  {
   "cell_type": "code",
   "execution_count": 24,
   "metadata": {},
   "outputs": [
    {
     "name": "stdout",
     "output_type": "stream",
     "text": [
      "args:  ([1, 2, 3], {'a': 4, 'b': 5})\n",
      "args has  2  elements\n",
      "There are no keyworded arguments\n"
     ]
    }
   ],
   "source": [
    "# input is a list of non-keyworded arguments\n",
    "input_list = [1,2,3]\n",
    "input_dict = {'a':4, 'b':5}\n",
    "\n",
    "# input arguments are unpacked into a list called args\n",
    "f = func(input_list,input_dict)"
   ]
  },
  {
   "cell_type": "code",
   "execution_count": 25,
   "metadata": {},
   "outputs": [
    {
     "name": "stdout",
     "output_type": "stream",
     "text": [
      "There are no non-keyworded arguments\n",
      "kwargs:  {'I1': array([0.43494798, 0.884221  , 0.06899036, 0.6510927 , 0.47749029]), 'I2': {'zebras': 14, 'giraffes': 3}, 'I3': ['a', 'b', 'c']}\n",
      "kwargs has  3  elements\n"
     ]
    }
   ],
   "source": [
    "# input is keyworded arguments\n",
    "input_list1=randn(5)\n",
    "input_dict={'zebras':14, 'giraffes':3}\n",
    "input_list2 = ['a','b','c']\n",
    "\n",
    "# input arguments are unpacked into a dictionary called kwargs\n",
    "f = func(I1=input_list1,I2=input_dict,I3=input_list2)"
   ]
  },
  {
   "cell_type": "code",
   "execution_count": 26,
   "metadata": {},
   "outputs": [
    {
     "name": "stdout",
     "output_type": "stream",
     "text": [
      "args:  (array([0.43494798, 0.884221  , 0.06899036, 0.6510927 , 0.47749029]), {'zebras': 14, 'giraffes': 3}, ['a', 'b', 'c'])\n",
      "args has  3  elements\n",
      "There are no keyworded arguments\n"
     ]
    }
   ],
   "source": [
    "# input arguments are unpacked into a dictionary called kwargs\n",
    "f = func(input_list1,input_dict,input_list2)"
   ]
  },
  {
   "cell_type": "code",
   "execution_count": 28,
   "metadata": {},
   "outputs": [
    {
     "name": "stdout",
     "output_type": "stream",
     "text": [
      "args:  (array([-0.14537944,  0.06382639, -2.10928876,  0.32416546,  0.69221919]), ['a', 'b', 'c'])\n",
      "args has  2  elements\n",
      "kwargs:  {'input_dict': {'zebras': 14, 'giraffes': 3}}\n",
      "kwargs has  1  elements\n"
     ]
    }
   ],
   "source": [
    "# input has non-keyworded and keyworded arguments\n",
    "input_list1=randn(5)\n",
    "input_dict={'zebras':14, 'giraffes':3}\n",
    "input_list2 = ['a','b','c']\n",
    "\n",
    "# in case of mixed input, non-keyworded arguments must go before keyworded arguments\n",
    "# input non-keyworded arguments are unpacked into a dictionary called kwargs\n",
    "# input keyworded arguments are unpacked into a list called args\n",
    "f = func(input_list1,input_list2,input_dict={'zebras':14, 'giraffes':3})"
   ]
  },
  {
   "cell_type": "markdown",
   "metadata": {},
   "source": [
    "### 3. The use of super() to inherit from parent class"
   ]
  },
  {
   "cell_type": "code",
   "execution_count": 67,
   "metadata": {},
   "outputs": [],
   "source": [
    "class MyParentClass():\n",
    "    def __init__(self, x, y):\n",
    "        # lf.x,self.y=0,0\n",
    "        self.x2,self.y2=x**2,y**2\n",
    "        pass\n",
    "\n",
    "class SubClass1(MyParentClass):\n",
    "    def __init__(self, x, y):\n",
    "        self.x,self.y = x,y\n",
    "\n",
    "class SubClass2(MyParentClass):\n",
    "    #def __init__(self,x,y,a,b):\n",
    "    def __init__(self,x,y,x2,y2):\n",
    "        #self.a,self.b = a,b\n",
    "        self.x,self.y = x,y\n",
    "        super().__init__(x,y)\n"
   ]
  },
  {
   "cell_type": "markdown",
   "metadata": {},
   "source": [
    "#### SubClass1 has an  \\_\\_init\\_\\_() method\n"
   ]
  },
  {
   "cell_type": "code",
   "execution_count": 32,
   "metadata": {},
   "outputs": [
    {
     "name": "stdout",
     "output_type": "stream",
     "text": [
      "Z1.x,Z1.y =  5 10\n"
     ]
    }
   ],
   "source": [
    "Z1 = SubClass1(x=5,y=10)\n",
    "print('Z1.x,Z1.y = ',Z1.x,Z1.y)"
   ]
  },
  {
   "cell_type": "markdown",
   "metadata": {},
   "source": [
    "#### SubClass2 has an  \\_\\_init\\_\\_() method , and additionally inherits the  \\_\\_init\\_\\_() method from ParentClass() via super().\\_\\_init\\_\\_ ()\n"
   ]
  },
  {
   "cell_type": "code",
   "execution_count": 74,
   "metadata": {},
   "outputs": [
    {
     "name": "stdout",
     "output_type": "stream",
     "text": [
      "Z2.x,Z2.y,Z2.x2,Z2.y2 =  2 5 4 25\n"
     ]
    }
   ],
   "source": [
    "Z2 = SubClass2(x=2,y=5,x2=None,y2=None)\n",
    "print('Z2.x,Z2.y,Z2.x2,Z2.y2 = ',Z2.x,Z2.y,Z2.x2,Z2.y2)"
   ]
  },
  {
   "cell_type": "markdown",
   "metadata": {},
   "source": [
    "## 4. Closures\n",
    "\"`Objects` are `data` with `functions` attached. `Closures` are `functions` with `data` attached\"\n",
    "\n",
    "A `Closure` is a `function` object that remembers values in enclosing scopes even if they are not present in memory."
   ]
  },
  {
   "cell_type": "code",
   "execution_count": 75,
   "metadata": {},
   "outputs": [
    {
     "name": "stdout",
     "output_type": "stream",
     "text": [
      "1 2 1 2\n"
     ]
    }
   ],
   "source": [
    "# make_counter() is an example of a closure\n",
    "def make_counter():\n",
    "    i = 0\n",
    "    def counter(): # counter() is a closure\n",
    "        nonlocal i\n",
    "        i += 1\n",
    "        return i\n",
    "    return counter\n",
    "\n",
    "# make two counters\n",
    "c1 = make_counter()\n",
    "c2 = make_counter()\n",
    "\n",
    "# each counter remembers its state from the previous call\n",
    "print (c1(), c1(), c2(), c2())"
   ]
  },
  {
   "cell_type": "code",
   "execution_count": null,
   "metadata": {},
   "outputs": [],
   "source": []
  }
 ],
 "metadata": {
  "kernelspec": {
   "display_name": "Python 3",
   "language": "python",
   "name": "python3"
  },
  "language_info": {
   "codemirror_mode": {
    "name": "ipython",
    "version": 3
   },
   "file_extension": ".py",
   "mimetype": "text/x-python",
   "name": "python",
   "nbconvert_exporter": "python",
   "pygments_lexer": "ipython3",
   "version": "3.7.3"
  }
 },
 "nbformat": 4,
 "nbformat_minor": 2
}
