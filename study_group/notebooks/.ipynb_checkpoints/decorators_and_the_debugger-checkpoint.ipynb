{
 "cells": [
  {
   "cell_type": "markdown",
   "metadata": {},
   "source": [
    "## 1. Decorators\n",
    "### ref: https://realpython.com/primer-on-python-decorators/\n",
    "### A decorator takes a function as input and returns a 'wrapper function' which modifies the original function's behavior. "
   ]
  },
  {
   "cell_type": "markdown",
   "metadata": {},
   "source": [
    "### 1A. Decorating a function"
   ]
  },
  {
   "cell_type": "code",
   "execution_count": null,
   "metadata": {},
   "outputs": [],
   "source": [
    "# define a function\n",
    "def square(x):\n",
    "    return x**2\n",
    "\n",
    "# call the function\n",
    "y = square(5)\n",
    "print(y)"
   ]
  },
  {
   "cell_type": "code",
   "execution_count": null,
   "metadata": {},
   "outputs": [],
   "source": [
    "# 'decorate' the function to modify its operation\n",
    "import functools\n",
    "def my_decorator(func):\n",
    "    # the following line allows the decorated function to remember its original name and documentation string\n",
    "    @functools.wraps(func)\n",
    "    def wrapper(*args,**kwargs):\n",
    "        print(\"Something is happening before the function is called.\")\n",
    "        print(f'function name is {func.__name__!r}, result {func(*args,**kwargs)}')\n",
    "        print(\"Something is happening after the function is called.\")\n",
    "        return func(*args,**kwargs)\n",
    "    return wrapper"
   ]
  },
  {
   "cell_type": "code",
   "execution_count": null,
   "metadata": {},
   "outputs": [],
   "source": [
    "# call the 'decorated' function\n",
    "square = my_decorator(square)\n",
    "square(5)"
   ]
  },
  {
   "cell_type": "code",
   "execution_count": null,
   "metadata": {},
   "outputs": [],
   "source": [
    "square.__repr__"
   ]
  },
  {
   "cell_type": "code",
   "execution_count": null,
   "metadata": {},
   "outputs": [],
   "source": [
    "square.__name__"
   ]
  },
  {
   "cell_type": "markdown",
   "metadata": {},
   "source": [
    "### 1B. \"Syntactic sugar\" \n",
    "@my_decorator applied to square produces a similar object"
   ]
  },
  {
   "cell_type": "code",
   "execution_count": null,
   "metadata": {},
   "outputs": [],
   "source": [
    "@my_decorator\n",
    "def square(x):\n",
    "    '''returns the square of the input number'''\n",
    "    return x**2"
   ]
  },
  {
   "cell_type": "code",
   "execution_count": null,
   "metadata": {},
   "outputs": [],
   "source": [
    "# call the 'decorated' square function\n",
    "y=square(x=5)"
   ]
  },
  {
   "cell_type": "code",
   "execution_count": null,
   "metadata": {},
   "outputs": [],
   "source": [
    "square"
   ]
  },
  {
   "cell_type": "code",
   "execution_count": null,
   "metadata": {},
   "outputs": [],
   "source": [
    "square.__name__"
   ]
  },
  {
   "cell_type": "code",
   "execution_count": null,
   "metadata": {},
   "outputs": [],
   "source": [
    "help(square)"
   ]
  },
  {
   "cell_type": "markdown",
   "metadata": {},
   "source": [
    "## 2. Using the debugger"
   ]
  },
  {
   "cell_type": "code",
   "execution_count": null,
   "metadata": {},
   "outputs": [],
   "source": [
    "import numpy as np\n",
    "from numpy.random import randn\n",
    "import pdb"
   ]
  },
  {
   "cell_type": "code",
   "execution_count": null,
   "metadata": {},
   "outputs": [],
   "source": [
    "# generate a random data vector\n",
    "data = 2*randn(10)\n",
    "print(data)"
   ]
  },
  {
   "cell_type": "code",
   "execution_count": null,
   "metadata": {},
   "outputs": [],
   "source": [
    "# debugger example: define a function to compute the root mean square\n",
    "def root_mean_square(x):\n",
    "    \n",
    "    pdb.set_trace()\n",
    "    \n",
    "    # helper functions\n",
    "    def square(x):\n",
    "        square = x**2\n",
    "        return square\n",
    "    def root(x):\n",
    "        r = np.sqrt(x)\n",
    "        return r\n",
    "    def mean(x):\n",
    "        sum = x.sum()\n",
    "        num = len(x)\n",
    "        m = sum/num\n",
    "        return m\n",
    "    \n",
    "    # computations\n",
    "    # here is a bug!\n",
    "    mean_square = mean(square())\n",
    "    rms = root(mean_square)\n",
    "    \n",
    "    return rms\n",
    "\n",
    "# calculate rms of data\n",
    "root_mean_square(data)"
   ]
  },
  {
   "cell_type": "code",
   "execution_count": null,
   "metadata": {},
   "outputs": [],
   "source": []
  }
 ],
 "metadata": {
  "kernelspec": {
   "display_name": "Python 3",
   "language": "python",
   "name": "python3"
  },
  "language_info": {
   "codemirror_mode": {
    "name": "ipython",
    "version": 3
   },
   "file_extension": ".py",
   "mimetype": "text/x-python",
   "name": "python",
   "nbconvert_exporter": "python",
   "pygments_lexer": "ipython3",
   "version": "3.7.3"
  }
 },
 "nbformat": 4,
 "nbformat_minor": 2
}
