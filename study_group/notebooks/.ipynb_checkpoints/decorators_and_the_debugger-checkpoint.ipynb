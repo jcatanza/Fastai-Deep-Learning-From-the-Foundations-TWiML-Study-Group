{
 "cells": [
  {
   "cell_type": "markdown",
   "metadata": {},
   "source": [
    "## 1. Decorators\n",
    "### ref: https://realpython.com/primer-on-python-decorators/\n",
    "### A decorator takes a function as input and returns a 'wrapper function' which modifies the original function's behavior. "
   ]
  },
  {
   "cell_type": "markdown",
   "metadata": {},
   "source": [
    "### 1A. Decorating a function"
   ]
  },
  {
   "cell_type": "code",
   "execution_count": 1,
   "metadata": {},
   "outputs": [
    {
     "name": "stdout",
     "output_type": "stream",
     "text": [
      "25\n"
     ]
    }
   ],
   "source": [
    "# define a function\n",
    "def square(x):\n",
    "    return x**2\n",
    "\n",
    "# call the function\n",
    "y = square(5)\n",
    "print(y)"
   ]
  },
  {
   "cell_type": "code",
   "execution_count": 2,
   "metadata": {},
   "outputs": [],
   "source": [
    "# 'decorate' the function to modify its operation\n",
    "import functools\n",
    "def my_decorator(func):\n",
    "    # the following line allows the decorated function to remember its original name and documentation string\n",
    "    @functools.wraps(func)\n",
    "    def wrapper(*args,**kwargs):\n",
    "        print(\"Something is happening before the function is called.\")\n",
    "        # !r puts func.__name__ in quotes\n",
    "        print(f'function name is {func.__name__!r}, result {func(*args,**kwargs)}')\n",
    "        print(\"Something is happening after the function is called.\")\n",
    "        return func(*args,**kwargs)\n",
    "    return wrapper"
   ]
  },
  {
   "cell_type": "code",
   "execution_count": 3,
   "metadata": {},
   "outputs": [
    {
     "name": "stdout",
     "output_type": "stream",
     "text": [
      "Something is happening before the function is called.\n",
      "function name is square, result 25\n",
      "Something is happening after the function is called.\n"
     ]
    },
    {
     "data": {
      "text/plain": [
       "25"
      ]
     },
     "execution_count": 3,
     "metadata": {},
     "output_type": "execute_result"
    }
   ],
   "source": [
    "# call the 'decorated' function\n",
    "square = my_decorator(square)\n",
    "square(5)"
   ]
  },
  {
   "cell_type": "code",
   "execution_count": null,
   "metadata": {},
   "outputs": [],
   "source": [
    "square.__repr__"
   ]
  },
  {
   "cell_type": "code",
   "execution_count": null,
   "metadata": {},
   "outputs": [],
   "source": [
    "square.__name__"
   ]
  },
  {
   "cell_type": "markdown",
   "metadata": {},
   "source": [
    "### 1B. \"Syntactic sugar\" \n",
    "@my_decorator applied to square produces a similar object"
   ]
  },
  {
   "cell_type": "code",
   "execution_count": null,
   "metadata": {},
   "outputs": [],
   "source": [
    "@my_decorator\n",
    "def square(x):\n",
    "    '''returns the square of the input number'''\n",
    "    return x**2"
   ]
  },
  {
   "cell_type": "code",
   "execution_count": null,
   "metadata": {},
   "outputs": [],
   "source": [
    "# call the 'decorated' square function\n",
    "y=square(x=5)"
   ]
  },
  {
   "cell_type": "code",
   "execution_count": null,
   "metadata": {},
   "outputs": [],
   "source": [
    "square"
   ]
  },
  {
   "cell_type": "code",
   "execution_count": null,
   "metadata": {},
   "outputs": [],
   "source": [
    "square.__name__"
   ]
  },
  {
   "cell_type": "code",
   "execution_count": null,
   "metadata": {},
   "outputs": [],
   "source": [
    "help(square)"
   ]
  },
  {
   "cell_type": "markdown",
   "metadata": {},
   "source": [
    "## 2. Using the debugger"
   ]
  },
  {
   "cell_type": "markdown",
   "metadata": {},
   "source": [
    "### Debugger Commands\n",
    "From https://docs.python.org/3/library/pdb.html\n",
    "\n",
    "The commands recognized by the debugger are listed below. Most commands can be abbreviated to one or two letters as indicated; e.g. h(elp) means that either h or help can be used to enter the help command (but not he or hel, nor H or Help or HELP). Arguments to commands must be separated by whitespace (spaces or tabs). Optional arguments are enclosed in square brackets ([]) in the command syntax; the square brackets must not be typed. Alternatives in the command syntax are separated by a vertical bar (|).\n",
    "\n",
    "Entering a blank line repeats the last command entered. Exception: if the last command was a list command, the next 11 lines are listed.\n",
    "\n",
    "Commands that the debugger doesn’t recognize are assumed to be Python statements and are executed in the context of the program being debugged. Python statements can also be prefixed with an exclamation point (!). This is a powerful way to inspect the program being debugged; it is even possible to change a variable or call a function. When an exception occurs in such a statement, the exception name is printed but the debugger’s state is not changed.\n",
    "\n",
    "The debugger supports aliases. Aliases can have parameters which allows one a certain level of adaptability to the context under examination.\n",
    "\n",
    "Multiple commands may be entered on a single line, separated by ;;. (A single ; is not used as it is the separator for multiple commands in a line that is passed to the Python parser.) No intelligence is applied to separating the commands; the input is split at the first ;; pair, even if it is in the middle of a quoted string.\n",
    "\n",
    "If a file .pdbrc exists in the user’s home directory or in the current directory, it is read in and executed as if it had been typed at the debugger prompt. This is particularly useful for aliases. If both files exist, the one in the home directory is read first and aliases defined there can be overridden by the local file.\n",
    "\n",
    "Changed in version 3.2: .pdbrc can now contain commands that continue debugging, such as continue or next. Previously, these commands had no effect.\n",
    "\n",
    "h(elp) [command]\n",
    "\n",
    "    Without argument, print the list of available commands. With a command as argument, print help about that command. help pdb displays the full documentation (the docstring of the pdb module). Since the command argument must be an identifier, help exec must be entered to get help on the ! command.\n",
    "\n",
    "w(here)\n",
    "\n",
    "    Print a stack trace, with the most recent frame at the bottom. An arrow indicates the current frame, which determines the context of most commands.\n",
    "\n",
    "d(own) [count]\n",
    "\n",
    "    Move the current frame count (default one) levels down in the stack trace (to a newer frame).\n",
    "\n",
    "u(p) [count]\n",
    "\n",
    "    Move the current frame count (default one) levels up in the stack trace (to an older frame).\n",
    "\n",
    "b(reak) [([filename:]lineno | function) [, condition]]\n",
    "\n",
    "    With a lineno argument, set a break there in the current file. With a function argument, set a break at the first executable statement within that function. The line number may be prefixed with a filename and a colon, to specify a breakpoint in another file (probably one that hasn’t been loaded yet). The file is searched on sys.path. Note that each breakpoint is assigned a number to which all the other breakpoint commands refer.\n",
    "\n",
    "    If a second argument is present, it is an expression which must evaluate to true before the breakpoint is honored.\n",
    "\n",
    "    Without argument, list all breaks, including for each breakpoint, the number of times that breakpoint has been hit, the current ignore count, and the associated condition if any.\n",
    "\n",
    "tbreak [([filename:]lineno | function) [, condition]]\n",
    "\n",
    "    Temporary breakpoint, which is removed automatically when it is first hit. The arguments are the same as for break.\n",
    "\n",
    "cl(ear) [filename:lineno | bpnumber [bpnumber ...]]\n",
    "\n",
    "    With a filename:lineno argument, clear all the breakpoints at this line. With a space separated list of breakpoint numbers, clear those breakpoints. Without argument, clear all breaks (but first ask confirmation).\n",
    "\n",
    "disable [bpnumber [bpnumber ...]]\n",
    "\n",
    "    Disable the breakpoints given as a space separated list of breakpoint numbers. Disabling a breakpoint means it cannot cause the program to stop execution, but unlike clearing a breakpoint, it remains in the list of breakpoints and can be (re-)enabled.\n",
    "\n",
    "enable [bpnumber [bpnumber ...]]\n",
    "\n",
    "    Enable the breakpoints specified.\n",
    "\n",
    "ignore bpnumber [count]\n",
    "\n",
    "    Set the ignore count for the given breakpoint number. If count is omitted, the ignore count is set to 0. A breakpoint becomes active when the ignore count is zero. When non-zero, the count is decremented each time the breakpoint is reached and the breakpoint is not disabled and any associated condition evaluates to true.\n",
    "\n",
    "condition bpnumber [condition]\n",
    "\n",
    "    Set a new condition for the breakpoint, an expression which must evaluate to true before the breakpoint is honored. If condition is absent, any existing condition is removed; i.e., the breakpoint is made unconditional.\n",
    "\n",
    "commands [bpnumber]\n",
    "\n",
    "    Specify a list of commands for breakpoint number bpnumber. The commands themselves appear on the following lines. Type a line containing just end to terminate the commands. An example:\n",
    "\n",
    "    (Pdb) commands 1\n",
    "    (com) p some_variable\n",
    "    (com) end\n",
    "    (Pdb)\n",
    "\n",
    "    To remove all commands from a breakpoint, type commands and follow it immediately with end; that is, give no commands.\n",
    "\n",
    "    With no bpnumber argument, commands refers to the last breakpoint set.\n",
    "\n",
    "    You can use breakpoint commands to start your program up again. Simply use the continue command, or step, or any other command that resumes execution.\n",
    "\n",
    "    Specifying any command resuming execution (currently continue, step, next, return, jump, quit and their abbreviations) terminates the command list (as if that command was immediately followed by end). This is because any time you resume execution (even with a simple next or step), you may encounter another breakpoint—which could have its own command list, leading to ambiguities about which list to execute.\n",
    "\n",
    "    If you use the ‘silent’ command in the command list, the usual message about stopping at a breakpoint is not printed. This may be desirable for breakpoints that are to print a specific message and then continue. If none of the other commands print anything, you see no sign that the breakpoint was reached.\n",
    "\n",
    "s(tep)\n",
    "\n",
    "    Execute the current line, stop at the first possible occasion (either in a function that is called or on the next line in the current function).\n",
    "\n",
    "n(ext)\n",
    "\n",
    "    Continue execution until the next line in the current function is reached or it returns. (The difference between next and step is that step stops inside a called function, while next executes called functions at (nearly) full speed, only stopping at the next line in the current function.)\n",
    "\n",
    "unt(il) [lineno]\n",
    "\n",
    "    Without argument, continue execution until the line with a number greater than the current one is reached.\n",
    "\n",
    "    With a line number, continue execution until a line with a number greater or equal to that is reached. In both cases, also stop when the current frame returns.\n",
    "\n",
    "    Changed in version 3.2: Allow giving an explicit line number.\n",
    "\n",
    "r(eturn)\n",
    "\n",
    "    Continue execution until the current function returns.\n",
    "\n",
    "c(ont(inue))\n",
    "\n",
    "    Continue execution, only stop when a breakpoint is encountered.\n",
    "\n",
    "j(ump) lineno\n",
    "\n",
    "    Set the next line that will be executed. Only available in the bottom-most frame. This lets you jump back and execute code again, or jump forward to skip code that you don’t want to run.\n",
    "\n",
    "    It should be noted that not all jumps are allowed – for instance it is not possible to jump into the middle of a for loop or out of a finally clause.\n",
    "\n",
    "l(ist) [first[, last]]\n",
    "\n",
    "    List source code for the current file. Without arguments, list 11 lines around the current line or continue the previous listing. With . as argument, list 11 lines around the current line. With one argument, list 11 lines around at that line. With two arguments, list the given range; if the second argument is less than the first, it is interpreted as a count.\n",
    "\n",
    "    The current line in the current frame is indicated by ->. If an exception is being debugged, the line where the exception was originally raised or propagated is indicated by >>, if it differs from the current line.\n",
    "\n",
    "    New in version 3.2: The >> marker.\n",
    "\n",
    "ll | longlist\n",
    "\n",
    "    List all source code for the current function or frame. Interesting lines are marked as for list.\n",
    "\n",
    "    New in version 3.2.\n",
    "\n",
    "a(rgs)\n",
    "\n",
    "    Print the argument list of the current function.\n",
    "\n",
    "p expression\n",
    "\n",
    "    Evaluate the expression in the current context and print its value.\n",
    "\n",
    "    Note\n",
    "\n",
    "    print() can also be used, but is not a debugger command — this executes the Python print() function.\n",
    "\n",
    "pp expression\n",
    "\n",
    "    Like the p command, except the value of the expression is pretty-printed using the pprint module.\n",
    "\n",
    "whatis expression\n",
    "\n",
    "    Print the type of the expression.\n",
    "\n",
    "source expression\n",
    "\n",
    "    Try to get source code for the given object and display it.\n",
    "\n",
    "    New in version 3.2.\n",
    "\n",
    "display [expression]\n",
    "\n",
    "    Display the value of the expression if it changed, each time execution stops in the current frame.\n",
    "\n",
    "    Without expression, list all display expressions for the current frame.\n",
    "\n",
    "    New in version 3.2.\n",
    "\n",
    "undisplay [expression]\n",
    "\n",
    "    Do not display the expression any more in the current frame. Without expression, clear all display expressions for the current frame.\n",
    "\n",
    "    New in version 3.2.\n",
    "\n",
    "interact\n",
    "\n",
    "    Start an interactive interpreter (using the code module) whose global namespace contains all the (global and local) names found in the current scope.\n",
    "\n",
    "    New in version 3.2.\n",
    "\n",
    "alias [name [command]]\n",
    "\n",
    "    Create an alias called name that executes command. The command must not be enclosed in quotes. Replaceable parameters can be indicated by %1, %2, and so on, while %* is replaced by all the parameters. If no command is given, the current alias for name is shown. If no arguments are given, all aliases are listed.\n",
    "\n",
    "    Aliases may be nested and can contain anything that can be legally typed at the pdb prompt. Note that internal pdb commands can be overridden by aliases. Such a command is then hidden until the alias is removed. Aliasing is recursively applied to the first word of the command line; all other words in the line are left alone.\n",
    "\n",
    "    As an example, here are two useful aliases (especially when placed in the .pdbrc file):\n",
    "\n",
    "    # Print instance variables (usage \"pi classInst\")\n",
    "    alias pi for k in %1.__dict__.keys(): print(\"%1.\",k,\"=\",%1.__dict__[k])\n",
    "    # Print instance variables in self\n",
    "    alias ps pi self\n",
    "\n",
    "unalias name\n",
    "\n",
    "    Delete the specified alias.\n",
    "\n",
    "! statement\n",
    "\n",
    "    Execute the (one-line) statement in the context of the current stack frame. The exclamation point can be omitted unless the first word of the statement resembles a debugger command. To set a global variable, you can prefix the assignment command with a global statement on the same line, e.g.:\n",
    "\n",
    "    (Pdb) global list_options; list_options = ['-l']\n",
    "    (Pdb)\n",
    "\n",
    "run [args ...]\n",
    "restart [args ...]\n",
    "\n",
    "    Restart the debugged Python program. If an argument is supplied, it is split with shlex and the result is used as the new sys.argv. History, breakpoints, actions and debugger options are preserved. restart is an alias for run.\n",
    "\n",
    "q(uit)\n",
    "\n",
    "    Quit from the debugger. The program being executed is aborted.\n"
   ]
  },
  {
   "cell_type": "code",
   "execution_count": null,
   "metadata": {},
   "outputs": [],
   "source": [
    "import numpy as np\n",
    "from numpy.random import randn\n",
    "import pdb"
   ]
  },
  {
   "cell_type": "code",
   "execution_count": null,
   "metadata": {},
   "outputs": [],
   "source": [
    "# generate a random data vector\n",
    "data = 2*randn(10)\n",
    "print(data)"
   ]
  },
  {
   "cell_type": "code",
   "execution_count": null,
   "metadata": {},
   "outputs": [],
   "source": [
    "# debugger example: define a function to compute the root mean square\n",
    "def root_mean_square(x):\n",
    "    \n",
    "    pdb.set_trace()\n",
    "    \n",
    "    # helper functions\n",
    "    def square(x):\n",
    "        square = x**2\n",
    "        return square\n",
    "    def root(x):\n",
    "        r = np.sqrt(x)\n",
    "        return r\n",
    "    def mean(x):\n",
    "        sum = x.sum()\n",
    "        num = len(x)\n",
    "        m = sum/num\n",
    "        return m\n",
    "    \n",
    "    # computations\n",
    "    # here is a bug!\n",
    "    mean_square = mean(square())\n",
    "    rms = root(mean_square)\n",
    "    \n",
    "    return rms\n",
    "\n",
    "# calculate rms of data\n",
    "root_mean_square(data)"
   ]
  },
  {
   "cell_type": "code",
   "execution_count": null,
   "metadata": {},
   "outputs": [],
   "source": []
  }
 ],
 "metadata": {
  "kernelspec": {
   "display_name": "Python 3",
   "language": "python",
   "name": "python3"
  },
  "language_info": {
   "codemirror_mode": {
    "name": "ipython",
    "version": 3
   },
   "file_extension": ".py",
   "mimetype": "text/x-python",
   "name": "python",
   "nbconvert_exporter": "python",
   "pygments_lexer": "ipython3",
   "version": "3.7.3"
  }
 },
 "nbformat": 4,
 "nbformat_minor": 2
}
