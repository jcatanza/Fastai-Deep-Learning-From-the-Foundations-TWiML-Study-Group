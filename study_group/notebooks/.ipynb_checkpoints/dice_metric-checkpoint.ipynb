{
 "cells": [
  {
   "cell_type": "code",
   "execution_count": 4,
   "metadata": {},
   "outputs": [],
   "source": [
    "%load_ext autoreload\n",
    "%autoreload 2\n",
    "%matplotlib inline"
   ]
  },
  {
   "cell_type": "code",
   "execution_count": 12,
   "metadata": {},
   "outputs": [],
   "source": [
    "#export\n",
    "from exp.nb_05b import *\n",
    "torch.set_num_threads(2)\n",
    "from numpy.random import randn"
   ]
  },
  {
   "cell_type": "markdown",
   "metadata": {},
   "source": [
    "### $dice = \\frac{2(TP)}{2(TP) + FP + FN}$\n",
    "### `iou metric`, used for segmentation problems, is (area of) intersection over (area of) union"
   ]
  },
  {
   "cell_type": "code",
   "execution_count": 67,
   "metadata": {},
   "outputs": [],
   "source": [
    "from fastai.metrics import dice\n",
    "# I think the format is dice(pred_values,true_values), but the input format is not documented..."
   ]
  },
  {
   "cell_type": "code",
   "execution_count": 68,
   "metadata": {},
   "outputs": [
    {
     "name": "stdout",
     "output_type": "stream",
     "text": [
      "tensor(0.6667)\n",
      "tensor(0.5000)\n"
     ]
    }
   ],
   "source": [
    "# test #1 -- behaves as expected\n",
    "preds = tensor([[0.4, 0.6], [0.3, 0.7], [0.2, 0.8], [0.6, 0.4], [0.9, 0.1]])\n",
    "ys = tensor([[1], [0], [1], [0], [1]])\n",
    "print(dice(preds, ys)) # TP = 2, FP = 1, FN = 1\n",
    "print(dice(preds, ys,iou=True))"
   ]
  },
  {
   "cell_type": "code",
   "execution_count": 71,
   "metadata": {},
   "outputs": [
    {
     "name": "stdout",
     "output_type": "stream",
     "text": [
      "tensor(0.7500)\n",
      "tensor(0.6000)\n"
     ]
    }
   ],
   "source": [
    "# test #2 -- don't understand this behavior\n",
    "preds2 = tensor([[1,1], [1,1], [1,1], [0,0], [0,0]])\n",
    "ys2 = tensor([[1], [1], [1], [0], [0]])\n",
    "print(dice(preds2, ys2)) # TP = 2, FP = 0, FN = 0, so should be 1.\n",
    "print(dice(preds2, ys2,iou=True)) # intersection = union = 3 so should be 1."
   ]
  },
  {
   "cell_type": "code",
   "execution_count": 65,
   "metadata": {},
   "outputs": [
    {
     "name": "stdout",
     "output_type": "stream",
     "text": [
      "tensor(0.)\n",
      "tensor(0.)\n"
     ]
    }
   ],
   "source": [
    "# test #3 -- don't understand this behavior\n",
    "# dice = 2*TP/(2*TP + FP + FN) = 1\n",
    "# iou = intersection/union = 1\n",
    "print(dice(ys, ys))\n",
    "print(dice(ys, ys, iou=True))"
   ]
  },
  {
   "cell_type": "code",
   "execution_count": 66,
   "metadata": {},
   "outputs": [
    {
     "name": "stdout",
     "output_type": "stream",
     "text": [
      "tensor(0.3333)\n",
      "tensor(0.2000)\n"
     ]
    }
   ],
   "source": [
    "# test #4 -- don't understand this behavior\n",
    "# 1 TP, 3 FP, 1 FN so dice = 2/(2+3+1) = 1/3\n",
    "# iou = ? intersection = 0, union = 4 so this is not correct...\n",
    "ys3 = tensor([[1,0], [1,0], [0,1], [1,0]])\n",
    "print(dice(ys3, ys3))\n",
    "print(dice(ys3, ys3, iou=True))"
   ]
  },
  {
   "cell_type": "code",
   "execution_count": null,
   "metadata": {},
   "outputs": [],
   "source": []
  }
 ],
 "metadata": {
  "kernelspec": {
   "display_name": "Python 3",
   "language": "python",
   "name": "python3"
  },
  "language_info": {
   "codemirror_mode": {
    "name": "ipython",
    "version": 3
   },
   "file_extension": ".py",
   "mimetype": "text/x-python",
   "name": "python",
   "nbconvert_exporter": "python",
   "pygments_lexer": "ipython3",
   "version": "3.7.3"
  }
 },
 "nbformat": 4,
 "nbformat_minor": 2
}
