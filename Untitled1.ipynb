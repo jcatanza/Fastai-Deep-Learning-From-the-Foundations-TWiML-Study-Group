{
 "cells": [
  {
   "cell_type": "code",
   "execution_count": 1,
   "metadata": {},
   "outputs": [
    {
     "ename": "ModuleNotFoundError",
     "evalue": "No module named 'stddraw'",
     "output_type": "error",
     "traceback": [
      "\u001b[1;31m---------------------------------------------------------------------------\u001b[0m",
      "\u001b[1;31mModuleNotFoundError\u001b[0m                       Traceback (most recent call last)",
      "\u001b[1;32m<ipython-input-1-7ee84506ed1a>\u001b[0m in \u001b[0;36m<module>\u001b[1;34m\u001b[0m\n\u001b[0;32m      3\u001b[0m \u001b[1;31m#-----------------------------------------------------------------------\u001b[0m\u001b[1;33m\u001b[0m\u001b[1;33m\u001b[0m\u001b[1;33m\u001b[0m\u001b[0m\n\u001b[0;32m      4\u001b[0m \u001b[1;33m\u001b[0m\u001b[0m\n\u001b[1;32m----> 5\u001b[1;33m \u001b[1;32mimport\u001b[0m \u001b[0mstddraw\u001b[0m\u001b[1;33m\u001b[0m\u001b[1;33m\u001b[0m\u001b[0m\n\u001b[0m\u001b[0;32m      6\u001b[0m \u001b[1;32mimport\u001b[0m \u001b[0mmath\u001b[0m\u001b[1;33m\u001b[0m\u001b[1;33m\u001b[0m\u001b[0m\n\u001b[0;32m      7\u001b[0m \u001b[1;33m\u001b[0m\u001b[0m\n",
      "\u001b[1;31mModuleNotFoundError\u001b[0m: No module named 'stddraw'"
     ]
    }
   ],
   "source": [
    "#-----------------------------------------------------------------------\n",
    "# clock.py\n",
    "#-----------------------------------------------------------------------\n",
    "\n",
    "import stddraw\n",
    "import math\n",
    "\n",
    "# Draw an animation of the second, minute, and hour hands of an\n",
    "# analog clock.\n",
    "t = 0\n",
    "time = '0:00:00'\n",
    "oldTime = '0:00:00'\n",
    "while True:\n",
    "\n",
    "    # Remainder operator with floats so all hands move every second.\n",
    "    seconds = t % 60\n",
    "    minutes = (t / 60.0) % 60\n",
    "    hours   = (t / 3600.0) % 12\n",
    "\n",
    "    #stddraw.clear()\n",
    "    #stddraw.setPenRadius()\n",
    "\n",
    "    # Draw clock face.\n",
    "    stddraw.setPenColor(stddraw.BLACK)\n",
    "    stddraw.filledCircle(0.5, 0.5, 0.45)\n",
    "\n",
    "    # Draw hour markers.\n",
    "    stddraw.setPenColor(stddraw.BLUE)\n",
    "    for i in range(12):\n",
    "        theta = math.radians(i * 30)\n",
    "        stddraw.filledCircle(0.5 + 0.4 * math.cos(theta), \\\n",
    "                             0.5 + 0.4 * math.sin(theta), .025)\n",
    "\n",
    "    # Draw second hand.\n",
    "    stddraw.setPenRadius(.01)\n",
    "    stddraw.setPenColor(stddraw.YELLOW)\n",
    "    angle1 = math.radians(6 * seconds)\n",
    "    r1 = 0.4\n",
    "    stddraw.line(0.5, 0.5, \\\n",
    "                 0.5 + r1 * math.sin(angle1), \\\n",
    "                 0.5 + r1 * math.cos(angle1))\n",
    "\n",
    "    # Draw minute hand.\n",
    "    stddraw.setPenRadius(.02)\n",
    "    stddraw.setPenColor(stddraw.GRAY)\n",
    "    angle2 = math.radians(6 * minutes)\n",
    "    r2 = 0.3\n",
    "    stddraw.line(0.5, 0.5, \\\n",
    "                 0.5 + r2 * math.sin(angle2), \\\n",
    "                 0.5 + r2 * math.cos(angle2))\n",
    "\n",
    "    # Draw hour hand.\n",
    "    stddraw.setPenRadius(.025)\n",
    "    stddraw.setPenColor(stddraw.WHITE)\n",
    "    angle3 = math.radians(30 * hours)\n",
    "    r3 = 0.2\n",
    "    stddraw.line(0.5, 0.5, \\\n",
    "                 0.5 + r3 * math.sin(angle3), \\\n",
    "                 0.5 + r3 * math.cos(angle3))\n",
    "\n",
    "    # Draw digital time.\n",
    "    stddraw.setPenColor(stddraw.WHITE)\n",
    "    stddraw.text(0.5, 0.02, oldTime)\n",
    "    oldTime = time\n",
    "    second = t          % 60\n",
    "    minute = (t / 60)   % 60\n",
    "    hour   = (t / 3600) % 12\n",
    "    time = '%2d:%02d:%02d' % (hour, minute, second)\n",
    "    stddraw.setPenColor(stddraw.RED)\n",
    "    stddraw.text(0.5, 0.02, time)\n",
    "\n",
    "    # 1000 miliseconds = 1 second\n",
    "    stddraw.show(1000.0)\n",
    "    t += 1\n"
   ]
  },
  {
   "cell_type": "code",
   "execution_count": null,
   "metadata": {},
   "outputs": [],
   "source": []
  }
 ],
 "metadata": {
  "kernelspec": {
   "display_name": "Python 3",
   "language": "python",
   "name": "python3"
  },
  "language_info": {
   "codemirror_mode": {
    "name": "ipython",
    "version": 3
   },
   "file_extension": ".py",
   "mimetype": "text/x-python",
   "name": "python",
   "nbconvert_exporter": "python",
   "pygments_lexer": "ipython3",
   "version": "3.7.3"
  }
 },
 "nbformat": 4,
 "nbformat_minor": 2
}
